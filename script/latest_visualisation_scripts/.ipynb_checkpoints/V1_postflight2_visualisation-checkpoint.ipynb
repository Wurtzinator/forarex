{
 "cells": [
  {
   "cell_type": "code",
   "execution_count": 1,
   "metadata": {},
   "outputs": [],
   "source": [
    "#############################################################################\n",
    "####################Import all packages######################################\n",
    "#############################################################################\n",
    "import os\n",
    "import random\n",
    "import numpy as np\n",
    "#import missingno as msno\n",
    "import seaborn as sns\n",
    "import matplotlib.pyplot as plt\n",
    "from matplotlib import dates as mdates\n",
    "#import pandas_profiling as pp\n",
    "import pandas as pd\n",
    "pd.set_option('display.max_rows', 1000)\n",
    "pd.set_option('display.max_columns', 500)\n",
    "pd.set_option('display.width', 1000)\n",
    "pd.options.mode.chained_assignment = None  # default='warn'\n",
    "# Set working directory\n",
    "#############################################################################\n",
    "# Make Jupyter Notebook show ALL output of a cell, not only the last one\n",
    "from IPython.core.interactiveshell import InteractiveShell\n",
    "InteractiveShell.ast_node_interactivity = \"all\""
   ]
  },
  {
   "cell_type": "code",
   "execution_count": 3,
   "metadata": {},
   "outputs": [],
   "source": [
    "#  READING IN DATA\n",
    "# CLEANED DATA\n",
    "postflight_2 = pd.read_pickle('../../data/filtered/postflight2_filtered.pkl')\n",
    "\n",
    "# FILTERED DATA\n",
    "#post_filt = pd.read_pickle('../new_data/final_data_USE_THIS_ONE/postflight1_filtered.pkl')\n",
    "#postflight1_pressure = pd.read_pickle('../new_data/final_data_USE_THIS_ONE/postflight1_pressure_below_1500.pkl')\n",
    "\n"
   ]
  },
  {
   "cell_type": "code",
   "execution_count": 4,
   "metadata": {},
   "outputs": [],
   "source": [
    "#postflight_2.to_csv('../../data/filtered/postflight2_filtered.csv')"
   ]
  },
  {
   "cell_type": "code",
   "execution_count": 13,
   "metadata": {},
   "outputs": [],
   "source": [
    "## Remove all unncessary columns\n",
    "cols_to_keep = ['timeStamp',\n",
    "                'Exp0_OxygenTemp', 'Exp0_OxygenpercentO2', 'Exp0_PhValue',\n",
    "                'Exp1_OxygenTemp', 'Exp1_OxygenpercentO2',\n",
    "                'Pressure_LateAccess']\n",
    "\n",
    "#pre_and_flight = pre_and_flight[cols_to_keep]\n",
    "postflight_2 = postflight_1[cols_to_keep]\n",
    "#extra = extra[cols_to_keep]"
   ]
  },
  {
   "cell_type": "code",
   "execution_count": 14,
   "metadata": {},
   "outputs": [],
   "source": [
    "# DFs contain negligible amount of missing values (NAs), just drop them\n",
    "#import missingno as msno\n",
    "#msno.matrix(postflight_1)\n",
    "#pre_and_flight.dropna(inplace=True)\n",
    "#postflight_1.dropna(inplace=True)\n",
    "#extra.dropna(inplace=True)"
   ]
  },
  {
   "cell_type": "code",
   "execution_count": 15,
   "metadata": {},
   "outputs": [],
   "source": [
    "postflight_2.reset_index(inplace=True)"
   ]
  },
  {
   "cell_type": "code",
   "execution_count": 16,
   "metadata": {
    "scrolled": true
   },
   "outputs": [
    {
     "data": {
      "text/plain": [
       "Timestamp('2019-03-15 09:49:07')"
      ]
     },
     "execution_count": 16,
     "metadata": {},
     "output_type": "execute_result"
    },
    {
     "data": {
      "text/plain": [
       "Timestamp('2019-04-11 13:01:16')"
      ]
     },
     "execution_count": 16,
     "metadata": {},
     "output_type": "execute_result"
    }
   ],
   "source": [
    "# Check the data range of the final timestamps\n",
    "#pre_and_flight.timeStamp.min()\n",
    "#pre_and_flight.timeStamp.max()\n",
    "postflight_2.timeStamp.min()\n",
    "postflight_2.timeStamp.max()\n",
    "#postflight_2.timeStamp.min()\n",
    "#postflight_2.timeStamp.max()\n",
    "\n",
    "#extra.timeStamp.min()\n",
    "#extra.timeStamp.max()\n"
   ]
  },
  {
   "cell_type": "code",
   "execution_count": 48,
   "metadata": {},
   "outputs": [
    {
     "data": {
      "text/plain": [
       "Index(['index', 'timeStamp', 'Exp0_OxygenTemp', 'Exp0_OxygenpercentO2', 'Exp0_PhValue', 'Exp1_OxygenTemp', 'Exp1_OxygenpercentO2', 'Pressure_LateAccess'], dtype='object')"
      ]
     },
     "execution_count": 48,
     "metadata": {},
     "output_type": "execute_result"
    }
   ],
   "source": [
    "post_filt.columns"
   ]
  },
  {
   "cell_type": "code",
   "execution_count": 47,
   "metadata": {},
   "outputs": [],
   "source": [
    "#date_diff = pd.to_datetime('2019-03-11  13:20:00') - pd.to_datetime('2000-01-01 14:30:02')\n",
    "#postflight_1.timeStamp = postflight_1.timeStamp + date_diff\n",
    "\n"
   ]
  },
  {
   "cell_type": "code",
   "execution_count": 66,
   "metadata": {},
   "outputs": [],
   "source": [
    "#postflight_2['ph_rolling'] = postflight_2.Exp0_PhValue.rolling(100).mean()\n",
    "#postflight_2['OxPer_1_rolling'] = postflight_2.Exp1_OxygenpercentO2.rolling(100).mean()\n",
    "#postflight_2['OxPer_0_rolling'] = postflight_2.Exp0_OxygenpercentO2.rolling(100).mean()\n"
   ]
  },
  {
   "cell_type": "code",
   "execution_count": 10,
   "metadata": {},
   "outputs": [
    {
     "data": {
      "text/plain": [
       "(353578, 13)"
      ]
     },
     "execution_count": 10,
     "metadata": {},
     "output_type": "execute_result"
    },
    {
     "data": {
      "text/html": [
       "<div>\n",
       "<style scoped>\n",
       "    .dataframe tbody tr th:only-of-type {\n",
       "        vertical-align: middle;\n",
       "    }\n",
       "\n",
       "    .dataframe tbody tr th {\n",
       "        vertical-align: top;\n",
       "    }\n",
       "\n",
       "    .dataframe thead th {\n",
       "        text-align: right;\n",
       "    }\n",
       "</style>\n",
       "<table border=\"1\" class=\"dataframe\">\n",
       "  <thead>\n",
       "    <tr style=\"text-align: right;\">\n",
       "      <th></th>\n",
       "      <th>timeStamp</th>\n",
       "      <th>Exp0_OxygenTemp</th>\n",
       "      <th>Exp0_OxygenpercentO2</th>\n",
       "      <th>Exp0_PhValue</th>\n",
       "      <th>Exp1_OxygenTemp</th>\n",
       "      <th>Exp1_OxygenpercentO2</th>\n",
       "      <th>Pressure_LateAccess</th>\n",
       "      <th>year</th>\n",
       "      <th>month</th>\n",
       "      <th>day</th>\n",
       "      <th>hour</th>\n",
       "      <th>minute</th>\n",
       "      <th>second</th>\n",
       "    </tr>\n",
       "  </thead>\n",
       "  <tbody>\n",
       "    <tr>\n",
       "      <th>0</th>\n",
       "      <td>2019-03-15 09:49:07</td>\n",
       "      <td>23.667</td>\n",
       "      <td>19.830</td>\n",
       "      <td>7.078</td>\n",
       "      <td>21.927</td>\n",
       "      <td>1.146</td>\n",
       "      <td>946.6</td>\n",
       "      <td>2019</td>\n",
       "      <td>3</td>\n",
       "      <td>15</td>\n",
       "      <td>9</td>\n",
       "      <td>49</td>\n",
       "      <td>7</td>\n",
       "    </tr>\n",
       "    <tr>\n",
       "      <th>1</th>\n",
       "      <td>2019-03-15 09:49:17</td>\n",
       "      <td>23.672</td>\n",
       "      <td>15.297</td>\n",
       "      <td>7.078</td>\n",
       "      <td>21.927</td>\n",
       "      <td>0.811</td>\n",
       "      <td>946.6</td>\n",
       "      <td>2019</td>\n",
       "      <td>3</td>\n",
       "      <td>15</td>\n",
       "      <td>9</td>\n",
       "      <td>49</td>\n",
       "      <td>17</td>\n",
       "    </tr>\n",
       "    <tr>\n",
       "      <th>2</th>\n",
       "      <td>2019-03-15 09:49:27</td>\n",
       "      <td>23.683</td>\n",
       "      <td>15.297</td>\n",
       "      <td>7.077</td>\n",
       "      <td>21.929</td>\n",
       "      <td>0.804</td>\n",
       "      <td>946.4</td>\n",
       "      <td>2019</td>\n",
       "      <td>3</td>\n",
       "      <td>15</td>\n",
       "      <td>9</td>\n",
       "      <td>49</td>\n",
       "      <td>27</td>\n",
       "    </tr>\n",
       "    <tr>\n",
       "      <th>3</th>\n",
       "      <td>2019-03-15 09:49:37</td>\n",
       "      <td>23.685</td>\n",
       "      <td>15.296</td>\n",
       "      <td>7.076</td>\n",
       "      <td>21.932</td>\n",
       "      <td>0.808</td>\n",
       "      <td>946.3</td>\n",
       "      <td>2019</td>\n",
       "      <td>3</td>\n",
       "      <td>15</td>\n",
       "      <td>9</td>\n",
       "      <td>49</td>\n",
       "      <td>37</td>\n",
       "    </tr>\n",
       "    <tr>\n",
       "      <th>4</th>\n",
       "      <td>2019-03-15 09:49:47</td>\n",
       "      <td>23.685</td>\n",
       "      <td>15.297</td>\n",
       "      <td>7.076</td>\n",
       "      <td>21.937</td>\n",
       "      <td>0.809</td>\n",
       "      <td>946.6</td>\n",
       "      <td>2019</td>\n",
       "      <td>3</td>\n",
       "      <td>15</td>\n",
       "      <td>9</td>\n",
       "      <td>49</td>\n",
       "      <td>47</td>\n",
       "    </tr>\n",
       "    <tr>\n",
       "      <th>5</th>\n",
       "      <td>2019-03-15 10:07:52</td>\n",
       "      <td>0.000</td>\n",
       "      <td>0.000</td>\n",
       "      <td>0.000</td>\n",
       "      <td>0.000</td>\n",
       "      <td>0.000</td>\n",
       "      <td>946.4</td>\n",
       "      <td>2019</td>\n",
       "      <td>3</td>\n",
       "      <td>15</td>\n",
       "      <td>10</td>\n",
       "      <td>7</td>\n",
       "      <td>52</td>\n",
       "    </tr>\n",
       "    <tr>\n",
       "      <th>6</th>\n",
       "      <td>2019-03-15 10:07:57</td>\n",
       "      <td>23.872</td>\n",
       "      <td>19.872</td>\n",
       "      <td>0.000</td>\n",
       "      <td>22.150</td>\n",
       "      <td>4.666</td>\n",
       "      <td>946.4</td>\n",
       "      <td>2019</td>\n",
       "      <td>3</td>\n",
       "      <td>15</td>\n",
       "      <td>10</td>\n",
       "      <td>7</td>\n",
       "      <td>57</td>\n",
       "    </tr>\n",
       "    <tr>\n",
       "      <th>7</th>\n",
       "      <td>2019-03-15 10:08:02</td>\n",
       "      <td>23.872</td>\n",
       "      <td>15.292</td>\n",
       "      <td>7.034</td>\n",
       "      <td>22.150</td>\n",
       "      <td>3.601</td>\n",
       "      <td>946.4</td>\n",
       "      <td>2019</td>\n",
       "      <td>3</td>\n",
       "      <td>15</td>\n",
       "      <td>10</td>\n",
       "      <td>8</td>\n",
       "      <td>2</td>\n",
       "    </tr>\n",
       "    <tr>\n",
       "      <th>8</th>\n",
       "      <td>2019-03-15 10:08:07</td>\n",
       "      <td>23.872</td>\n",
       "      <td>15.289</td>\n",
       "      <td>7.037</td>\n",
       "      <td>22.155</td>\n",
       "      <td>3.616</td>\n",
       "      <td>946.5</td>\n",
       "      <td>2019</td>\n",
       "      <td>3</td>\n",
       "      <td>15</td>\n",
       "      <td>10</td>\n",
       "      <td>8</td>\n",
       "      <td>7</td>\n",
       "    </tr>\n",
       "    <tr>\n",
       "      <th>9</th>\n",
       "      <td>2019-03-15 10:08:12</td>\n",
       "      <td>23.875</td>\n",
       "      <td>15.297</td>\n",
       "      <td>7.039</td>\n",
       "      <td>22.158</td>\n",
       "      <td>3.654</td>\n",
       "      <td>946.4</td>\n",
       "      <td>2019</td>\n",
       "      <td>3</td>\n",
       "      <td>15</td>\n",
       "      <td>10</td>\n",
       "      <td>8</td>\n",
       "      <td>12</td>\n",
       "    </tr>\n",
       "    <tr>\n",
       "      <th>10</th>\n",
       "      <td>2019-03-15 10:08:17</td>\n",
       "      <td>23.872</td>\n",
       "      <td>15.309</td>\n",
       "      <td>7.041</td>\n",
       "      <td>22.168</td>\n",
       "      <td>3.685</td>\n",
       "      <td>946.6</td>\n",
       "      <td>2019</td>\n",
       "      <td>3</td>\n",
       "      <td>15</td>\n",
       "      <td>10</td>\n",
       "      <td>8</td>\n",
       "      <td>17</td>\n",
       "    </tr>\n",
       "    <tr>\n",
       "      <th>11</th>\n",
       "      <td>2019-03-15 10:08:22</td>\n",
       "      <td>23.877</td>\n",
       "      <td>15.301</td>\n",
       "      <td>7.042</td>\n",
       "      <td>22.168</td>\n",
       "      <td>3.697</td>\n",
       "      <td>946.7</td>\n",
       "      <td>2019</td>\n",
       "      <td>3</td>\n",
       "      <td>15</td>\n",
       "      <td>10</td>\n",
       "      <td>8</td>\n",
       "      <td>22</td>\n",
       "    </tr>\n",
       "    <tr>\n",
       "      <th>12</th>\n",
       "      <td>2019-03-15 10:08:27</td>\n",
       "      <td>23.875</td>\n",
       "      <td>15.297</td>\n",
       "      <td>7.044</td>\n",
       "      <td>22.174</td>\n",
       "      <td>3.729</td>\n",
       "      <td>946.5</td>\n",
       "      <td>2019</td>\n",
       "      <td>3</td>\n",
       "      <td>15</td>\n",
       "      <td>10</td>\n",
       "      <td>8</td>\n",
       "      <td>27</td>\n",
       "    </tr>\n",
       "    <tr>\n",
       "      <th>13</th>\n",
       "      <td>2019-03-15 10:08:32</td>\n",
       "      <td>23.867</td>\n",
       "      <td>15.297</td>\n",
       "      <td>7.046</td>\n",
       "      <td>22.179</td>\n",
       "      <td>3.768</td>\n",
       "      <td>946.4</td>\n",
       "      <td>2019</td>\n",
       "      <td>3</td>\n",
       "      <td>15</td>\n",
       "      <td>10</td>\n",
       "      <td>8</td>\n",
       "      <td>32</td>\n",
       "    </tr>\n",
       "    <tr>\n",
       "      <th>14</th>\n",
       "      <td>2019-03-15 10:08:37</td>\n",
       "      <td>23.870</td>\n",
       "      <td>15.300</td>\n",
       "      <td>7.049</td>\n",
       "      <td>22.174</td>\n",
       "      <td>3.788</td>\n",
       "      <td>946.5</td>\n",
       "      <td>2019</td>\n",
       "      <td>3</td>\n",
       "      <td>15</td>\n",
       "      <td>10</td>\n",
       "      <td>8</td>\n",
       "      <td>37</td>\n",
       "    </tr>\n",
       "    <tr>\n",
       "      <th>15</th>\n",
       "      <td>2019-03-15 10:08:42</td>\n",
       "      <td>23.872</td>\n",
       "      <td>15.319</td>\n",
       "      <td>7.049</td>\n",
       "      <td>22.186</td>\n",
       "      <td>3.806</td>\n",
       "      <td>946.5</td>\n",
       "      <td>2019</td>\n",
       "      <td>3</td>\n",
       "      <td>15</td>\n",
       "      <td>10</td>\n",
       "      <td>8</td>\n",
       "      <td>42</td>\n",
       "    </tr>\n",
       "    <tr>\n",
       "      <th>16</th>\n",
       "      <td>2019-03-15 10:08:47</td>\n",
       "      <td>23.872</td>\n",
       "      <td>15.295</td>\n",
       "      <td>7.051</td>\n",
       "      <td>22.189</td>\n",
       "      <td>3.826</td>\n",
       "      <td>946.6</td>\n",
       "      <td>2019</td>\n",
       "      <td>3</td>\n",
       "      <td>15</td>\n",
       "      <td>10</td>\n",
       "      <td>8</td>\n",
       "      <td>47</td>\n",
       "    </tr>\n",
       "    <tr>\n",
       "      <th>17</th>\n",
       "      <td>2019-03-15 10:08:52</td>\n",
       "      <td>23.870</td>\n",
       "      <td>15.314</td>\n",
       "      <td>7.052</td>\n",
       "      <td>22.186</td>\n",
       "      <td>3.842</td>\n",
       "      <td>946.8</td>\n",
       "      <td>2019</td>\n",
       "      <td>3</td>\n",
       "      <td>15</td>\n",
       "      <td>10</td>\n",
       "      <td>8</td>\n",
       "      <td>52</td>\n",
       "    </tr>\n",
       "    <tr>\n",
       "      <th>18</th>\n",
       "      <td>2019-03-15 10:08:57</td>\n",
       "      <td>23.867</td>\n",
       "      <td>15.317</td>\n",
       "      <td>7.054</td>\n",
       "      <td>22.194</td>\n",
       "      <td>3.857</td>\n",
       "      <td>946.3</td>\n",
       "      <td>2019</td>\n",
       "      <td>3</td>\n",
       "      <td>15</td>\n",
       "      <td>10</td>\n",
       "      <td>8</td>\n",
       "      <td>57</td>\n",
       "    </tr>\n",
       "    <tr>\n",
       "      <th>19</th>\n",
       "      <td>2019-03-15 10:09:02</td>\n",
       "      <td>23.862</td>\n",
       "      <td>15.300</td>\n",
       "      <td>7.056</td>\n",
       "      <td>22.194</td>\n",
       "      <td>3.887</td>\n",
       "      <td>946.5</td>\n",
       "      <td>2019</td>\n",
       "      <td>3</td>\n",
       "      <td>15</td>\n",
       "      <td>10</td>\n",
       "      <td>9</td>\n",
       "      <td>2</td>\n",
       "    </tr>\n",
       "  </tbody>\n",
       "</table>\n",
       "</div>"
      ],
      "text/plain": [
       "             timeStamp  Exp0_OxygenTemp  Exp0_OxygenpercentO2  Exp0_PhValue  Exp1_OxygenTemp  Exp1_OxygenpercentO2  Pressure_LateAccess  year  month  day  hour  minute  second\n",
       "0  2019-03-15 09:49:07           23.667                19.830         7.078           21.927                 1.146                946.6  2019      3   15     9      49       7\n",
       "1  2019-03-15 09:49:17           23.672                15.297         7.078           21.927                 0.811                946.6  2019      3   15     9      49      17\n",
       "2  2019-03-15 09:49:27           23.683                15.297         7.077           21.929                 0.804                946.4  2019      3   15     9      49      27\n",
       "3  2019-03-15 09:49:37           23.685                15.296         7.076           21.932                 0.808                946.3  2019      3   15     9      49      37\n",
       "4  2019-03-15 09:49:47           23.685                15.297         7.076           21.937                 0.809                946.6  2019      3   15     9      49      47\n",
       "5  2019-03-15 10:07:52            0.000                 0.000         0.000            0.000                 0.000                946.4  2019      3   15    10       7      52\n",
       "6  2019-03-15 10:07:57           23.872                19.872         0.000           22.150                 4.666                946.4  2019      3   15    10       7      57\n",
       "7  2019-03-15 10:08:02           23.872                15.292         7.034           22.150                 3.601                946.4  2019      3   15    10       8       2\n",
       "8  2019-03-15 10:08:07           23.872                15.289         7.037           22.155                 3.616                946.5  2019      3   15    10       8       7\n",
       "9  2019-03-15 10:08:12           23.875                15.297         7.039           22.158                 3.654                946.4  2019      3   15    10       8      12\n",
       "10 2019-03-15 10:08:17           23.872                15.309         7.041           22.168                 3.685                946.6  2019      3   15    10       8      17\n",
       "11 2019-03-15 10:08:22           23.877                15.301         7.042           22.168                 3.697                946.7  2019      3   15    10       8      22\n",
       "12 2019-03-15 10:08:27           23.875                15.297         7.044           22.174                 3.729                946.5  2019      3   15    10       8      27\n",
       "13 2019-03-15 10:08:32           23.867                15.297         7.046           22.179                 3.768                946.4  2019      3   15    10       8      32\n",
       "14 2019-03-15 10:08:37           23.870                15.300         7.049           22.174                 3.788                946.5  2019      3   15    10       8      37\n",
       "15 2019-03-15 10:08:42           23.872                15.319         7.049           22.186                 3.806                946.5  2019      3   15    10       8      42\n",
       "16 2019-03-15 10:08:47           23.872                15.295         7.051           22.189                 3.826                946.6  2019      3   15    10       8      47\n",
       "17 2019-03-15 10:08:52           23.870                15.314         7.052           22.186                 3.842                946.8  2019      3   15    10       8      52\n",
       "18 2019-03-15 10:08:57           23.867                15.317         7.054           22.194                 3.857                946.3  2019      3   15    10       8      57\n",
       "19 2019-03-15 10:09:02           23.862                15.300         7.056           22.194                 3.887                946.5  2019      3   15    10       9       2"
      ]
     },
     "execution_count": 10,
     "metadata": {},
     "output_type": "execute_result"
    }
   ],
   "source": [
    "postflight_2.shape\n",
    "postflight_2.head(20)"
   ]
  },
  {
   "cell_type": "code",
   "execution_count": 68,
   "metadata": {},
   "outputs": [],
   "source": [
    "# Upsampling DateTimeIndex to also get Missing NaN values so we can show them as missing later in the plot\n",
    "#postflight_1.index = postflight_1.set_index('timeStamp').resample('1S').first().asfreq('s').index\n",
    "#back_postlight = postflight_1.copy()\n",
    "#postflight_1 = postflight_1.set_index('timeStamp').resample('1S').first().asfreq('s')\n"
   ]
  },
  {
   "cell_type": "code",
   "execution_count": 141,
   "metadata": {},
   "outputs": [
    {
     "data": {
      "text/plain": [
       "timeStamp\n",
       "2019-03-11 12:01:27    960.1\n",
       "2019-03-11 12:01:32    960.5\n",
       "2019-03-11 12:01:37    960.5\n",
       "2019-03-11 12:01:43    960.4\n",
       "2019-03-11 12:01:48    960.6\n",
       "2019-03-11 12:01:53    960.6\n",
       "2019-03-11 12:01:58    960.5\n",
       "2019-03-11 12:02:02    960.5\n",
       "2019-03-11 12:02:07    960.2\n",
       "2019-03-11 12:02:12    960.3\n",
       "Name: Pressure_LateAccess, dtype: float64"
      ]
     },
     "execution_count": 141,
     "metadata": {},
     "output_type": "execute_result"
    }
   ],
   "source": [
    "\n",
    "#plt.plot(post_filt.index, post_filt.Pressure_LateAccess, '-', lw=2)\n",
    "#postflight_1[(postflight_1.Pressure_LateAccess < 1300) & (postflight_1.Pressure_LateAccess > 900) ].Pressure_LateAccess.plot()\n",
    "#postflight_1.head(50)\n",
    "#plt.rcParams['figure.figsize'] = 20, 10\n",
    "#plt.rc('font', family='serif', serif='Times')\n",
    "#plt.rc('text', usetex=False)\n",
    "#plt.rc('xtick', labelsize=15)\n",
    "#plt.rc('ytick', labelsize=15)\n",
    "#plt.rc('axes', labelsize=15)\n",
    "#sns.set_style(\"whitegrid\")\n",
    "#postflight_1[(postflight_1.Pressure_LateAccess < 1300) & (postflight_1.Pressure_LateAccess > 900)].Pressure_LateAccess[0:10]\n"
   ]
  },
  {
   "cell_type": "code",
   "execution_count": 17,
   "metadata": {},
   "outputs": [],
   "source": [
    "#postflight_1['timeStamp_2'] = postflight_1.timeStamp.shift(1)\n",
    "#postflight_1['rose'] = (postflight_1[['timeStamp', 'timeStamp_2']].apply(lambda x: (x.timeStamp - x.timeStamp_2)/np.timedelta64(1,'s'),axis=1) > 7)"
   ]
  },
  {
   "cell_type": "code",
   "execution_count": 19,
   "metadata": {},
   "outputs": [
    {
     "data": {
      "text/plain": [
       "168"
      ]
     },
     "execution_count": 19,
     "metadata": {},
     "output_type": "execute_result"
    }
   ],
   "source": [
    "#postflight_1.rose.sum()"
   ]
  },
  {
   "cell_type": "code",
   "execution_count": null,
   "metadata": {},
   "outputs": [],
   "source": [
    "# Now write a for loop, go through the index and where rose == True, append an extra NaN"
   ]
  },
  {
   "cell_type": "code",
   "execution_count": 17,
   "metadata": {},
   "outputs": [],
   "source": [
    "#empty_ser = pd.Series()\n",
    "#import numpy as np\n",
    "\n",
    "#for row in postflight_1.rose.index[0:10]:    \n",
    "#    if postflight_1.loc[row, 'rose'] == False:\n",
    "#        empty_ser.append(postflight_1.loc[row, 'timeStamp'])\n",
    "#    if postflight_1.loc[row, 'rose'] == True:\n",
    "#        empty_ser.append(postflight_1.loc[row, 'timeStamp'])\n",
    "#        empty_ser.append(np.nan)\n",
    "    \n",
    "    \n",
    "    "
   ]
  },
  {
   "cell_type": "code",
   "execution_count": 82,
   "metadata": {},
   "outputs": [],
   "source": [
    "post_filt = postflight_2[(postflight_2.Exp0_OxygenTemp > 15) & (\n",
    "                            postflight_2.Exp1_OxygenTemp > 15) & (\n",
    "                            postflight_2.Exp1_OxygenpercentO2 > 0) & (\n",
    "                            postflight_2.Exp1_OxygenpercentO2 < 100)& (\n",
    "                            postflight_2.Exp0_OxygenpercentO2 > 0) & (\n",
    "                            postflight_2.Exp0_OxygenpercentO2 < 100) & (\n",
    "                            postflight_2.Exp0_OxygenpercentO2 > 0) & (\n",
    "                            postflight_2.Exp0_OxygenpercentO2 < 100\n",
    "                            ) & (\n",
    "                            postflight_2.Pressure_LateAccess < 1040\n",
    "                            ) & (\n",
    "                            postflight_2.Pressure_LateAccess > 900\n",
    "                            ) ]\n",
    "\n"
   ]
  },
  {
   "cell_type": "code",
   "execution_count": 83,
   "metadata": {},
   "outputs": [],
   "source": [
    "post_filt['ph_rolling'] = post_filt.Exp0_PhValue.rolling(100).mean()\n",
    "post_filt['OxPer_1_rolling'] = post_filt.Exp1_OxygenpercentO2.rolling(100).mean()\n",
    "post_filt['OxPer_0_rolling'] = post_filt.Exp0_OxygenpercentO2.rolling(100).mean()\n",
    "post_filt['PressLA'] = post_filt.Pressure_LateAccess.rolling(100).mean()"
   ]
  },
  {
   "cell_type": "code",
   "execution_count": 84,
   "metadata": {
    "scrolled": true
   },
   "outputs": [
    {
     "data": {
      "text/plain": [
       "[<matplotlib.lines.Line2D at 0x7f3fb54d4080>]"
      ]
     },
     "execution_count": 84,
     "metadata": {},
     "output_type": "execute_result"
    },
    {
     "data": {
      "text/plain": [
       "(array([737135., 737139., 737143., 737147., 737150., 737154., 737158.]),\n",
       " <a list of 7 Text xticklabel objects>)"
      ]
     },
     "execution_count": 84,
     "metadata": {},
     "output_type": "execute_result"
    },
    {
     "data": {
      "text/plain": [
       "Text(0, 0.5, 'Water temperature \\n [C°]')"
      ]
     },
     "execution_count": 84,
     "metadata": {},
     "output_type": "execute_result"
    },
    {
     "data": {
      "text/plain": [
       "Text(0.5, 0, 'Time  \\n [Day-Hour:Minute]')"
      ]
     },
     "execution_count": 84,
     "metadata": {},
     "output_type": "execute_result"
    },
    {
     "data": {
      "text/plain": [
       "Text(0.5, 1.0, 'Water temperature [Exp0_Flight module]')"
      ]
     },
     "execution_count": 84,
     "metadata": {},
     "output_type": "execute_result"
    },
    {
     "data": {
      "image/png": "[encoded data removed]",
      "text/plain": [
       "<Figure size 251.064x155.169 with 1 Axes>"
      ]
     },
     "metadata": {},
     "output_type": "display_data"
    }
   ],
   "source": [
    "import numpy as np\n",
    "import matplotlib as mpl\n",
    "from matplotlib import dates as mdates\n",
    "import matplotlib.pyplot as plt\n",
    "\n",
    "plt.rc('font', family='serif', serif='Times')\n",
    "plt.rc('text', usetex=False)\n",
    "plt.rc('xtick', labelsize=4)\n",
    "plt.rc('ytick', labelsize=4)\n",
    "plt.rc('axes', labelsize=6)\n",
    "sns.set_style(\"whitegrid\")\n",
    "\n",
    "# width as measured in inkscape\n",
    "width = 3.487\n",
    "height = width / 1.618\n",
    "\n",
    "fig, ax = plt.subplots()\n",
    "fig.subplots_adjust(left=.15, bottom=.30, right=.99, top=.90)\n",
    "\n",
    "plt.plot( #data= post_filt   ,\n",
    "                 \n",
    "    post_filt.timeStamp,\n",
    "    #                y =\n",
    "    post_filt.Exp0_OxygenTemp\n",
    "            )\n",
    "         \n",
    "\n",
    "plt.gca().xaxis.set_major_formatter(mdates.DateFormatter('%d-%H:%M'))\n",
    "plt.xticks(rotation=30, ha='center', va='top')\n",
    "\n",
    "plt.tick_params(axis='both',bottom=True, top=False, left=True, right=False, direction='out', which='major')\n",
    "\n",
    "ax.set_ylabel(\"Water temperature \\n [C°]\", fontsize='6', fontweight='bold')\n",
    "ax.set_xlabel(\"Time  \\n [Day-Hour:Minute]\", fontsize='6', fontweight='bold')\n",
    "plt.title('Water temperature [Exp0_Flight module]', fontsize='6', fontweight='bold')\n",
    "\n",
    "fig.set_size_inches(width, height)\n",
    "fig.savefig('Water_temperature_Exp0_Flight_module.png', dpi=500)\n"
   ]
  },
  {
   "cell_type": "code",
   "execution_count": 85,
   "metadata": {},
   "outputs": [
    {
     "data": {
      "text/plain": [
       "[<matplotlib.lines.Line2D at 0x7f3fb5455780>]"
      ]
     },
     "execution_count": 85,
     "metadata": {},
     "output_type": "execute_result"
    },
    {
     "data": {
      "text/plain": [
       "(array([737135., 737139., 737143., 737147., 737150., 737154., 737158.]),\n",
       " <a list of 7 Text xticklabel objects>)"
      ]
     },
     "execution_count": 85,
     "metadata": {},
     "output_type": "execute_result"
    },
    {
     "data": {
      "text/plain": [
       "Text(0, 0.5, 'Water temperature \\n [C°]')"
      ]
     },
     "execution_count": 85,
     "metadata": {},
     "output_type": "execute_result"
    },
    {
     "data": {
      "text/plain": [
       "Text(0.5, 0, 'Time  \\n [Day-Hour:Minute]')"
      ]
     },
     "execution_count": 85,
     "metadata": {},
     "output_type": "execute_result"
    },
    {
     "data": {
      "text/plain": [
       "Text(0.5, 1.0, 'Water temperature [Exp1_Flight module]')"
      ]
     },
     "execution_count": 85,
     "metadata": {},
     "output_type": "execute_result"
    },
    {
     "data": {
      "image/png": "[encoded data removed]",
      "text/plain": [
       "<Figure size 251.064x155.169 with 1 Axes>"
      ]
     },
     "metadata": {},
     "output_type": "display_data"
    }
   ],
   "source": [
    "import numpy as np\n",
    "import matplotlib as mpl\n",
    "import matplotlib.pyplot as plt\n",
    "\n",
    "plt.rc('font', family='serif', serif='Times')\n",
    "plt.rc('text', usetex=False)\n",
    "plt.rc('xtick', labelsize=4)\n",
    "plt.rc('ytick', labelsize=4)\n",
    "plt.rc('axes', labelsize=6)\n",
    "sns.set_style(\"whitegrid\")\n",
    "\n",
    "\n",
    "# width as measured in inkscape\n",
    "width = 3.487\n",
    "height = width / 1.618\n",
    "\n",
    "fig, ax = plt.subplots()\n",
    "fig.subplots_adjust(left=.15, bottom=.30, right=.99, top=.90)\n",
    "\n",
    "plt.plot(            \n",
    "            post_filt.timeStamp,\n",
    "             post_filt.Exp1_OxygenTemp\n",
    "            )\n",
    "\n",
    "plt.gca().xaxis.set_major_formatter(mdates.DateFormatter('%d-%H:%M'))\n",
    "plt.xticks(rotation=30, ha='center', va='top')\n",
    "#plt.yticks(fontsize=3)\n",
    "plt.tick_params(axis='both',bottom=True, top=False, left=True, right=False, direction='out', which='major')\n",
    "\n",
    "ax.set_ylabel(\"Water temperature \\n [C°]\", fontsize='6', fontweight='bold')\n",
    "ax.set_xlabel(\"Time  \\n [Day-Hour:Minute]\", fontsize='6', fontweight='bold')\n",
    "plt.title('Water temperature [Exp1_Flight module]', fontsize='6', fontweight='bold')\n",
    "\n",
    "#figure = plot.get_figure()    \n",
    "#figure.set_size_inches(28, 10)\n",
    "#plt.tight_layout()\n",
    "#figure.savefig('../output/Oxy_test.png', dpi=500)\n",
    "\n",
    "fig.set_size_inches(width, height)\n",
    "\n",
    "fig.savefig('Water_temperature_Exp1_Flight_module.png', dpi=1000)\n",
    "#plt.show()"
   ]
  },
  {
   "cell_type": "code",
   "execution_count": 86,
   "metadata": {
    "scrolled": true
   },
   "outputs": [
    {
     "data": {
      "text/plain": [
       "[<matplotlib.lines.Line2D at 0x7f3fb5437cc0>]"
      ]
     },
     "execution_count": 86,
     "metadata": {},
     "output_type": "execute_result"
    },
    {
     "data": {
      "text/plain": [
       "(array([737135., 737139., 737143., 737147., 737150., 737154., 737158.]),\n",
       " <a list of 7 Text xticklabel objects>)"
      ]
     },
     "execution_count": 86,
     "metadata": {},
     "output_type": "execute_result"
    },
    {
     "data": {
      "text/plain": [
       "Text(0, 0.5, 'Oxygen content \\n [%]')"
      ]
     },
     "execution_count": 86,
     "metadata": {},
     "output_type": "execute_result"
    },
    {
     "data": {
      "text/plain": [
       "Text(0.5, 0, 'Time  \\n [Day-Hour:Minute]')"
      ]
     },
     "execution_count": 86,
     "metadata": {},
     "output_type": "execute_result"
    },
    {
     "data": {
      "text/plain": [
       "Text(0.5, 1.0, 'Oxygen content [Exp1_Flight module]')"
      ]
     },
     "execution_count": 86,
     "metadata": {},
     "output_type": "execute_result"
    },
    {
     "data": {
      "image/png": "[encoded data removed]",
      "text/plain": [
       "<Figure size 251.064x155.169 with 1 Axes>"
      ]
     },
     "metadata": {},
     "output_type": "display_data"
    }
   ],
   "source": [
    "import numpy as np\n",
    "import matplotlib as mpl\n",
    "import matplotlib.pyplot as plt\n",
    "sns.set_style(\"whitegrid\")\n",
    "plt.rc('font', family='serif', serif='Times')\n",
    "plt.rc('text', usetex=False)\n",
    "plt.rc('xtick', labelsize=4)\n",
    "plt.rc('ytick', labelsize=4)\n",
    "plt.rc('axes', labelsize=6)\n",
    "\n",
    "\n",
    "\n",
    "# width as measured in inkscape\n",
    "width = 3.487\n",
    "height = width / 1.618\n",
    "\n",
    "fig, ax = plt.subplots()\n",
    "fig.subplots_adjust(left=.15, bottom=.30, right=.99, top=.90)\n",
    "\n",
    "plt.plot(          \n",
    "           post_filt.timeStamp,\n",
    "           post_filt.OxPer_1_rolling\n",
    "            )\n",
    "\n",
    "plt.gca().xaxis.set_major_formatter(mdates.DateFormatter('%d-%H:%M'))\n",
    "plt.xticks(rotation=30, ha='center', va='top')\n",
    "#plt.yticks(fontsize=3)\n",
    "plt.tick_params(axis='both',bottom=True, top=False, left=True, right=False, direction='out', which='major')\n",
    "\n",
    "ax.set_ylabel(\"Oxygen content \\n [%]\", fontsize='6', fontweight='bold')\n",
    "ax.set_xlabel(\"Time  \\n [Day-Hour:Minute]\", fontsize='6', fontweight='bold')\n",
    "plt.title('Oxygen content [Exp1_Flight module]', fontsize='6', fontweight='bold')\n",
    "#plt.show()\n",
    "#figure = plot.get_figure()    \n",
    "#figure.set_size_inches(28, 10)\n",
    "#plt.tight_layout()\n",
    "#figure.savefig('../output/Oxy_test.png', dpi=500)\n",
    "\n",
    "fig.set_size_inches(width, height)\n",
    "fig.savefig('Oxygen_content_Exp1_Flight_module.png', dpi=1000)\n"
   ]
  },
  {
   "cell_type": "code",
   "execution_count": 87,
   "metadata": {},
   "outputs": [
    {
     "data": {
      "text/plain": [
       "[<matplotlib.lines.Line2D at 0x7f3fb55c99b0>]"
      ]
     },
     "execution_count": 87,
     "metadata": {},
     "output_type": "execute_result"
    },
    {
     "data": {
      "text/plain": [
       "(array([737135., 737139., 737143., 737147., 737150., 737154., 737158.]),\n",
       " <a list of 7 Text xticklabel objects>)"
      ]
     },
     "execution_count": 87,
     "metadata": {},
     "output_type": "execute_result"
    },
    {
     "data": {
      "text/plain": [
       "Text(0, 0.5, 'Oxygen content \\n [%]')"
      ]
     },
     "execution_count": 87,
     "metadata": {},
     "output_type": "execute_result"
    },
    {
     "data": {
      "text/plain": [
       "Text(0.5, 0, 'Time  \\n [Day-Hour:Minute]')"
      ]
     },
     "execution_count": 87,
     "metadata": {},
     "output_type": "execute_result"
    },
    {
     "data": {
      "text/plain": [
       "Text(0.5, 1.0, 'Oxygen content [Exp0_Flight module]')"
      ]
     },
     "execution_count": 87,
     "metadata": {},
     "output_type": "execute_result"
    },
    {
     "data": {
      "image/png": "[encoded data removed]",
      "text/plain": [
       "<Figure size 251.064x155.169 with 1 Axes>"
      ]
     },
     "metadata": {},
     "output_type": "display_data"
    }
   ],
   "source": [
    "import numpy as np\n",
    "import matplotlib as mpl\n",
    "import matplotlib.pyplot as plt\n",
    "sns.set_style(\"whitegrid\")\n",
    "plt.rc('font', family='serif', serif='Times')\n",
    "plt.rc('text', usetex=False)\n",
    "plt.rc('xtick', labelsize=4)\n",
    "plt.rc('ytick', labelsize=4)\n",
    "plt.rc('axes', labelsize=6)\n",
    "\n",
    "\n",
    "# width as measured in inkscape\n",
    "width = 3.487\n",
    "height = width / 1.618\n",
    "\n",
    "fig, ax = plt.subplots()\n",
    "fig.subplots_adjust(left=.15, bottom=.30, right=.99, top=.90)\n",
    "\n",
    "plt.plot(\n",
    "    \n",
    "      post_filt.timeStamp,\n",
    "      post_filt.OxPer_0_rolling\n",
    "            )\n",
    "\n",
    "plt.gca().xaxis.set_major_formatter(mdates.DateFormatter('%d-%H:%M'))\n",
    "plt.xticks(rotation=30, ha='center', va='top')\n",
    "#plt.yticks(fontsize=3)\n",
    "plt.tick_params(axis='both',bottom=True, top=False, left=True, right=False, direction='out', which='major')\n",
    "\n",
    "ax.set_ylabel(\"Oxygen content \\n [%]\", fontsize='6', fontweight='bold')\n",
    "ax.set_xlabel(\"Time  \\n [Day-Hour:Minute]\", fontsize='6', fontweight='bold')\n",
    "plt.title('Oxygen content [Exp0_Flight module]', fontsize='6', fontweight='bold')\n",
    "#plt.show()\n",
    "#figure = plot.get_figure()    \n",
    "#figure.set_size_inches(28, 10)\n",
    "#plt.tight_layout()\n",
    "#figure.savefig('../output/Oxy_test.png', dpi=500)\n",
    "\n",
    "fig.set_size_inches(width, height)\n",
    "fig.savefig('Oxygen_content_Exp0_Flight_module.png', dpi=1000)\n"
   ]
  },
  {
   "cell_type": "code",
   "execution_count": 88,
   "metadata": {},
   "outputs": [
    {
     "data": {
      "text/plain": [
       "Index(['index', 'timeStamp', 'Exp0_OxygenTemp', 'Exp0_OxygenpercentO2', 'Exp0_PhValue', 'Exp1_OxygenTemp', 'Exp1_OxygenpercentO2', 'Pressure_LateAccess'], dtype='object')"
      ]
     },
     "execution_count": 88,
     "metadata": {},
     "output_type": "execute_result"
    }
   ],
   "source": [
    "postflight_1.columns\n",
    "\n",
    "#Water temperature [Exp0_Flight module]\n",
    "#Water temperature [Exp1_Flight module]\n",
    "#Oxygen content [Exp0_Flight module]\n",
    "#Oxygen content [Exp1_Flight module]\n",
    "#pH Value [Exp0_Flight module]\n",
    "#Ambient Pressure [Flight module]"
   ]
  },
  {
   "cell_type": "code",
   "execution_count": 89,
   "metadata": {},
   "outputs": [
    {
     "data": {
      "text/plain": [
       "[<matplotlib.lines.Line2D at 0x7f3fb532e438>]"
      ]
     },
     "execution_count": 89,
     "metadata": {},
     "output_type": "execute_result"
    },
    {
     "data": {
      "text/plain": [
       "(array([737135., 737139., 737143., 737147., 737150., 737154., 737158.]),\n",
       " <a list of 7 Text xticklabel objects>)"
      ]
     },
     "execution_count": 89,
     "metadata": {},
     "output_type": "execute_result"
    },
    {
     "data": {
      "text/plain": [
       "Text(0, 0.5, 'Ambient Pressure [Flight module] \\n [hPa]')"
      ]
     },
     "execution_count": 89,
     "metadata": {},
     "output_type": "execute_result"
    },
    {
     "data": {
      "text/plain": [
       "Text(0.5, 0, 'Time  \\n [Day-Hour:Minute]')"
      ]
     },
     "execution_count": 89,
     "metadata": {},
     "output_type": "execute_result"
    },
    {
     "data": {
      "text/plain": [
       "Text(0.5, 1.0, 'Ambient Pressure [Flight module]')"
      ]
     },
     "execution_count": 89,
     "metadata": {},
     "output_type": "execute_result"
    },
    {
     "data": {
      "image/png": "[encoded data removed]",
      "text/plain": [
       "<Figure size 251.064x155.169 with 1 Axes>"
      ]
     },
     "metadata": {},
     "output_type": "display_data"
    }
   ],
   "source": [
    "import numpy as np\n",
    "import matplotlib as mpl\n",
    "\n",
    "import matplotlib.pyplot as plt\n",
    "\n",
    "plt.rc('font', family='serif', serif='Times')\n",
    "plt.rc('text', usetex=False)\n",
    "plt.rc('xtick', labelsize=4)\n",
    "plt.rc('ytick', labelsize=4)\n",
    "plt.rc('axes', labelsize=6)\n",
    "sns.set_style(\"whitegrid\")\n",
    "\n",
    "# width as measured in inkscape\n",
    "width = 3.487\n",
    "height = width / 1.618\n",
    "\n",
    "fig, ax = plt.subplots()\n",
    "fig.subplots_adjust(left=.15, bottom=.30, right=.99, top=.90)\n",
    "\n",
    "plt.plot(\n",
    "          \n",
    "           post_filt.timeStamp,\n",
    "            post_filt.PressLA)\n",
    "\n",
    "plt.gca().xaxis.set_major_formatter(mdates.DateFormatter('%d-%H:%M'))\n",
    "plt.xticks(rotation=30, ha='center', va='top')\n",
    "#plt.yticks(fontsize=3)\n",
    "plt.tick_params(axis='both',bottom=True, top=False, left=True, right=False, direction='out', which='major')\n",
    "\n",
    "ax.set_ylabel(\"Ambient Pressure [Flight module] \\n [hPa]\", fontsize='6', fontweight='bold')\n",
    "ax.set_xlabel(\"Time  \\n [Day-Hour:Minute]\", fontsize='6', fontweight='bold')\n",
    "plt.title('Ambient Pressure [Flight module]', fontsize='6', fontweight='bold')\n",
    "#plt.show()\n",
    "#figure = plot.get_figure()    \n",
    "#figure.set_size_inches(28, 10)\n",
    "#plt.tight_layout()\n",
    "#figure.savefig('../output/Oxy_test.png', dpi=500)\n",
    "\n",
    "fig.set_size_inches(width, height)\n",
    "fig.savefig('Ambient_Pressure_Flight_module.png', dpi=1000)\n",
    "\n",
    "\n"
   ]
  },
  {
   "cell_type": "code",
   "execution_count": null,
   "metadata": {},
   "outputs": [],
   "source": [
    "import numpy as np\n",
    "import matplotlib as mpl\n",
    "\n",
    "import matplotlib.pyplot as plt\n",
    "\n",
    "plt.rc('font', family='serif', serif='Times')\n",
    "plt.rc('text', usetex=False)\n",
    "plt.rc('xtick', labelsize=4)\n",
    "plt.rc('ytick', labelsize=4)\n",
    "plt.rc('axes', labelsize=6)\n",
    "sns.set_style(\"whitegrid\")\n",
    "\n",
    "# width as measured in inkscape\n",
    "width = 3.487\n",
    "height = width / 1.618\n",
    "\n",
    "fig, ax = plt.subplots()\n",
    "fig.subplots_adjust(left=.15, bottom=.30, right=.99, top=.90)\n",
    "\n",
    "plt.plot(           \n",
    "           post_filt.timeStamp,\n",
    "           post_filt.ph_rolling)\n",
    "\n",
    "plt.gca().xaxis.set_major_formatter(mdates.DateFormatter('%d-%H:%M'))\n",
    "plt.xticks(rotation=30, ha='center', va='top')\n",
    "#plt.yticks(fontsize=3)\n",
    "plt.tick_params(axis='both',bottom=True, top=False, left=True, right=False, direction='out', which='major')\n",
    "\n",
    "ax.set_ylabel(\"pH Value\", fontsize='6', fontweight='bold')\n",
    "ax.set_xlabel(\"Time  \\n [Day-Hour:Minute]\", fontsize='6', fontweight='bold')\n",
    "plt.title('pH Value [Exp0_Flight module]', fontsize='6', fontweight='bold')\n",
    "#plt.show()\n",
    "#figure = plot.get_figure()    \n",
    "#figure.set_size_inches(28, 10)\n",
    "#plt.tight_layout()\n",
    "#figure.savefig('../output/Oxy_test.png', dpi=500)\n",
    "\n",
    "fig.set_size_inches(width, height)\n",
    "fig.savefig('Exp0_PhValue_Flight_module.png', dpi=1000)\n",
    "\n",
    "\n"
   ]
  },
  {
   "cell_type": "code",
   "execution_count": null,
   "metadata": {},
   "outputs": [],
   "source": [
    "#post_filt.to_csv('../new_data/final_data_USE_THIS_ONE/postflight1_filtered.csv')\n",
    "#postflight_1[postflight_1.Pressure_LateAccess < 1500].to_csv('../new_data/final_data_USE_THIS_ONE/postflight1_pressure_below_1500.csv')\n",
    "post_filt.to_pickle('../../new_data/final_data_USE_THIS_ONE/postflight2_filtered.pkl')\n",
    "#postflight_1[postflight_1.Pressure_LateAccess < 1500].to_pickle('../new_data/final_data_USE_THIS_ONE/postflight1_pressure_below_1500.pkl')"
   ]
  }
 ],
 "metadata": {
  "kernelspec": {
   "display_name": "Python 3",
   "language": "python",
   "name": "python3"
  },
  "language_info": {
   "codemirror_mode": {
    "name": "ipython",
    "version": 3
   },
   "file_extension": ".py",
   "mimetype": "text/x-python",
   "name": "python",
   "nbconvert_exporter": "python",
   "pygments_lexer": "ipython3",
   "version": "3.6.8"
  }
 },
 "nbformat": 4,
 "nbformat_minor": 2
}
