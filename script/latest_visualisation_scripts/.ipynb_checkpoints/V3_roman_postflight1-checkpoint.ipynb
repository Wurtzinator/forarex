{
 "cells": [
  {
   "cell_type": "code",
   "execution_count": 6,
   "metadata": {},
   "outputs": [
    {
     "ename": "SyntaxError",
     "evalue": "invalid syntax (<ipython-input-6-3471237f3493>, line 13)",
     "output_type": "error",
     "traceback": [
      "\u001b[0;36m  File \u001b[0;32m\"<ipython-input-6-3471237f3493>\"\u001b[0;36m, line \u001b[0;32m13\u001b[0m\n\u001b[0;31m    pd.set_option('display.max_rows', 1000)t\u001b[0m\n\u001b[0m                                           ^\u001b[0m\n\u001b[0;31mSyntaxError\u001b[0m\u001b[0;31m:\u001b[0m invalid syntax\n"
     ]
    }
   ],
   "source": [
    "#############################################################################\n",
    "####################Import all packages######################################\n",
    "#############################################################################\n",
    "import os\n",
    "import random\n",
    "import numpy as np\n",
    "#import missingno as msno\n",
    "import seaborn as sns\n",
    "import matplotlib.pyplot as plt\n",
    "from matplotlib import dates as mdates\n",
    "#import pandas_profiling as pp\n",
    "import pandas as pd\n",
    "pd.set_option('display.max_rows', 1000)t\n",
    "pd.set_option('display.max_columns', 500)\n",
    "pd.set_option('display.width', 1000)\n",
    "pd.options.mode.chained_assignment = None  # default='warn'\n",
    "# Set working directory\n",
    "#############################################################################\n",
    "# Make Jupyter Notebook show ALL output of a cell, not only the last one\n",
    "from IPython.core.interactiveshell import InteractiveShell\n",
    "InteractiveShell.ast_node_interactivity = \"all\""
   ]
  },
  {
   "cell_type": "code",
   "execution_count": 10,
   "metadata": {},
   "outputs": [
    {
     "data": {
      "text/plain": [
       "'/home/taco/Documents/greta_forarex/script/latest_visualisation_scripts'"
      ]
     },
     "execution_count": 10,
     "metadata": {},
     "output_type": "execute_result"
    }
   ],
   "source": [
    "#  READING IN DATA\n",
    "# CLEANED DATA\n",
    "#os.getcwd()\n",
    "postflight_1 = pd.read_pickle(r'../../data/filtered/postflight1_filtered.pkl')\n",
    "#postflight_1 = pd.read_csv(r'../data/filtered/postflight_1_clean.csv')\n",
    "\n",
    "# FILTERED DATA\n",
    "#post_filt = pd.read_pickle('../new_data/final_data_USE_THIS_ONE/postflight1_filtered.pkl')\n",
    "#postflight1_pressure = pd.read_pickle('../new_data/final_data_USE_THIS_ONE/postflight1_pressure_below_1500.pkl')\n",
    "\n"
   ]
  },
  {
   "cell_type": "code",
   "execution_count": 11,
   "metadata": {},
   "outputs": [],
   "source": [
    "## Remove all unncessary columns\n",
    "cols_to_keep = ['timeStamp',\n",
    "                'Exp0_OxygenTemp', 'Exp0_OxygenpercentO2', 'Exp0_PhValue',\n",
    "                'Exp1_OxygenTemp', 'Exp1_OxygenpercentO2',\n",
    "                'Pressure_LateAccess']\n",
    "\n",
    "#pre_and_flight = pre_and_flight[cols_to_keep]\n",
    "postflight_1 = postflight_1[cols_to_keep]\n",
    "#extra = extra[cols_to_keep]"
   ]
  },
  {
   "cell_type": "code",
   "execution_count": 12,
   "metadata": {},
   "outputs": [],
   "source": [
    "# DFs contain negligible amount of missing values (NAs), just drop them\n",
    "#import missingno as msno\n",
    "#msno.matrix(postflight_1)\n",
    "#pre_and_flight.dropna(inplace=True)\n",
    "#postflight_1.dropna(inplace=True)\n",
    "#extra.dropna(inplace=True)"
   ]
  },
  {
   "cell_type": "code",
   "execution_count": 13,
   "metadata": {},
   "outputs": [],
   "source": [
    "postflight_1.reset_index(inplace=True)"
   ]
  },
  {
   "cell_type": "code",
   "execution_count": 14,
   "metadata": {
    "scrolled": true
   },
   "outputs": [
    {
     "data": {
      "text/plain": [
       "Timestamp('2019-03-11 12:01:32')"
      ]
     },
     "execution_count": 14,
     "metadata": {},
     "output_type": "execute_result"
    },
    {
     "data": {
      "text/plain": [
       "Timestamp('2019-03-14 06:23:11')"
      ]
     },
     "execution_count": 14,
     "metadata": {},
     "output_type": "execute_result"
    }
   ],
   "source": [
    "# Check the data range of the final timestamps\n",
    "#pre_and_flight.timeStamp.min()\n",
    "#pre_and_flight.timeStamp.max()\n",
    "postflight_1.timeStamp.min()\n",
    "postflight_1.timeStamp.max()\n",
    "#postflight_2.timeStamp.min()\n",
    "#postflight_2.timeStamp.max()\n",
    "\n",
    "#extra.timeStamp.min()\n",
    "#extra.timeStamp.max()\n"
   ]
  },
  {
   "cell_type": "code",
   "execution_count": 15,
   "metadata": {},
   "outputs": [],
   "source": [
    "#date_diff = pd.to_datetime('2019-03-11  13:20:00') - pd.to_datetime('2000-01-01 14:30:02')\n",
    "#postflight_1.timeStamp = postflight_1.timeStamp + date_diff\n",
    "\n",
    "postflight_1['ph_rolling'] = postflight_1.Exp0_PhValue.rolling(100).mean()"
   ]
  },
  {
   "cell_type": "code",
   "execution_count": 16,
   "metadata": {},
   "outputs": [
    {
     "data": {
      "text/html": [
       "<div>\n",
       "<style scoped>\n",
       "    .dataframe tbody tr th:only-of-type {\n",
       "        vertical-align: middle;\n",
       "    }\n",
       "\n",
       "    .dataframe tbody tr th {\n",
       "        vertical-align: top;\n",
       "    }\n",
       "\n",
       "    .dataframe thead th {\n",
       "        text-align: right;\n",
       "    }\n",
       "</style>\n",
       "<table border=\"1\" class=\"dataframe\">\n",
       "  <thead>\n",
       "    <tr style=\"text-align: right;\">\n",
       "      <th></th>\n",
       "      <th>index</th>\n",
       "      <th>timeStamp</th>\n",
       "      <th>Exp0_OxygenTemp</th>\n",
       "      <th>Exp0_OxygenpercentO2</th>\n",
       "      <th>Exp0_PhValue</th>\n",
       "      <th>Exp1_OxygenTemp</th>\n",
       "      <th>Exp1_OxygenpercentO2</th>\n",
       "      <th>Pressure_LateAccess</th>\n",
       "      <th>ph_rolling</th>\n",
       "    </tr>\n",
       "  </thead>\n",
       "  <tbody>\n",
       "    <tr>\n",
       "      <th>0</th>\n",
       "      <td>99</td>\n",
       "      <td>2019-03-11 12:01:32</td>\n",
       "      <td>15.238</td>\n",
       "      <td>8.650</td>\n",
       "      <td>6.981</td>\n",
       "      <td>13.522</td>\n",
       "      <td>4.719</td>\n",
       "      <td>960.5</td>\n",
       "      <td>NaN</td>\n",
       "    </tr>\n",
       "    <tr>\n",
       "      <th>1</th>\n",
       "      <td>100</td>\n",
       "      <td>2019-03-11 12:01:37</td>\n",
       "      <td>15.251</td>\n",
       "      <td>8.692</td>\n",
       "      <td>6.981</td>\n",
       "      <td>13.535</td>\n",
       "      <td>4.711</td>\n",
       "      <td>960.5</td>\n",
       "      <td>NaN</td>\n",
       "    </tr>\n",
       "    <tr>\n",
       "      <th>2</th>\n",
       "      <td>101</td>\n",
       "      <td>2019-03-11 12:01:43</td>\n",
       "      <td>15.257</td>\n",
       "      <td>8.690</td>\n",
       "      <td>6.981</td>\n",
       "      <td>13.545</td>\n",
       "      <td>4.717</td>\n",
       "      <td>960.4</td>\n",
       "      <td>NaN</td>\n",
       "    </tr>\n",
       "    <tr>\n",
       "      <th>3</th>\n",
       "      <td>102</td>\n",
       "      <td>2019-03-11 12:01:48</td>\n",
       "      <td>15.267</td>\n",
       "      <td>8.712</td>\n",
       "      <td>6.980</td>\n",
       "      <td>13.561</td>\n",
       "      <td>4.716</td>\n",
       "      <td>960.6</td>\n",
       "      <td>NaN</td>\n",
       "    </tr>\n",
       "    <tr>\n",
       "      <th>4</th>\n",
       "      <td>103</td>\n",
       "      <td>2019-03-11 12:01:53</td>\n",
       "      <td>15.275</td>\n",
       "      <td>8.727</td>\n",
       "      <td>6.980</td>\n",
       "      <td>13.561</td>\n",
       "      <td>4.722</td>\n",
       "      <td>960.6</td>\n",
       "      <td>NaN</td>\n",
       "    </tr>\n",
       "    <tr>\n",
       "      <th>5</th>\n",
       "      <td>104</td>\n",
       "      <td>2019-03-11 12:01:58</td>\n",
       "      <td>15.303</td>\n",
       "      <td>8.761</td>\n",
       "      <td>6.982</td>\n",
       "      <td>13.581</td>\n",
       "      <td>4.703</td>\n",
       "      <td>960.5</td>\n",
       "      <td>NaN</td>\n",
       "    </tr>\n",
       "    <tr>\n",
       "      <th>6</th>\n",
       "      <td>105</td>\n",
       "      <td>2019-03-11 12:02:02</td>\n",
       "      <td>15.306</td>\n",
       "      <td>8.779</td>\n",
       "      <td>6.982</td>\n",
       "      <td>13.587</td>\n",
       "      <td>4.715</td>\n",
       "      <td>960.5</td>\n",
       "      <td>NaN</td>\n",
       "    </tr>\n",
       "    <tr>\n",
       "      <th>7</th>\n",
       "      <td>106</td>\n",
       "      <td>2019-03-11 12:02:07</td>\n",
       "      <td>15.319</td>\n",
       "      <td>8.810</td>\n",
       "      <td>6.983</td>\n",
       "      <td>13.594</td>\n",
       "      <td>4.713</td>\n",
       "      <td>960.2</td>\n",
       "      <td>NaN</td>\n",
       "    </tr>\n",
       "    <tr>\n",
       "      <th>8</th>\n",
       "      <td>107</td>\n",
       "      <td>2019-03-11 12:02:12</td>\n",
       "      <td>15.335</td>\n",
       "      <td>8.790</td>\n",
       "      <td>6.983</td>\n",
       "      <td>13.599</td>\n",
       "      <td>4.711</td>\n",
       "      <td>960.3</td>\n",
       "      <td>NaN</td>\n",
       "    </tr>\n",
       "    <tr>\n",
       "      <th>9</th>\n",
       "      <td>108</td>\n",
       "      <td>2019-03-11 12:02:17</td>\n",
       "      <td>15.355</td>\n",
       "      <td>8.861</td>\n",
       "      <td>6.985</td>\n",
       "      <td>13.625</td>\n",
       "      <td>4.715</td>\n",
       "      <td>960.2</td>\n",
       "      <td>NaN</td>\n",
       "    </tr>\n",
       "    <tr>\n",
       "      <th>10</th>\n",
       "      <td>109</td>\n",
       "      <td>2019-03-11 12:02:22</td>\n",
       "      <td>15.394</td>\n",
       "      <td>8.960</td>\n",
       "      <td>6.984</td>\n",
       "      <td>13.654</td>\n",
       "      <td>4.711</td>\n",
       "      <td>960.4</td>\n",
       "      <td>NaN</td>\n",
       "    </tr>\n",
       "    <tr>\n",
       "      <th>11</th>\n",
       "      <td>110</td>\n",
       "      <td>2019-03-11 12:02:27</td>\n",
       "      <td>15.405</td>\n",
       "      <td>8.968</td>\n",
       "      <td>6.985</td>\n",
       "      <td>13.654</td>\n",
       "      <td>4.707</td>\n",
       "      <td>960.2</td>\n",
       "      <td>NaN</td>\n",
       "    </tr>\n",
       "    <tr>\n",
       "      <th>12</th>\n",
       "      <td>111</td>\n",
       "      <td>2019-03-11 12:02:33</td>\n",
       "      <td>15.418</td>\n",
       "      <td>8.996</td>\n",
       "      <td>6.985</td>\n",
       "      <td>13.670</td>\n",
       "      <td>4.707</td>\n",
       "      <td>960.8</td>\n",
       "      <td>NaN</td>\n",
       "    </tr>\n",
       "    <tr>\n",
       "      <th>13</th>\n",
       "      <td>112</td>\n",
       "      <td>2019-03-11 12:02:38</td>\n",
       "      <td>15.420</td>\n",
       "      <td>9.021</td>\n",
       "      <td>6.985</td>\n",
       "      <td>13.677</td>\n",
       "      <td>4.706</td>\n",
       "      <td>960.4</td>\n",
       "      <td>NaN</td>\n",
       "    </tr>\n",
       "    <tr>\n",
       "      <th>14</th>\n",
       "      <td>113</td>\n",
       "      <td>2019-03-11 12:02:43</td>\n",
       "      <td>15.446</td>\n",
       "      <td>9.075</td>\n",
       "      <td>6.987</td>\n",
       "      <td>13.701</td>\n",
       "      <td>4.701</td>\n",
       "      <td>960.5</td>\n",
       "      <td>NaN</td>\n",
       "    </tr>\n",
       "    <tr>\n",
       "      <th>15</th>\n",
       "      <td>114</td>\n",
       "      <td>2019-03-11 12:02:48</td>\n",
       "      <td>15.483</td>\n",
       "      <td>9.133</td>\n",
       "      <td>6.987</td>\n",
       "      <td>13.735</td>\n",
       "      <td>4.704</td>\n",
       "      <td>960.4</td>\n",
       "      <td>NaN</td>\n",
       "    </tr>\n",
       "    <tr>\n",
       "      <th>16</th>\n",
       "      <td>115</td>\n",
       "      <td>2019-03-11 12:02:52</td>\n",
       "      <td>15.490</td>\n",
       "      <td>9.187</td>\n",
       "      <td>6.986</td>\n",
       "      <td>13.742</td>\n",
       "      <td>4.700</td>\n",
       "      <td>960.3</td>\n",
       "      <td>NaN</td>\n",
       "    </tr>\n",
       "    <tr>\n",
       "      <th>17</th>\n",
       "      <td>116</td>\n",
       "      <td>2019-03-11 12:02:57</td>\n",
       "      <td>15.501</td>\n",
       "      <td>9.166</td>\n",
       "      <td>6.988</td>\n",
       "      <td>13.753</td>\n",
       "      <td>4.699</td>\n",
       "      <td>960.7</td>\n",
       "      <td>NaN</td>\n",
       "    </tr>\n",
       "    <tr>\n",
       "      <th>18</th>\n",
       "      <td>117</td>\n",
       "      <td>2019-03-11 12:03:02</td>\n",
       "      <td>15.509</td>\n",
       "      <td>9.186</td>\n",
       "      <td>6.987</td>\n",
       "      <td>13.761</td>\n",
       "      <td>4.702</td>\n",
       "      <td>960.4</td>\n",
       "      <td>NaN</td>\n",
       "    </tr>\n",
       "    <tr>\n",
       "      <th>19</th>\n",
       "      <td>118</td>\n",
       "      <td>2019-03-11 12:03:07</td>\n",
       "      <td>15.514</td>\n",
       "      <td>9.204</td>\n",
       "      <td>6.988</td>\n",
       "      <td>13.771</td>\n",
       "      <td>4.701</td>\n",
       "      <td>960.5</td>\n",
       "      <td>NaN</td>\n",
       "    </tr>\n",
       "  </tbody>\n",
       "</table>\n",
       "</div>"
      ],
      "text/plain": [
       "    index           timeStamp  Exp0_OxygenTemp  Exp0_OxygenpercentO2  Exp0_PhValue  Exp1_OxygenTemp  Exp1_OxygenpercentO2  Pressure_LateAccess  ph_rolling\n",
       "0      99 2019-03-11 12:01:32           15.238                 8.650         6.981           13.522                 4.719                960.5         NaN\n",
       "1     100 2019-03-11 12:01:37           15.251                 8.692         6.981           13.535                 4.711                960.5         NaN\n",
       "2     101 2019-03-11 12:01:43           15.257                 8.690         6.981           13.545                 4.717                960.4         NaN\n",
       "3     102 2019-03-11 12:01:48           15.267                 8.712         6.980           13.561                 4.716                960.6         NaN\n",
       "4     103 2019-03-11 12:01:53           15.275                 8.727         6.980           13.561                 4.722                960.6         NaN\n",
       "5     104 2019-03-11 12:01:58           15.303                 8.761         6.982           13.581                 4.703                960.5         NaN\n",
       "6     105 2019-03-11 12:02:02           15.306                 8.779         6.982           13.587                 4.715                960.5         NaN\n",
       "7     106 2019-03-11 12:02:07           15.319                 8.810         6.983           13.594                 4.713                960.2         NaN\n",
       "8     107 2019-03-11 12:02:12           15.335                 8.790         6.983           13.599                 4.711                960.3         NaN\n",
       "9     108 2019-03-11 12:02:17           15.355                 8.861         6.985           13.625                 4.715                960.2         NaN\n",
       "10    109 2019-03-11 12:02:22           15.394                 8.960         6.984           13.654                 4.711                960.4         NaN\n",
       "11    110 2019-03-11 12:02:27           15.405                 8.968         6.985           13.654                 4.707                960.2         NaN\n",
       "12    111 2019-03-11 12:02:33           15.418                 8.996         6.985           13.670                 4.707                960.8         NaN\n",
       "13    112 2019-03-11 12:02:38           15.420                 9.021         6.985           13.677                 4.706                960.4         NaN\n",
       "14    113 2019-03-11 12:02:43           15.446                 9.075         6.987           13.701                 4.701                960.5         NaN\n",
       "15    114 2019-03-11 12:02:48           15.483                 9.133         6.987           13.735                 4.704                960.4         NaN\n",
       "16    115 2019-03-11 12:02:52           15.490                 9.187         6.986           13.742                 4.700                960.3         NaN\n",
       "17    116 2019-03-11 12:02:57           15.501                 9.166         6.988           13.753                 4.699                960.7         NaN\n",
       "18    117 2019-03-11 12:03:02           15.509                 9.186         6.987           13.761                 4.702                960.4         NaN\n",
       "19    118 2019-03-11 12:03:07           15.514                 9.204         6.988           13.771                 4.701                960.5         NaN"
      ]
     },
     "execution_count": 16,
     "metadata": {},
     "output_type": "execute_result"
    }
   ],
   "source": [
    "postflight_1.head(20)"
   ]
  },
  {
   "cell_type": "code",
   "execution_count": 68,
   "metadata": {},
   "outputs": [],
   "source": [
    "# Upsampling DateTimeIndex to also get Missing NaN values so we can show them as missing later in the plot\n",
    "#postflight_1.index = postflight_1.set_index('timeStamp').resample('1S').first().asfreq('s').index\n",
    "#back_postlight = postflight_1.copy()\n",
    "#postflight_1 = postflight_1.set_index('timeStamp').resample('1S').first().asfreq('s')\n"
   ]
  },
  {
   "cell_type": "code",
   "execution_count": 17,
   "metadata": {},
   "outputs": [],
   "source": [
    "# Filter for proper plotting\n",
    "post_filt = postflight_1[(postflight_1.Pressure_LateAccess < 1300) & (postflight_1.Exp0_OxygenTemp <60) & (postflight_1.Exp0_OxygenTemp >1) & (postflight_1.Exp1_OxygenTemp >1) & (postflight_1.Exp0_OxygenpercentO2 < 50) & (postflight_1.Exp1_OxygenpercentO2 < 50)  & (postflight_1.Exp1_OxygenpercentO2 > 0) & (postflight_1.ph_rolling < 20) & (postflight_1.ph_rolling > 0)]"
   ]
  },
  {
   "cell_type": "code",
   "execution_count": null,
   "metadata": {},
   "outputs": [],
   "source": []
  },
  {
   "cell_type": "code",
   "execution_count": 17,
   "metadata": {},
   "outputs": [],
   "source": [
    "postflight_1['timeStamp_2'] = postflight_1.timeStamp.shift(1)\n",
    "postflight_1['rose'] = (postflight_1[['timeStamp', 'timeStamp_2']].apply(lambda x: (x.timeStamp - x.timeStamp_2)/np.timedelta64(1,'s'),axis=1) > 7)"
   ]
  },
  {
   "cell_type": "code",
   "execution_count": null,
   "metadata": {},
   "outputs": [],
   "source": [
    "# INGORE THIS, this was meant to remove the interpolation, but had no time for this\n",
    "# Now write a for loop, go through the index and where rose == True, append an extra NaN"
   ]
  },
  {
   "cell_type": "code",
   "execution_count": 19,
   "metadata": {},
   "outputs": [],
   "source": [
    "#empty_ser = pd.Series()\n",
    "#import numpy as np\n",
    "\n",
    "#for row in postflight_1.rose.index[0:10]:    \n",
    "#    if postflight_1.loc[row, 'rose'] == False:\n",
    "#        empty_ser.append(postflight_1.loc[row, 'timeStamp'])\n",
    "#    if postflight_1.loc[row, 'rose'] == True:\n",
    "#        empty_ser.append(postflight_1.loc[row, 'timeStamp'])\n",
    " #       empty_ser.append(np.nan)\n",
    "    \n",
    "    \n",
    "    "
   ]
  },
  {
   "cell_type": "code",
   "execution_count": 21,
   "metadata": {
    "scrolled": true
   },
   "outputs": [
    {
     "name": "stderr",
     "output_type": "stream",
     "text": [
      "/home/taco/anaconda3/lib/python3.6/site-packages/pandas/plotting/_converter.py:129: FutureWarning: Using an implicitly registered datetime converter for a matplotlib plotting method. The converter was registered by pandas on import. Future versions of pandas will require you to explicitly register matplotlib converters.\n",
      "\n",
      "To register the converters:\n",
      "\t>>> from pandas.plotting import register_matplotlib_converters\n",
      "\t>>> register_matplotlib_converters()\n",
      "  warnings.warn(msg, FutureWarning)\n"
     ]
    },
    {
     "data": {
      "text/plain": [
       "<matplotlib.axes._subplots.AxesSubplot at 0x7f18ab0671d0>"
      ]
     },
     "execution_count": 21,
     "metadata": {},
     "output_type": "execute_result"
    },
    {
     "data": {
      "text/plain": [
       "(array([737129.5, 737130. , 737130.5, 737131. , 737131.5, 737132. ]),\n",
       " <a list of 6 Text xticklabel objects>)"
      ]
     },
     "execution_count": 21,
     "metadata": {},
     "output_type": "execute_result"
    },
    {
     "data": {
      "text/plain": [
       "Text(0, 0.5, 'Water temperature \\n [C°]')"
      ]
     },
     "execution_count": 21,
     "metadata": {},
     "output_type": "execute_result"
    },
    {
     "data": {
      "text/plain": [
       "Text(0.5, 0, 'Time  \\n [Day-Hour:Minute]')"
      ]
     },
     "execution_count": 21,
     "metadata": {},
     "output_type": "execute_result"
    },
    {
     "data": {
      "text/plain": [
       "Text(0.5, 1.0, 'Water temperature [Exp0_Flight module]')"
      ]
     },
     "execution_count": 21,
     "metadata": {},
     "output_type": "execute_result"
    },
    {
     "data": {
      "image/png": "[encoded data removed]",
      "text/plain": [
       "<Figure size 251.064x155.169 with 1 Axes>"
      ]
     },
     "metadata": {},
     "output_type": "display_data"
    }
   ],
   "source": [
    "import numpy as np\n",
    "import matplotlib as mpl\n",
    "from matplotlib import dates as mdates\n",
    "import matplotlib.pyplot as plt\n",
    "\n",
    "plt.rc('font', family='serif', serif='Times')\n",
    "plt.rc('text', usetex=False)\n",
    "plt.rc('xtick', labelsize=4)\n",
    "plt.rc('ytick', labelsize=4)\n",
    "plt.rc('axes', labelsize=6)\n",
    "sns.set_style(\"whitegrid\")\n",
    "\n",
    "# width as measured in inkscape\n",
    "width = 3.487\n",
    "height = width / 1.618\n",
    "\n",
    "fig, ax = plt.subplots()\n",
    "fig.subplots_adjust(left=.15, bottom=.30, right=.99, top=.90)\n",
    "\n",
    "sns.lineplot( data=post_filt   \n",
    "                   , x = 'timeStamp'\n",
    "                   , y =  'Exp0_OxygenTemp'\n",
    "            )\n",
    "         \n",
    "\n",
    "plt.gca().xaxis.set_major_formatter(mdates.DateFormatter('%d-%H:%M'))\n",
    "plt.xticks(rotation=30, ha='center', va='top')\n",
    "\n",
    "plt.tick_params(axis='both',bottom=True, top=False, left=True, right=False, direction='out', which='major')\n",
    "\n",
    "ax.set_ylabel(\"Water temperature \\n [C°]\", fontsize='6', fontweight='bold')\n",
    "ax.set_xlabel(\"Time  \\n [Day-Hour:Minute]\", fontsize='6', fontweight='bold')\n",
    "plt.title('Water temperature [Exp0_Flight module]', fontsize='6', fontweight='bold')\n",
    "\n",
    "fig.set_size_inches(width, height)\n",
    "fig.savefig('Exp0_OxygenTemp.png', dpi=1000)\n"
   ]
  },
  {
   "cell_type": "code",
   "execution_count": 75,
   "metadata": {},
   "outputs": [
    {
     "data": {
      "text/plain": [
       "[<matplotlib.lines.Line2D at 0x271dfa58e80>]"
      ]
     },
     "execution_count": 75,
     "metadata": {},
     "output_type": "execute_result"
    },
    {
     "data": {
      "text/plain": [
       "(array([737129.5, 737130. , 737130.5, 737131. , 737131.5, 737132. ]),\n",
       " <a list of 6 Text xticklabel objects>)"
      ]
     },
     "execution_count": 75,
     "metadata": {},
     "output_type": "execute_result"
    },
    {
     "data": {
      "text/plain": [
       "Text(0, 0.5, 'Water temperature \\n [C°]')"
      ]
     },
     "execution_count": 75,
     "metadata": {},
     "output_type": "execute_result"
    },
    {
     "data": {
      "text/plain": [
       "Text(0.5, 0, 'Time  \\n [Day-Hour:Minute]')"
      ]
     },
     "execution_count": 75,
     "metadata": {},
     "output_type": "execute_result"
    },
    {
     "data": {
      "text/plain": [
       "Text(0.5, 1.0, 'Water temperature [Exp1_Flight module]')"
      ]
     },
     "execution_count": 75,
     "metadata": {},
     "output_type": "execute_result"
    },
    {
     "data": {
      "image/png": "[encoded data removed]",
      "text/plain": [
       "<Figure size 251.064x155.169 with 1 Axes>"
      ]
     },
     "metadata": {},
     "output_type": "display_data"
    }
   ],
   "source": [
    "import numpy as np\n",
    "import matplotlib as mpl\n",
    "import matplotlib.pyplot as plt\n",
    "\n",
    "plt.rc('font', family='serif', serif='Times')\n",
    "plt.rc('text', usetex=False)\n",
    "plt.rc('xtick', labelsize=4)\n",
    "plt.rc('ytick', labelsize=4)\n",
    "plt.rc('axes', labelsize=6)\n",
    "sns.set_style(\"whitegrid\")\n",
    "\n",
    "\n",
    "# width as measured in inkscape\n",
    "width = 3.487\n",
    "height = width / 1.618\n",
    "\n",
    "fig, ax = plt.subplots()\n",
    "fig.subplots_adjust(left=.15, bottom=.30, right=.99, top=.90)\n",
    "\n",
    "sns.lineplot(\n",
    "            data=post_filt,\n",
    "            x = 'timeStamp',\n",
    "             y = 'Exp1_OxygenTemp'\n",
    "            )\n",
    "\n",
    "plt.gca().xaxis.set_major_formatter(mdates.DateFormatter('%d-%H:%M'))\n",
    "plt.xticks(rotation=30, ha='center', va='top')\n",
    "#plt.yticks(fontsize=3)\n",
    "plt.tick_params(axis='both',bottom=True, top=False, left=True, right=False, direction='out', which='major')\n",
    "\n",
    "ax.set_ylabel(\"Water temperature \\n [C°]\", fontsize='6', fontweight='bold')\n",
    "ax.set_xlabel(\"Time  \\n [Day-Hour:Minute]\", fontsize='6', fontweight='bold')\n",
    "plt.title('Water temperature [Exp1_Flight module]', fontsize='6', fontweight='bold')\n",
    "\n",
    "#figure = plot.get_figure()    \n",
    "#figure.set_size_inches(28, 10)\n",
    "#plt.tight_layout()\n",
    "#figure.savefig('../output/Oxy_test.png', dpi=500)\n",
    "\n",
    "fig.set_size_inches(width, height)\n",
    "\n",
    "fig.savefig('../../output//Water_temperature_Exp1_Flight_module.png', dpi=1000)\n",
    "#plt.show()"
   ]
  },
  {
   "cell_type": "code",
   "execution_count": 83,
   "metadata": {
    "scrolled": true
   },
   "outputs": [
    {
     "data": {
      "text/plain": [
       "[<matplotlib.lines.Line2D at 0x271e7a04c88>]"
      ]
     },
     "execution_count": 83,
     "metadata": {},
     "output_type": "execute_result"
    },
    {
     "data": {
      "text/plain": [
       "(array([737129.5, 737130. , 737130.5, 737131. , 737131.5, 737132. ]),\n",
       " <a list of 6 Text xticklabel objects>)"
      ]
     },
     "execution_count": 83,
     "metadata": {},
     "output_type": "execute_result"
    },
    {
     "data": {
      "text/plain": [
       "Text(0, 0.5, 'Oxygen content \\n [%]')"
      ]
     },
     "execution_count": 83,
     "metadata": {},
     "output_type": "execute_result"
    },
    {
     "data": {
      "text/plain": [
       "Text(0.5, 0, 'Time  \\n [Day-Hour:Minute]')"
      ]
     },
     "execution_count": 83,
     "metadata": {},
     "output_type": "execute_result"
    },
    {
     "data": {
      "text/plain": [
       "Text(0.5, 1.0, 'Oxygen content [Exp1_Flight module]')"
      ]
     },
     "execution_count": 83,
     "metadata": {},
     "output_type": "execute_result"
    },
    {
     "data": {
      "image/png": "[encoded data removed]",
      "text/plain": [
       "<Figure size 251.064x155.169 with 1 Axes>"
      ]
     },
     "metadata": {},
     "output_type": "display_data"
    }
   ],
   "source": [
    "import numpy as np\n",
    "import matplotlib as mpl\n",
    "import matplotlib.pyplot as plt\n",
    "sns.set_style(\"whitegrid\")\n",
    "plt.rc('font', family='serif', serif='Times')\n",
    "plt.rc('text', usetex=False)\n",
    "plt.rc('xtick', labelsize=4)\n",
    "plt.rc('ytick', labelsize=4)\n",
    "plt.rc('axes', labelsize=6)\n",
    "\n",
    "\n",
    "# width as measured in inkscape\n",
    "width = 3.487\n",
    "height = width / 1.618\n",
    "\n",
    "fig, ax = plt.subplots()\n",
    "fig.subplots_adjust(left=.15, bottom=.30, right=.99, top=.90)\n",
    "\n",
    "plt.plot(\n",
    "            \n",
    "            post_filt.index,\n",
    "           post_filt.Exp1_OxygenpercentO2\n",
    "            )\n",
    "\n",
    "plt.gca().xaxis.set_major_formatter(mdates.DateFormatter('%d-%H:%M'))\n",
    "plt.xticks(rotation=30, ha='center', va='top')\n",
    "#plt.yticks(fontsize=3)\n",
    "plt.tick_params(axis='both',bottom=True, top=False, left=True, right=False, direction='out', which='major')\n",
    "\n",
    "ax.set_ylabel(\"Oxygen content \\n [%]\", fontsize='6', fontweight='bold')\n",
    "ax.set_xlabel(\"Time  \\n [Day-Hour:Minute]\", fontsize='6', fontweight='bold')\n",
    "plt.title('Oxygen content [Exp1_Flight module]', fontsize='6', fontweight='bold')\n",
    "#plt.show()\n",
    "#figure = plot.get_figure()    \n",
    "#figure.set_size_inches(28, 10)\n",
    "#plt.tight_layout()\n",
    "#figure.savefig('../output/Oxy_test.png', dpi=500)\n",
    "\n",
    "fig.set_size_inches(width, height)\n",
    "fig.savefig('Oxygen_content_Exp1_Flight_module.png', dpi=1000)\n"
   ]
  },
  {
   "cell_type": "code",
   "execution_count": 13,
   "metadata": {},
   "outputs": [
    {
     "data": {
      "text/plain": [
       "<matplotlib.axes._subplots.AxesSubplot at 0x271cb81fda0>"
      ]
     },
     "execution_count": 13,
     "metadata": {},
     "output_type": "execute_result"
    },
    {
     "data": {
      "text/plain": [
       "(array([737129.5, 737130. , 737130.5, 737131. , 737131.5, 737132. ]),\n",
       " <a list of 6 Text xticklabel objects>)"
      ]
     },
     "execution_count": 13,
     "metadata": {},
     "output_type": "execute_result"
    },
    {
     "data": {
      "text/plain": [
       "Text(0, 0.5, 'Oxygen content \\n [%]')"
      ]
     },
     "execution_count": 13,
     "metadata": {},
     "output_type": "execute_result"
    },
    {
     "data": {
      "text/plain": [
       "Text(0.5, 0, 'Time  \\n [Day-Hour:Minute]')"
      ]
     },
     "execution_count": 13,
     "metadata": {},
     "output_type": "execute_result"
    },
    {
     "data": {
      "text/plain": [
       "Text(0.5, 1.0, 'Oxygen content [Exp0_Flight module]')"
      ]
     },
     "execution_count": 13,
     "metadata": {},
     "output_type": "execute_result"
    },
    {
     "data": {
      "image/png": "[encoded data removed]",
      "text/plain": [
       "<Figure size 251.064x155.169 with 1 Axes>"
      ]
     },
     "metadata": {},
     "output_type": "display_data"
    }
   ],
   "source": [
    "import numpy as np\n",
    "import matplotlib as mpl\n",
    "import matplotlib.pyplot as plt\n",
    "sns.set_style(\"whitegrid\")\n",
    "plt.rc('font', family='serif', serif='Times')\n",
    "plt.rc('text', usetex=False)\n",
    "plt.rc('xtick', labelsize=4)\n",
    "plt.rc('ytick', labelsize=4)\n",
    "plt.rc('axes', labelsize=6)\n",
    "\n",
    "\n",
    "# width as measured in inkscape\n",
    "width = 3.487\n",
    "height = width / 1.618\n",
    "\n",
    "fig, ax = plt.subplots()\n",
    "fig.subplots_adjust(left=.15, bottom=.30, right=.99, top=.90)\n",
    "\n",
    "sns.lineplot(\n",
    "            data=post_filt,\n",
    "            x = 'timeStamp',\n",
    "             y = 'Exp0_OxygenpercentO2'\n",
    "            )\n",
    "\n",
    "plt.gca().xaxis.set_major_formatter(mdates.DateFormatter('%d-%H:%M'))\n",
    "plt.xticks(rotation=30, ha='center', va='top')\n",
    "#plt.yticks(fontsize=3)\n",
    "plt.tick_params(axis='both',bottom=True, top=False, left=True, right=False, direction='out', which='major')\n",
    "\n",
    "ax.set_ylabel(\"Oxygen content \\n [%]\", fontsize='6', fontweight='bold')\n",
    "ax.set_xlabel(\"Time  \\n [Day-Hour:Minute]\", fontsize='6', fontweight='bold')\n",
    "plt.title('Oxygen content [Exp0_Flight module]', fontsize='6', fontweight='bold')\n",
    "#plt.show()\n",
    "#figure = plot.get_figure()    \n",
    "#figure.set_size_inches(28, 10)\n",
    "#plt.tight_layout()\n",
    "#figure.savefig('../output/Oxy_test.png', dpi=500)\n",
    "\n",
    "fig.set_size_inches(width, height)\n",
    "fig.savefig('Oxygen_content_Exp0_Flight_module.png', dpi=1000)\n"
   ]
  },
  {
   "cell_type": "code",
   "execution_count": 14,
   "metadata": {},
   "outputs": [
    {
     "data": {
      "text/plain": [
       "Index(['index', 'timeStamp', 'Exp0_OxygenTemp', 'Exp0_OxygenpercentO2', 'Exp0_PhValue', 'Exp1_OxygenTemp', 'Exp1_OxygenpercentO2', 'Pressure_LateAccess', 'ph_rolling'], dtype='object')"
      ]
     },
     "execution_count": 14,
     "metadata": {},
     "output_type": "execute_result"
    }
   ],
   "source": [
    "postflight_1.columns\n",
    "\n",
    "#Water temperature [Exp0_Flight module]\n",
    "#Water temperature [Exp1_Flight module]\n",
    "#Oxygen content [Exp0_Flight module]\n",
    "#Oxygen content [Exp1_Flight module]\n",
    "#pH Value [Exp0_Flight module]\n",
    "#Ambient Pressure [Flight module]"
   ]
  },
  {
   "cell_type": "code",
   "execution_count": 15,
   "metadata": {},
   "outputs": [
    {
     "data": {
      "text/plain": [
       "<matplotlib.axes._subplots.AxesSubplot at 0x271cbf68fd0>"
      ]
     },
     "execution_count": 15,
     "metadata": {},
     "output_type": "execute_result"
    },
    {
     "data": {
      "text/plain": [
       "(array([737129.5, 737130. , 737130.5, 737131. , 737131.5, 737132. ,\n",
       "        737132.5]), <a list of 7 Text xticklabel objects>)"
      ]
     },
     "execution_count": 15,
     "metadata": {},
     "output_type": "execute_result"
    },
    {
     "data": {
      "text/plain": [
       "Text(0, 0.5, 'Ambient Pressure [Flight module] \\n [hPa]')"
      ]
     },
     "execution_count": 15,
     "metadata": {},
     "output_type": "execute_result"
    },
    {
     "data": {
      "text/plain": [
       "Text(0.5, 0, 'Time  \\n [Day-Hour:Minute]')"
      ]
     },
     "execution_count": 15,
     "metadata": {},
     "output_type": "execute_result"
    },
    {
     "data": {
      "text/plain": [
       "Text(0.5, 1.0, 'Ambient Pressure [Flight module]')"
      ]
     },
     "execution_count": 15,
     "metadata": {},
     "output_type": "execute_result"
    },
    {
     "data": {
      "image/png": "[encoded data removed]",
      "text/plain": [
       "<Figure size 251.064x155.169 with 1 Axes>"
      ]
     },
     "metadata": {},
     "output_type": "display_data"
    }
   ],
   "source": [
    "import numpy as np\n",
    "import matplotlib as mpl\n",
    "\n",
    "import matplotlib.pyplot as plt\n",
    "\n",
    "plt.rc('font', family='serif', serif='Times')\n",
    "plt.rc('text', usetex=False)\n",
    "plt.rc('xtick', labelsize=4)\n",
    "plt.rc('ytick', labelsize=4)\n",
    "plt.rc('axes', labelsize=6)\n",
    "sns.set_style(\"whitegrid\")\n",
    "\n",
    "# width as measured in inkscape\n",
    "width = 3.487\n",
    "height = width / 1.618\n",
    "\n",
    "fig, ax = plt.subplots()\n",
    "fig.subplots_adjust(left=.15, bottom=.30, right=.99, top=.90)\n",
    "\n",
    "sns.lineplot(\n",
    "            data= postflight_1[postflight_1.Pressure_LateAccess < 1500],\n",
    "            x = 'timeStamp',\n",
    "            y = 'Pressure_LateAccess')\n",
    "\n",
    "plt.gca().xaxis.set_major_formatter(mdates.DateFormatter('%d-%H:%M'))\n",
    "plt.xticks(rotation=30, ha='center', va='top')\n",
    "#plt.yticks(fontsize=3)\n",
    "plt.tick_params(axis='both',bottom=True, top=False, left=True, right=False, direction='out', which='major')\n",
    "\n",
    "ax.set_ylabel(\"Ambient Pressure [Flight module] \\n [hPa]\", fontsize='6', fontweight='bold')\n",
    "ax.set_xlabel(\"Time  \\n [Day-Hour:Minute]\", fontsize='6', fontweight='bold')\n",
    "plt.title('Ambient Pressure [Flight module]', fontsize='6', fontweight='bold')\n",
    "#plt.show()\n",
    "#figure = plot.get_figure()    \n",
    "#figure.set_size_inches(28, 10)\n",
    "#plt.tight_layout()\n",
    "#figure.savefig('../output/Oxy_test.png', dpi=500)\n",
    "\n",
    "fig.set_size_inches(width, height)\n",
    "fig.savefig('Ambient_Pressure_Flight_module.png', dpi=1000)\n",
    "\n",
    "\n"
   ]
  },
  {
   "cell_type": "code",
   "execution_count": 21,
   "metadata": {},
   "outputs": [],
   "source": [
    "#post_filt.to_csv('../new_data/final_data_USE_THIS_ONE/postflight1_filtered.csv')\n",
    "#postflight_1[postflight_1.Pressure_LateAccess < 1500].to_csv('../new_data/final_data_USE_THIS_ONE/postflight1_pressure_below_1500.csv')\n",
    "post_filt.to_pickle('../new_data/final_data_USE_THIS_ONE/postflight1_filtered.pkl')\n",
    "postflight_1[postflight_1.Pressure_LateAccess < 1500].to_pickle('../new_data/final_data_USE_THIS_ONE/postflight1_pressure_below_1500.pkl')"
   ]
  },
  {
   "cell_type": "code",
   "execution_count": 80,
   "metadata": {},
   "outputs": [
    {
     "data": {
      "text/plain": [
       "[<matplotlib.lines.Line2D at 0x271e7977da0>]"
      ]
     },
     "execution_count": 80,
     "metadata": {},
     "output_type": "execute_result"
    },
    {
     "data": {
      "text/plain": [
       "(array([737129.5, 737130. , 737130.5, 737131. , 737131.5, 737132. ]),\n",
       " <a list of 6 Text xticklabel objects>)"
      ]
     },
     "execution_count": 80,
     "metadata": {},
     "output_type": "execute_result"
    },
    {
     "data": {
      "text/plain": [
       "Text(0, 0.5, 'pH Value')"
      ]
     },
     "execution_count": 80,
     "metadata": {},
     "output_type": "execute_result"
    },
    {
     "data": {
      "text/plain": [
       "Text(0.5, 0, 'Time  \\n [Day-Hour:Minute]')"
      ]
     },
     "execution_count": 80,
     "metadata": {},
     "output_type": "execute_result"
    },
    {
     "data": {
      "text/plain": [
       "Text(0.5, 1.0, 'pH Value [Exp0_Flight module]')"
      ]
     },
     "execution_count": 80,
     "metadata": {},
     "output_type": "execute_result"
    },
    {
     "data": {
      "image/png": "[encoded data removed]",
      "text/plain": [
       "<Figure size 251.064x155.169 with 1 Axes>"
      ]
     },
     "metadata": {},
     "output_type": "display_data"
    }
   ],
   "source": [
    "import numpy as np\n",
    "import matplotlib as mpl\n",
    "\n",
    "import matplotlib.pyplot as plt\n",
    "\n",
    "plt.rc('font', family='serif', serif='Times')\n",
    "plt.rc('text', usetex=False)\n",
    "plt.rc('xtick', labelsize=4)\n",
    "plt.rc('ytick', labelsize=4)\n",
    "plt.rc('axes', labelsize=6)\n",
    "sns.set_style(\"whitegrid\")\n",
    "\n",
    "# width as measured in inkscape\n",
    "width = 3.487\n",
    "height = width / 1.618\n",
    "\n",
    "fig, ax = plt.subplots()\n",
    "fig.subplots_adjust(left=.15, bottom=.30, right=.99, top=.90)\n",
    "\n",
    "plt.plot(            \n",
    "           post_filt.index,\n",
    "           post_filt['ph_rolling'])\n",
    "\n",
    "plt.gca().xaxis.set_major_formatter(mdates.DateFormatter('%d-%H:%M'))\n",
    "plt.xticks(rotation=30, ha='center', va='top')\n",
    "#plt.yticks(fontsize=3)\n",
    "plt.tick_params(axis='both',bottom=True, top=False, left=True, right=False, direction='out', which='major')\n",
    "\n",
    "ax.set_ylabel(\"pH Value\", fontsize='6', fontweight='bold')\n",
    "ax.set_xlabel(\"Time  \\n [Day-Hour:Minute]\", fontsize='6', fontweight='bold')\n",
    "plt.title('pH Value [Exp0_Flight module]', fontsize='6', fontweight='bold')\n",
    "#plt.show()\n",
    "#figure = plot.get_figure()    \n",
    "#figure.set_size_inches(28, 10)\n",
    "#plt.tight_layout()\n",
    "#figure.savefig('../output/Oxy_test.png', dpi=500)\n",
    "\n",
    "fig.set_size_inches(width, height)\n",
    "fig.savefig('Exp0_PhValue_Flight_module.png', dpi=1000)\n",
    "\n",
    "\n"
   ]
  },
  {
   "cell_type": "code",
   "execution_count": null,
   "metadata": {},
   "outputs": [],
   "source": [
    "## \n",
    "postflight_1.to_csv('../../data/filtered/postflight1_filtered.csv')"
   ]
  },
  {
   "cell_type": "code",
   "execution_count": null,
   "metadata": {},
   "outputs": [],
   "source": []
  },
  {
   "cell_type": "code",
   "execution_count": null,
   "metadata": {},
   "outputs": [],
   "source": []
  },
  {
   "cell_type": "code",
   "execution_count": null,
   "metadata": {},
   "outputs": [],
   "source": []
  }
 ],
 "metadata": {
  "kernelspec": {
   "display_name": "Python 3",
   "language": "python",
   "name": "python3"
  },
  "language_info": {
   "codemirror_mode": {
    "name": "ipython",
    "version": 3
   },
   "file_extension": ".py",
   "mimetype": "text/x-python",
   "name": "python",
   "nbconvert_exporter": "python",
   "pygments_lexer": "ipython3",
   "version": "3.6.8"
  }
 },
 "nbformat": 4,
 "nbformat_minor": 2
}
