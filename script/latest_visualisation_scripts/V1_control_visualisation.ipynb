{
 "cells": [
  {
   "cell_type": "code",
   "execution_count": 1,
   "metadata": {},
   "outputs": [],
   "source": [
    "#############################################################################\n",
    "####################Import all packages######################################\n",
    "#############################################################################\n",
    "import os\n",
    "import random\n",
    "import numpy as np\n",
    "#import missingno as msno\n",
    "import seaborn as sns\n",
    "import matplotlib.pyplot as plt\n",
    "from matplotlib import dates as mdates\n",
    "#import pandas_profiling as pp\n",
    "import pandas as pd\n",
    "pd.set_option('display.max_rows', 1000)\n",
    "pd.set_option('display.max_columns', 500)\n",
    "pd.set_option('display.width', 1000)\n",
    "pd.options.mode.chained_assignment = None  # default='warn'\n",
    "# Set working directory\n",
    "#############################################################################\n",
    "# Make Jupyter Notebook show ALL output of a cell, not only the last one\n",
    "from IPython.core.interactiveshell import InteractiveShell\n",
    "InteractiveShell.ast_node_interactivity = \"all\""
   ]
  },
  {
   "cell_type": "code",
   "execution_count": 2,
   "metadata": {},
   "outputs": [],
   "source": [
    "#  READING IN DATA\n",
    "# CLEANED DATA\n",
    "control = pd.read_pickle('../../new_data/cleaned//control_clean.pkl')\n",
    "\n",
    "# FILTERED DATA\n",
    "#post_filt = pd.read_pickle('../new_data/final_data_USE_THIS_ONE/postflight1_filtered.pkl')\n",
    "#postflight1_pressure = pd.read_pickle('../new_data/final_data_USE_THIS_ONE/postflight1_pressure_below_1500.pkl')\n",
    "\n"
   ]
  },
  {
   "cell_type": "code",
   "execution_count": 3,
   "metadata": {},
   "outputs": [],
   "source": [
    "## Remove all unncessary columns\n",
    "cols_to_keep = ['timeStamp',\n",
    "                'Exp0_OxygenTemp', 'Exp0_OxygenpercentO2', 'Exp0_PhValue',\n",
    "                'Exp1_OxygenTemp', 'Exp1_OxygenpercentO2',\n",
    "                'Pressure_LateAccess']\n",
    "\n",
    "#pre_and_flight = pre_and_flight[cols_to_keep]\n",
    "control = control[cols_to_keep]\n",
    "#extra = extra[cols_to_keep]"
   ]
  },
  {
   "cell_type": "code",
   "execution_count": 5,
   "metadata": {},
   "outputs": [],
   "source": [
    "# DFs contain negligible amount of missing values (NAs), just drop them\n",
    "#import missingno as msno\n",
    "#msno.matrix(postflight_1)\n",
    "#pre_and_flight.dropna(inplace=True)\n",
    "#postflight_1.dropna(inplace=True)\n",
    "#extra.dropna(inplace=True)"
   ]
  },
  {
   "cell_type": "code",
   "execution_count": 6,
   "metadata": {},
   "outputs": [],
   "source": [
    "control.reset_index(inplace=True)"
   ]
  },
  {
   "cell_type": "code",
   "execution_count": 7,
   "metadata": {
    "scrolled": true
   },
   "outputs": [
    {
     "data": {
      "text/plain": [
       "Timestamp('2019-05-21 20:25:41')"
      ]
     },
     "execution_count": 7,
     "metadata": {},
     "output_type": "execute_result"
    },
    {
     "data": {
      "text/plain": [
       "Timestamp('2019-06-27 08:30:05')"
      ]
     },
     "execution_count": 7,
     "metadata": {},
     "output_type": "execute_result"
    }
   ],
   "source": [
    "# Check the data range of the final timestamps\n",
    "#pre_and_flight.timeStamp.min()\n",
    "#pre_and_flight.timeStamp.max()\n",
    "control.timeStamp.min()\n",
    "control.timeStamp.max()\n",
    "#postflight_2.timeStamp.min()\n",
    "#postflight_2.timeStamp.max()\n",
    "\n",
    "#extra.timeStamp.min()\n",
    "#extra.timeStamp.max()\n"
   ]
  },
  {
   "cell_type": "code",
   "execution_count": 13,
   "metadata": {},
   "outputs": [],
   "source": [
    "control.drop('level_0', axis=1, inplace=True)"
   ]
  },
  {
   "cell_type": "code",
   "execution_count": 14,
   "metadata": {},
   "outputs": [
    {
     "data": {
      "text/plain": [
       "Index(['index', 'timeStamp', 'Exp0_OxygenTemp', 'Exp0_OxygenpercentO2', 'Exp0_PhValue', 'Exp1_OxygenTemp', 'Exp1_OxygenpercentO2', 'Pressure_LateAccess'], dtype='object')"
      ]
     },
     "execution_count": 14,
     "metadata": {},
     "output_type": "execute_result"
    }
   ],
   "source": [
    "control.columns"
   ]
  },
  {
   "cell_type": "code",
   "execution_count": null,
   "metadata": {},
   "outputs": [],
   "source": [
    "#date_diff = pd.to_datetime('2019-03-11  13:20:00') - pd.to_datetime('2000-01-01 14:30:02')\n",
    "#postflight_1.timeStamp = postflight_1.timeStamp + date_diff\n",
    "\n"
   ]
  },
  {
   "cell_type": "code",
   "execution_count": null,
   "metadata": {},
   "outputs": [],
   "source": [
    "#postflight_2['ph_rolling'] = postflight_2.Exp0_PhValue.rolling(100).mean()\n",
    "#postflight_2['OxPer_1_rolling'] = postflight_2.Exp1_OxygenpercentO2.rolling(100).mean()\n",
    "#postflight_2['OxPer_0_rolling'] = postflight_2.Exp0_OxygenpercentO2.rolling(100).mean()\n"
   ]
  },
  {
   "cell_type": "code",
   "execution_count": 26,
   "metadata": {},
   "outputs": [
    {
     "data": {
      "text/plain": [
       "(202441, 8)"
      ]
     },
     "execution_count": 26,
     "metadata": {},
     "output_type": "execute_result"
    },
    {
     "data": {
      "text/html": [
       "<div>\n",
       "<style scoped>\n",
       "    .dataframe tbody tr th:only-of-type {\n",
       "        vertical-align: middle;\n",
       "    }\n",
       "\n",
       "    .dataframe tbody tr th {\n",
       "        vertical-align: top;\n",
       "    }\n",
       "\n",
       "    .dataframe thead th {\n",
       "        text-align: right;\n",
       "    }\n",
       "</style>\n",
       "<table border=\"1\" class=\"dataframe\">\n",
       "  <thead>\n",
       "    <tr style=\"text-align: right;\">\n",
       "      <th></th>\n",
       "      <th>index</th>\n",
       "      <th>timeStamp</th>\n",
       "      <th>Exp0_OxygenTemp</th>\n",
       "      <th>Exp0_OxygenpercentO2</th>\n",
       "      <th>Exp0_PhValue</th>\n",
       "      <th>Exp1_OxygenTemp</th>\n",
       "      <th>Exp1_OxygenpercentO2</th>\n",
       "      <th>Pressure_LateAccess</th>\n",
       "    </tr>\n",
       "  </thead>\n",
       "  <tbody>\n",
       "    <tr>\n",
       "      <th>0</th>\n",
       "      <td>0</td>\n",
       "      <td>2019-05-21 20:25:41</td>\n",
       "      <td>23.298</td>\n",
       "      <td>21.106</td>\n",
       "      <td>0.0</td>\n",
       "      <td>22.594</td>\n",
       "      <td>27.541</td>\n",
       "      <td>1005.7</td>\n",
       "    </tr>\n",
       "    <tr>\n",
       "      <th>1</th>\n",
       "      <td>1</td>\n",
       "      <td>2019-05-21 20:25:51</td>\n",
       "      <td>23.288</td>\n",
       "      <td>21.147</td>\n",
       "      <td>0.0</td>\n",
       "      <td>22.574</td>\n",
       "      <td>27.575</td>\n",
       "      <td>1005.6</td>\n",
       "    </tr>\n",
       "    <tr>\n",
       "      <th>2</th>\n",
       "      <td>2</td>\n",
       "      <td>2019-05-21 20:26:01</td>\n",
       "      <td>23.283</td>\n",
       "      <td>21.117</td>\n",
       "      <td>0.0</td>\n",
       "      <td>22.550</td>\n",
       "      <td>27.520</td>\n",
       "      <td>1005.7</td>\n",
       "    </tr>\n",
       "    <tr>\n",
       "      <th>3</th>\n",
       "      <td>3</td>\n",
       "      <td>2019-05-21 20:26:11</td>\n",
       "      <td>23.272</td>\n",
       "      <td>21.144</td>\n",
       "      <td>0.0</td>\n",
       "      <td>22.527</td>\n",
       "      <td>27.569</td>\n",
       "      <td>1005.3</td>\n",
       "    </tr>\n",
       "    <tr>\n",
       "      <th>4</th>\n",
       "      <td>4</td>\n",
       "      <td>2019-05-21 20:26:21</td>\n",
       "      <td>23.267</td>\n",
       "      <td>21.123</td>\n",
       "      <td>0.0</td>\n",
       "      <td>22.514</td>\n",
       "      <td>27.464</td>\n",
       "      <td>1005.5</td>\n",
       "    </tr>\n",
       "  </tbody>\n",
       "</table>\n",
       "</div>"
      ],
      "text/plain": [
       "   index           timeStamp  Exp0_OxygenTemp  Exp0_OxygenpercentO2  Exp0_PhValue  Exp1_OxygenTemp  Exp1_OxygenpercentO2  Pressure_LateAccess\n",
       "0      0 2019-05-21 20:25:41           23.298                21.106           0.0           22.594                27.541               1005.7\n",
       "1      1 2019-05-21 20:25:51           23.288                21.147           0.0           22.574                27.575               1005.6\n",
       "2      2 2019-05-21 20:26:01           23.283                21.117           0.0           22.550                27.520               1005.7\n",
       "3      3 2019-05-21 20:26:11           23.272                21.144           0.0           22.527                27.569               1005.3\n",
       "4      4 2019-05-21 20:26:21           23.267                21.123           0.0           22.514                27.464               1005.5"
      ]
     },
     "execution_count": 26,
     "metadata": {},
     "output_type": "execute_result"
    }
   ],
   "source": [
    "control.shape\n",
    "control.head(5)"
   ]
  },
  {
   "cell_type": "code",
   "execution_count": null,
   "metadata": {},
   "outputs": [],
   "source": [
    "# PH Value is completely useless, contains only 2 values.\n",
    "control.Exp0_PhValue.unique()\n",
    "\n"
   ]
  },
  {
   "cell_type": "code",
   "execution_count": 27,
   "metadata": {},
   "outputs": [],
   "source": [
    "cont_filt = control[(control.Exp0_OxygenTemp > 15) & (\n",
    "                            control.Exp1_OxygenTemp > 15) & (\n",
    "                            control.Exp1_OxygenpercentO2 > 0) & (\n",
    "                            control.Exp1_OxygenpercentO2 < 100)& (\n",
    "                            control.Exp0_OxygenpercentO2 > 0) & (\n",
    "                            control.Exp0_OxygenpercentO2 < 100) & (\n",
    "                            control.Exp0_OxygenpercentO2 > 0) & (\n",
    "                            control.Exp0_OxygenpercentO2 < 100\n",
    "                            ) & (\n",
    "                            control.Pressure_LateAccess < 1040\n",
    "                            ) & (\n",
    "                            control.Pressure_LateAccess > 900\n",
    "                            ) ]\n"
   ]
  },
  {
   "cell_type": "code",
   "execution_count": 28,
   "metadata": {},
   "outputs": [],
   "source": [
    "cont_filt['ph_rolling'] = cont_filt.Exp0_PhValue.rolling(100).mean()\n",
    "cont_filt['OxPer_1_rolling'] = cont_filt.Exp1_OxygenpercentO2.rolling(100).mean()\n",
    "cont_filt['OxPer_0_rolling'] = cont_filt.Exp0_OxygenpercentO2.rolling(100).mean()\n",
    "cont_filt['PressLA'] = cont_filt.Pressure_LateAccess.rolling(100).mean()"
   ]
  },
  {
   "cell_type": "code",
   "execution_count": 56,
   "metadata": {},
   "outputs": [],
   "source": [
    "cont_day9 = cont_filt[(cont_filt.timeStamp > pd.to_datetime('2019-06-09 00:00:00')) & (cont_filt.timeStamp < pd.to_datetime('2019-06-10 00:00:00'))]"
   ]
  },
  {
   "cell_type": "code",
   "execution_count": 57,
   "metadata": {
    "scrolled": true
   },
   "outputs": [
    {
     "data": {
      "text/plain": [
       "[<matplotlib.lines.Line2D at 0x7fe2d83d2a58>]"
      ]
     },
     "execution_count": 57,
     "metadata": {},
     "output_type": "execute_result"
    },
    {
     "data": {
      "text/plain": [
       "(array([737200., 737204., 737208., 737211., 737215., 737219., 737223.,\n",
       "        737227., 737231., 737235., 737239.]),\n",
       " <a list of 11 Text xticklabel objects>)"
      ]
     },
     "execution_count": 57,
     "metadata": {},
     "output_type": "execute_result"
    },
    {
     "data": {
      "text/plain": [
       "Text(0, 0.5, 'Water temperature \\n [C°]')"
      ]
     },
     "execution_count": 57,
     "metadata": {},
     "output_type": "execute_result"
    },
    {
     "data": {
      "text/plain": [
       "Text(0.5, 0, 'Time  \\n [Day-Hour:Minute]')"
      ]
     },
     "execution_count": 57,
     "metadata": {},
     "output_type": "execute_result"
    },
    {
     "data": {
      "text/plain": [
       "Text(0.5, 1.0, 'Water temperature [Exp0_Ground control]')"
      ]
     },
     "execution_count": 57,
     "metadata": {},
     "output_type": "execute_result"
    },
    {
     "data": {
      "image/png": "[encoded data removed]",
      "text/plain": [
       "<Figure size 251.064x155.169 with 1 Axes>"
      ]
     },
     "metadata": {},
     "output_type": "display_data"
    }
   ],
   "source": [
    "import numpy as np\n",
    "import matplotlib as mpl\n",
    "from matplotlib import dates as mdates\n",
    "import matplotlib.pyplot as plt\n",
    "\n",
    "plt.rc('font', family='serif', serif='Times')\n",
    "plt.rc('text', usetex=False)\n",
    "plt.rc('xtick', labelsize=4)\n",
    "plt.rc('ytick', labelsize=4)\n",
    "plt.rc('axes', labelsize=6)\n",
    "sns.set_style(\"whitegrid\")\n",
    "\n",
    "# width as measured in inkscape\n",
    "width = 3.487\n",
    "height = width / 1.618\n",
    "\n",
    "fig, ax = plt.subplots()\n",
    "fig.subplots_adjust(left=.15, bottom=.30, right=.95, top=.90)\n",
    "\n",
    "plt.plot( #data= post_filt   ,\n",
    "                 \n",
    "    cont_filt.timeStamp,\n",
    "    #                y =\n",
    "    cont_filt.Exp0_OxygenTemp\n",
    "            )\n",
    "         \n",
    "\n",
    "plt.gca().xaxis.set_major_formatter(mdates.DateFormatter('%d-%H:%M'))\n",
    "plt.xticks(rotation=30, ha='center', va='top')\n",
    "\n",
    "plt.tick_params(axis='both',bottom=True, top=False, left=True, right=False, direction='out', which='major')\n",
    "\n",
    "ax.set_ylabel(\"Water temperature \\n [C°]\", fontsize='6', fontweight='bold')\n",
    "ax.set_xlabel(\"Time  \\n [Day-Hour:Minute]\", fontsize='6', fontweight='bold')\n",
    "plt.title('Water temperature [Exp0_Ground control]', fontsize='6', fontweight='bold')\n",
    "\n",
    "fig.set_size_inches(width, height)\n",
    "fig.savefig('Water_temperature_Exp0_Ground_control.png', dpi=500)\n"
   ]
  },
  {
   "cell_type": "code",
   "execution_count": 64,
   "metadata": {},
   "outputs": [
    {
     "data": {
      "text/plain": [
       "[<matplotlib.lines.Line2D at 0x7fe2d80d4ef0>]"
      ]
     },
     "execution_count": 64,
     "metadata": {},
     "output_type": "execute_result"
    },
    {
     "data": {
      "text/plain": [
       "(array([737200., 737204., 737208., 737211., 737215., 737219., 737223.,\n",
       "        737227., 737231., 737235., 737239.]),\n",
       " <a list of 11 Text xticklabel objects>)"
      ]
     },
     "execution_count": 64,
     "metadata": {},
     "output_type": "execute_result"
    },
    {
     "data": {
      "text/plain": [
       "Text(0, 0.5, 'Water temperature \\n [C°]')"
      ]
     },
     "execution_count": 64,
     "metadata": {},
     "output_type": "execute_result"
    },
    {
     "data": {
      "text/plain": [
       "Text(0.5, 0, 'Time  \\n [Day-Hour:Minute]')"
      ]
     },
     "execution_count": 64,
     "metadata": {},
     "output_type": "execute_result"
    },
    {
     "data": {
      "text/plain": [
       "Text(0.5, 1.0, 'Water temperature [Exp1_Ground control]')"
      ]
     },
     "execution_count": 64,
     "metadata": {},
     "output_type": "execute_result"
    },
    {
     "data": {
      "image/png": "[encoded data removed]",
      "text/plain": [
       "<Figure size 251.064x155.169 with 1 Axes>"
      ]
     },
     "metadata": {},
     "output_type": "display_data"
    }
   ],
   "source": [
    "import numpy as np\n",
    "import matplotlib as mpl\n",
    "import matplotlib.pyplot as plt\n",
    "\n",
    "plt.rc('font', family='serif', serif='Times')\n",
    "plt.rc('text', usetex=False)\n",
    "plt.rc('xtick', labelsize=4)\n",
    "plt.rc('ytick', labelsize=4)\n",
    "plt.rc('axes', labelsize=6)\n",
    "sns.set_style(\"whitegrid\")\n",
    "\n",
    "\n",
    "# width as measured in inkscape\n",
    "width = 3.487\n",
    "height = width / 1.618\n",
    "\n",
    "fig, ax = plt.subplots()\n",
    "fig.subplots_adjust(left=.15, bottom=.30, right=.95, top=.90)\n",
    "\n",
    "plt.plot(            \n",
    "            cont_filt.timeStamp,\n",
    "             cont_filt.Exp1_OxygenTemp.rolling(100).mean()\n",
    "            )\n",
    "\n",
    "plt.gca().xaxis.set_major_formatter(mdates.DateFormatter('%d-%H:%M'))\n",
    "plt.xticks(rotation=30, ha='center', va='top')\n",
    "#plt.yticks(fontsize=3)\n",
    "plt.tick_params(axis='both',bottom=True, top=False, left=True, right=False, direction='out', which='major')\n",
    "\n",
    "ax.set_ylabel(\"Water temperature \\n [C°]\", fontsize='6', fontweight='bold')\n",
    "ax.set_xlabel(\"Time  \\n [Day-Hour:Minute]\", fontsize='6', fontweight='bold')\n",
    "plt.title('Water temperature [Exp1_Ground control]', fontsize='6', fontweight='bold')\n",
    "\n",
    "#figure = plot.get_figure()    \n",
    "#figure.set_size_inches(28, 10)\n",
    "#plt.tight_layout()\n",
    "#figure.savefig('../output/Oxy_test.png', dpi=500)\n",
    "\n",
    "fig.set_size_inches(width, height)\n",
    "\n",
    "fig.savefig('Water_temperature_Exp1_Ground_control.png', dpi=1000)\n",
    "#plt.show()"
   ]
  },
  {
   "cell_type": "code",
   "execution_count": 59,
   "metadata": {
    "scrolled": true
   },
   "outputs": [
    {
     "data": {
      "text/plain": [
       "[<matplotlib.lines.Line2D at 0x7fe2d8328e80>]"
      ]
     },
     "execution_count": 59,
     "metadata": {},
     "output_type": "execute_result"
    },
    {
     "data": {
      "text/plain": [
       "(array([737200., 737204., 737208., 737211., 737215., 737219., 737223.,\n",
       "        737227., 737231., 737235., 737239.]),\n",
       " <a list of 11 Text xticklabel objects>)"
      ]
     },
     "execution_count": 59,
     "metadata": {},
     "output_type": "execute_result"
    },
    {
     "data": {
      "text/plain": [
       "Text(0, 0.5, 'Oxygen content \\n [%]')"
      ]
     },
     "execution_count": 59,
     "metadata": {},
     "output_type": "execute_result"
    },
    {
     "data": {
      "text/plain": [
       "Text(0.5, 0, 'Time  \\n [Day-Hour:Minute]')"
      ]
     },
     "execution_count": 59,
     "metadata": {},
     "output_type": "execute_result"
    },
    {
     "data": {
      "text/plain": [
       "Text(0.5, 1.0, 'Oxygen content [Exp1_Ground control]')"
      ]
     },
     "execution_count": 59,
     "metadata": {},
     "output_type": "execute_result"
    },
    {
     "data": {
      "image/png": "[encoded data removed]",
      "text/plain": [
       "<Figure size 251.064x155.169 with 1 Axes>"
      ]
     },
     "metadata": {},
     "output_type": "display_data"
    }
   ],
   "source": [
    "import numpy as np\n",
    "import matplotlib as mpl\n",
    "import matplotlib.pyplot as plt\n",
    "sns.set_style(\"whitegrid\")\n",
    "plt.rc('font', family='serif', serif='Times')\n",
    "plt.rc('text', usetex=False)\n",
    "plt.rc('xtick', labelsize=4)\n",
    "plt.rc('ytick', labelsize=4)\n",
    "plt.rc('axes', labelsize=6)\n",
    "\n",
    "\n",
    "\n",
    "# width as measured in inkscape\n",
    "width = 3.487\n",
    "height = width / 1.618\n",
    "\n",
    "fig, ax = plt.subplots()\n",
    "fig.subplots_adjust(left=.15, bottom=.30, right=.95, top=.90)\n",
    "\n",
    "plt.plot(          \n",
    "           cont_filt.timeStamp,\n",
    "           cont_filt.OxPer_1_rolling\n",
    "            )\n",
    "\n",
    "plt.gca().xaxis.set_major_formatter(mdates.DateFormatter('%d-%H:%M'))\n",
    "plt.xticks(rotation=30, ha='center', va='top')\n",
    "#plt.yticks(fontsize=3)\n",
    "plt.tick_params(axis='both',bottom=True, top=False, left=True, right=False, direction='out', which='major')\n",
    "\n",
    "ax.set_ylabel(\"Oxygen content \\n [%]\", fontsize='6', fontweight='bold')\n",
    "ax.set_xlabel(\"Time  \\n [Day-Hour:Minute]\", fontsize='6', fontweight='bold')\n",
    "plt.title('Oxygen content [Exp1_Ground control]', fontsize='6', fontweight='bold')\n",
    "#plt.show()\n",
    "#figure = plot.get_figure()    \n",
    "#figure.set_size_inches(28, 10)\n",
    "#plt.tight_layout()\n",
    "#figure.savefig('../output/Oxy_test.png', dpi=500)\n",
    "\n",
    "fig.set_size_inches(width, height)\n",
    "fig.savefig('Oxygen_content_Exp1_Ground_control.png', dpi=1000)\n"
   ]
  },
  {
   "cell_type": "code",
   "execution_count": 60,
   "metadata": {},
   "outputs": [
    {
     "data": {
      "text/plain": [
       "[<matplotlib.lines.Line2D at 0x7fe2d82bf6a0>]"
      ]
     },
     "execution_count": 60,
     "metadata": {},
     "output_type": "execute_result"
    },
    {
     "data": {
      "text/plain": [
       "(array([737200., 737204., 737208., 737211., 737215., 737219., 737223.,\n",
       "        737227., 737231., 737235., 737239.]),\n",
       " <a list of 11 Text xticklabel objects>)"
      ]
     },
     "execution_count": 60,
     "metadata": {},
     "output_type": "execute_result"
    },
    {
     "data": {
      "text/plain": [
       "Text(0, 0.5, 'Oxygen content \\n [%]')"
      ]
     },
     "execution_count": 60,
     "metadata": {},
     "output_type": "execute_result"
    },
    {
     "data": {
      "text/plain": [
       "Text(0.5, 0, 'Time  \\n [Day-Hour:Minute]')"
      ]
     },
     "execution_count": 60,
     "metadata": {},
     "output_type": "execute_result"
    },
    {
     "data": {
      "text/plain": [
       "Text(0.5, 1.0, 'Oxygen content [Exp0_Ground control]')"
      ]
     },
     "execution_count": 60,
     "metadata": {},
     "output_type": "execute_result"
    },
    {
     "data": {
      "image/png": "[encoded data removed]",
      "text/plain": [
       "<Figure size 251.064x155.169 with 1 Axes>"
      ]
     },
     "metadata": {},
     "output_type": "display_data"
    }
   ],
   "source": [
    "import numpy as np\n",
    "import matplotlib as mpl\n",
    "import matplotlib.pyplot as plt\n",
    "sns.set_style(\"whitegrid\")\n",
    "plt.rc('font', family='serif', serif='Times')\n",
    "plt.rc('text', usetex=False)\n",
    "plt.rc('xtick', labelsize=4)\n",
    "plt.rc('ytick', labelsize=4)\n",
    "plt.rc('axes', labelsize=6)\n",
    "\n",
    "\n",
    "# width as measured in inkscape\n",
    "width = 3.487\n",
    "height = width / 1.618\n",
    "\n",
    "fig, ax = plt.subplots()\n",
    "fig.subplots_adjust(left=.15, bottom=.30, right=.95, top=.90)\n",
    "\n",
    "plt.plot(\n",
    "    \n",
    "      cont_filt.timeStamp,\n",
    "      cont_filt.OxPer_0_rolling\n",
    "            )\n",
    "\n",
    "plt.gca().xaxis.set_major_formatter(mdates.DateFormatter('%d-%H:%M'))\n",
    "plt.xticks(rotation=30, ha='center', va='top')\n",
    "#plt.yticks(fontsize=3)\n",
    "plt.tick_params(axis='both',bottom=True, top=False, left=True, right=False, direction='out', which='major')\n",
    "\n",
    "ax.set_ylabel(\"Oxygen content \\n [%]\", fontsize='6', fontweight='bold')\n",
    "ax.set_xlabel(\"Time  \\n [Day-Hour:Minute]\", fontsize='6', fontweight='bold')\n",
    "plt.title('Oxygen content [Exp0_Ground control]', fontsize='6', fontweight='bold')\n",
    "#plt.show()\n",
    "#figure = plot.get_figure()    \n",
    "#figure.set_size_inches(28, 10)\n",
    "#plt.tight_layout()\n",
    "#figure.savefig('../output/Oxy_test.png', dpi=500)\n",
    "\n",
    "fig.set_size_inches(width, height)\n",
    "fig.savefig('Oxygen_content_Exp0_Ground_control.png', dpi=1000)\n"
   ]
  },
  {
   "cell_type": "code",
   "execution_count": 61,
   "metadata": {},
   "outputs": [
    {
     "data": {
      "text/plain": [
       "[<matplotlib.lines.Line2D at 0x7fe2d823c9b0>]"
      ]
     },
     "execution_count": 61,
     "metadata": {},
     "output_type": "execute_result"
    },
    {
     "data": {
      "text/plain": [
       "(array([737200., 737204., 737208., 737211., 737215., 737219., 737223.,\n",
       "        737227., 737231., 737235., 737239.]),\n",
       " <a list of 11 Text xticklabel objects>)"
      ]
     },
     "execution_count": 61,
     "metadata": {},
     "output_type": "execute_result"
    },
    {
     "data": {
      "text/plain": [
       "Text(0, 0.5, 'Ambient Pressure \\n [hPa]')"
      ]
     },
     "execution_count": 61,
     "metadata": {},
     "output_type": "execute_result"
    },
    {
     "data": {
      "text/plain": [
       "Text(0.5, 0, 'Time  \\n [Day-Hour:Minute]')"
      ]
     },
     "execution_count": 61,
     "metadata": {},
     "output_type": "execute_result"
    },
    {
     "data": {
      "text/plain": [
       "Text(0.5, 1.0, 'Ambient Pressure [Ground control]')"
      ]
     },
     "execution_count": 61,
     "metadata": {},
     "output_type": "execute_result"
    },
    {
     "data": {
      "image/png": "[encoded data removed]",
      "text/plain": [
       "<Figure size 251.064x155.169 with 1 Axes>"
      ]
     },
     "metadata": {},
     "output_type": "display_data"
    }
   ],
   "source": [
    "import numpy as np\n",
    "import matplotlib as mpl\n",
    "\n",
    "import matplotlib.pyplot as plt\n",
    "\n",
    "plt.rc('font', family='serif', serif='Times')\n",
    "plt.rc('text', usetex=False)\n",
    "plt.rc('xtick', labelsize=4)\n",
    "plt.rc('ytick', labelsize=4)\n",
    "plt.rc('axes', labelsize=6)\n",
    "sns.set_style(\"whitegrid\")\n",
    "\n",
    "# width as measured in inkscape\n",
    "width = 3.487\n",
    "height = width / 1.618\n",
    "\n",
    "fig, ax = plt.subplots()\n",
    "fig.subplots_adjust(left=.15, bottom=.30, right=.95, top=.90)\n",
    "\n",
    "plt.plot(\n",
    "          \n",
    "           cont_filt.timeStamp,\n",
    "           cont_filt.PressLA)\n",
    "\n",
    "plt.gca().xaxis.set_major_formatter(mdates.DateFormatter('%d-%H:%M'))\n",
    "plt.xticks(rotation=30, ha='center', va='top')\n",
    "#plt.yticks(fontsize=3)\n",
    "plt.tick_params(axis='both',bottom=True, top=False, left=True, right=False, direction='out', which='major')\n",
    "\n",
    "ax.set_ylabel(\"Ambient Pressure \\n [hPa]\", fontsize='6', fontweight='bold')\n",
    "ax.set_xlabel(\"Time  \\n [Day-Hour:Minute]\", fontsize='6', fontweight='bold')\n",
    "plt.title('Ambient Pressure [Ground control]', fontsize='6', fontweight='bold')\n",
    "#plt.show()\n",
    "#figure = plot.get_figure()    \n",
    "#figure.set_size_inches(28, 10)\n",
    "#plt.tight_layout()\n",
    "#figure.savefig('../output/Oxy_test.png', dpi=500)\n",
    "\n",
    "fig.set_size_inches(width, height)\n",
    "fig.savefig('Ambient_Pressure_Ground_control.png', dpi=1000)\n",
    "\n",
    "\n"
   ]
  },
  {
   "cell_type": "code",
   "execution_count": 62,
   "metadata": {},
   "outputs": [
    {
     "data": {
      "text/plain": [
       "[<matplotlib.lines.Line2D at 0x7fe2d81bba20>]"
      ]
     },
     "execution_count": 62,
     "metadata": {},
     "output_type": "execute_result"
    },
    {
     "data": {
      "text/plain": [
       "(array([737200., 737204., 737208., 737211., 737215., 737219., 737223.,\n",
       "        737227., 737231., 737235., 737239.]),\n",
       " <a list of 11 Text xticklabel objects>)"
      ]
     },
     "execution_count": 62,
     "metadata": {},
     "output_type": "execute_result"
    },
    {
     "data": {
      "text/plain": [
       "Text(0, 0.5, 'pH Value')"
      ]
     },
     "execution_count": 62,
     "metadata": {},
     "output_type": "execute_result"
    },
    {
     "data": {
      "text/plain": [
       "Text(0.5, 0, 'Time  \\n [Day-Hour:Minute]')"
      ]
     },
     "execution_count": 62,
     "metadata": {},
     "output_type": "execute_result"
    },
    {
     "data": {
      "text/plain": [
       "Text(0.5, 1.0, 'pH Value [Exp0_Ground control]')"
      ]
     },
     "execution_count": 62,
     "metadata": {},
     "output_type": "execute_result"
    },
    {
     "data": {
      "image/png": "[encoded data removed]",
      "text/plain": [
       "<Figure size 251.064x155.169 with 1 Axes>"
      ]
     },
     "metadata": {},
     "output_type": "display_data"
    }
   ],
   "source": [
    "import numpy as np\n",
    "import matplotlib as mpl\n",
    "\n",
    "import matplotlib.pyplot as plt\n",
    "\n",
    "plt.rc('font', family='serif', serif='Times')\n",
    "plt.rc('text', usetex=False)\n",
    "plt.rc('xtick', labelsize=4)\n",
    "plt.rc('ytick', labelsize=4)\n",
    "plt.rc('axes', labelsize=6)\n",
    "sns.set_style(\"whitegrid\")\n",
    "\n",
    "# width as measured in inkscape\n",
    "width = 3.487\n",
    "height = width / 1.618\n",
    "\n",
    "fig, ax = plt.subplots()\n",
    "fig.subplots_adjust(left=.15, bottom=.30, right=.95, top=.90)\n",
    "\n",
    "plt.plot(           \n",
    "           cont_filt.timeStamp,\n",
    "           cont_filt.ph_rolling)\n",
    "\n",
    "plt.gca().xaxis.set_major_formatter(mdates.DateFormatter('%d-%H:%M'))\n",
    "plt.xticks(rotation=30, ha='center', va='top')\n",
    "#plt.yticks(fontsize=3)\n",
    "plt.tick_params(axis='both',bottom=True, top=False, left=True, right=False, direction='out', which='major')\n",
    "\n",
    "ax.set_ylabel(\"pH Value\", fontsize='6', fontweight='bold')\n",
    "ax.set_xlabel(\"Time  \\n [Day-Hour:Minute]\", fontsize='6', fontweight='bold')\n",
    "plt.title('pH Value [Exp0_Ground control]', fontsize='6', fontweight='bold')\n",
    "#plt.show()\n",
    "#figure = plot.get_figure()    \n",
    "#figure.set_size_inches(28, 10)\n",
    "#plt.tight_layout()\n",
    "#figure.savefig('../output/Oxy_test.png', dpi=500)\n",
    "\n",
    "fig.set_size_inches(width, height)\n",
    "fig.savefig('Exp0_PhValue_Ground_control.png', dpi=1000)\n",
    "\n",
    "\n"
   ]
  },
  {
   "cell_type": "code",
   "execution_count": 66,
   "metadata": {},
   "outputs": [],
   "source": [
    "# Saving to disk\n",
    "cont_filt.to_pickle('../../new_data/final_data_USE_THIS_ONE/control_filtered.pkl')\n",
    "cont_filt.to_csv('../../new_data/final_data_USE_THIS_ONE/control_filtered.csv')\n"
   ]
  },
  {
   "cell_type": "code",
   "execution_count": 67,
   "metadata": {},
   "outputs": [
    {
     "data": {
      "text/plain": [
       "index                            int64\n",
       "timeStamp               datetime64[ns]\n",
       "Exp0_OxygenTemp                float64\n",
       "Exp0_OxygenpercentO2           float64\n",
       "Exp0_PhValue                   float64\n",
       "Exp1_OxygenTemp                float64\n",
       "Exp1_OxygenpercentO2           float64\n",
       "Pressure_LateAccess            float64\n",
       "ph_rolling                     float64\n",
       "OxPer_1_rolling                float64\n",
       "OxPer_0_rolling                float64\n",
       "PressLA                        float64\n",
       "dtype: object"
      ]
     },
     "execution_count": 67,
     "metadata": {},
     "output_type": "execute_result"
    }
   ],
   "source": [
    "cont_filt.dtypes"
   ]
  }
 ],
 "metadata": {
  "kernelspec": {
   "display_name": "Python 3",
   "language": "python",
   "name": "python3"
  },
  "language_info": {
   "codemirror_mode": {
    "name": "ipython",
    "version": 3
   },
   "file_extension": ".py",
   "mimetype": "text/x-python",
   "name": "python",
   "nbconvert_exporter": "python",
   "pygments_lexer": "ipython3",
   "version": "3.6.8"
  }
 },
 "nbformat": 4,
 "nbformat_minor": 2
}
