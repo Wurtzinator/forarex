{
 "cells": [
  {
   "cell_type": "code",
   "execution_count": 1,
   "metadata": {},
   "outputs": [],
   "source": [
    "#############################################################################\n",
    "####################Import all packages######################################\n",
    "#############################################################################\n",
    "import os\n",
    "import numpy as np\n",
    "#import missingno as msno\n",
    "import seaborn as sns\n",
    "import matplotlib.pyplot as plt\n",
    "#import pandas_profiling as pp\n",
    "import pandas as pd\n",
    "pd.set_option('display.max_rows', 1000)\n",
    "pd.set_option('display.max_columns', 500)\n",
    "pd.set_option('display.width', 1000)\n",
    "pd.options.mode.chained_assignment = None  # default='warn'\n",
    "# Set working directory\n",
    "#############################################################################\n",
    "# Make Jupyter Notebook show ALL output of a cell, not only the last one\n",
    "from IPython.core.interactiveshell import InteractiveShell\n",
    "InteractiveShell.ast_node_interactivity = \"all\""
   ]
  },
  {
   "cell_type": "code",
   "execution_count": 13,
   "metadata": {
    "scrolled": true
   },
   "outputs": [],
   "source": [
    "def read_all_csvs_in_folder(path):\n",
    "    ''' Function reading in all CSV files in a given folder.\n",
    "        1. First lists all files in folder.\n",
    "        2. Then reads in only files which are NOT of file size = 0 and contain headers + AT LEAST 1 row of data\n",
    "        3. Appends all files into a final dataframe\n",
    "        4. Also prints the amount of files in the folder, and the amount of files used for the final dataframe.\n",
    "    '''\n",
    "    import pandas as pd\n",
    "    import glob\n",
    "    import os\n",
    "    # Create list containing all files names of the current folder\n",
    "    all_files = glob.glob(path + \"/*.csv\")\n",
    "    # These empty lists will be filled with:\n",
    "    # 1. the names of the CSV files we want to append/merge, \n",
    "    # 2. 2 lists containing numbers representing all the files that were empty (or headers but no row data) and not read\n",
    "    \n",
    "    list_with_dfs = []\n",
    "    zero_files = []\n",
    "    empty_files = []\n",
    "    empty_row_files = []\n",
    "    filename_list = []\n",
    "    n_files_appended = 0\n",
    "    \n",
    "    print('')\n",
    "    print('')\n",
    "    print('#####################################################')\n",
    "    print('STARTING READ IN')\n",
    "    print('#####################################################')\n",
    "    print('')\n",
    "    \n",
    "    for filename in all_files:        \n",
    "        print('Reading current file:')\n",
    "        print(filename)\n",
    "        # Check whether the CSV file is larger than 0Bytes (if not, it has for sure no data and will break during read in)\n",
    "        try:        \n",
    "            if os.path.getsize(filename) == 0:\n",
    "                zero_files.append(filename)                \n",
    "                print('')\n",
    "                print('------------------------------------------------------')\n",
    "                print('!!! SKIPPING FILE: ' + filename)\n",
    "                print('    REASON: FILE SIZE == 0')\n",
    "                print('------------------------------------------------------')\n",
    "                print('')\n",
    "            if os.path.getsize(filename) > 0:\n",
    "                df = pd.read_csv(filename, index_col=None, header=0)            \n",
    "                if df.empty:\n",
    "                    empty_row_files.append(filename)\n",
    "                    print('')\n",
    "                    print('------------------------------------------------------')\n",
    "                    print('!!! SKIPPING FILE: ' + filename)\n",
    "                    print('    REASON: FILE CONTAINS NO ROW DATA')\n",
    "                    print('------------------------------------------------------')\n",
    "                    print('')\n",
    "                # Check whether the CSV is empty (this ALSO works when it DOES have headers, but no row data. This is important!)\n",
    "                if not df.empty:\n",
    "                    list_with_dfs.append(df)\n",
    "                    n_files_appended = n_files_appended + 1\n",
    "                    filename_list.append(filename)\n",
    "        except pd.errors.EmptyDataError:\n",
    "            print('')\n",
    "            print('------------------------------------------------------')\n",
    "            print('!!! SKIPPING FILE: ' + filename)\n",
    "            print('    REASON: FILE ENTIRELY EMPTY WITHOUT HEADERS')\n",
    "            print('------------------------------------------------------')\n",
    "            print('')\n",
    "            empty_files.append(filename)            \n",
    "            pass\n",
    "    \n",
    "    # Merge all files in the file list\n",
    "    frame = pd.concat(list_with_dfs, axis=0, ignore_index=True)\n",
    "    print('')\n",
    "    print('#####################################################')\n",
    "    print('!!! DONE READING & MERGING DATA !!!')\n",
    "    print('#####################################################')\n",
    "    print('')\n",
    "    print('------------------------------------------------------')\n",
    "    print('All files: ' + str(len(all_files)))    \n",
    "    print('')\n",
    "    print('Successfully appended files: ' + str(n_files_appended))\n",
    "    print('------------------------------------------------------')\n",
    "    print('------------------------------------------------------')\n",
    "    print('')\n",
    "    print('Empty files without headers: ' + str(len(empty_files)))\n",
    "    #print(len(empty_files))\n",
    "    print(empty_files)\n",
    "    print('')\n",
    "    print('Zero size files: ' + str(len(zero_files)))\n",
    "    #print(len(zero_files))\n",
    "    print(zero_files)\n",
    "    print('')\n",
    "    print('Empty row files: ' + str(len(empty_row_files)))\n",
    "    #print(len(empty_row_files))\n",
    "    print(empty_row_files)\n",
    "    print('')    \n",
    "    print('#####################################################')\n",
    "    \n",
    "    return frame    "
   ]
  },
  {
   "cell_type": "code",
   "execution_count": 1,
   "metadata": {
    "scrolled": false
   },
   "outputs": [],
   "source": [
    "# Read in files and merge them\n",
    "\n",
    "#PreFlight & Flight\n",
    "#path_pre_and_flight = r'../data/experiment/raw/exp_raw_pre_and_flight/' \n",
    "#pre_and_flight = read_all_csvs_in_folder(path_pre_and_flight)\n",
    "\n",
    "# PostFlight\n",
    "#path_postflight = r'../data/experiment/raw/exp_raw_postflight/postflightdata/postflight_data/' \n",
    "#postflight = read_all_csvs_in_folder(path_postflight)\n",
    "\n",
    "# Extra Flight\n",
    "#path_extra = r'../data/experiment/raw/exp_raw_extra/2019-04-12(1)/2019-04-12/' \n",
    "#extra = read_all_csvs_in_folder(path_extra)\n",
    "\n",
    "\n"
   ]
  },
  {
   "cell_type": "code",
   "execution_count": 20,
   "metadata": {},
   "outputs": [
    {
     "data": {
      "text/plain": [
       "(721, 70)"
      ]
     },
     "execution_count": 20,
     "metadata": {},
     "output_type": "execute_result"
    },
    {
     "data": {
      "text/html": [
       "<div>\n",
       "<style scoped>\n",
       "    .dataframe tbody tr th:only-of-type {\n",
       "        vertical-align: middle;\n",
       "    }\n",
       "\n",
       "    .dataframe tbody tr th {\n",
       "        vertical-align: top;\n",
       "    }\n",
       "\n",
       "    .dataframe thead th {\n",
       "        text-align: right;\n",
       "    }\n",
       "</style>\n",
       "<table border=\"1\" class=\"dataframe\">\n",
       "  <thead>\n",
       "    <tr style=\"text-align: right;\">\n",
       "      <th></th>\n",
       "      <th>timeStamp</th>\n",
       "      <th>Exp0_OxygenTemp</th>\n",
       "      <th>Exp0_Oxygendphi</th>\n",
       "      <th>Exp0_OxygenpercentO2</th>\n",
       "      <th>Exp0_OxygensingelIntensity</th>\n",
       "      <th>Exp0_OxygenAmbientLight</th>\n",
       "      <th>Exp0_PhValue</th>\n",
       "      <th>Exp0_PresensO2value</th>\n",
       "      <th>Exp0_PH calTemp</th>\n",
       "      <th>Exp0_PH Ref Amplitude</th>\n",
       "      <th>Exp0_PH Amplitude</th>\n",
       "      <th>Exp0_PH Phase shift</th>\n",
       "      <th>Exp0_PH calibration Pressure</th>\n",
       "      <th>Exp0_Presens 02 Ref Amp</th>\n",
       "      <th>Exp0_Presens 02 Amp</th>\n",
       "      <th>Exp0_Presens 02 Phase</th>\n",
       "      <th>Exp0_Presens 02 cal Temp</th>\n",
       "      <th>Exp0_Presens errorcode</th>\n",
       "      <th>Exp0_TempPump</th>\n",
       "      <th>Exp0_TempCamera</th>\n",
       "      <th>Exp1_OxygenTemp</th>\n",
       "      <th>Exp1_Oxygendphi</th>\n",
       "      <th>Exp1_OxygenpercentO2</th>\n",
       "      <th>Exp1_OxygensingelIntensity</th>\n",
       "      <th>Exp1_OxygenAmbientLight</th>\n",
       "      <th>Exp1_PhValue</th>\n",
       "      <th>Exp1_PresensO2value</th>\n",
       "      <th>Exp1_PH calTemp</th>\n",
       "      <th>Exp1_PH Ref Amplitude</th>\n",
       "      <th>Exp1_PH Amplitude</th>\n",
       "      <th>Exp1_PH Phase shift</th>\n",
       "      <th>Exp1_PH calibration Pressure</th>\n",
       "      <th>Exp1_Presens 02 Ref Amp</th>\n",
       "      <th>Exp1_Presens 02 Amp</th>\n",
       "      <th>Exp1_Presens 02 Phase</th>\n",
       "      <th>Exp1_Presens 02 cal Temp</th>\n",
       "      <th>Exp1_Presens errorcode</th>\n",
       "      <th>Exp1_TempPump</th>\n",
       "      <th>Exp1_TempCamera</th>\n",
       "      <th>Temp_airHighPresision</th>\n",
       "      <th>Temp_Heater</th>\n",
       "      <th>Pressure_Electronics</th>\n",
       "      <th>Pressure_LateAccess</th>\n",
       "      <th>Imu_gyroX</th>\n",
       "      <th>Imu_gyroY</th>\n",
       "      <th>Imu_gyroZ</th>\n",
       "      <th>Imu_accelegrationX</th>\n",
       "      <th>Imu_accelegrationY</th>\n",
       "      <th>Imu_accelegrationZ</th>\n",
       "      <th>Imu_orientationX</th>\n",
       "      <th>Imu_orientationY</th>\n",
       "      <th>Imu_orientationZ</th>\n",
       "      <th>36V current</th>\n",
       "      <th>36V voltage</th>\n",
       "      <th>12V current</th>\n",
       "      <th>12V voltage</th>\n",
       "      <th>5V current</th>\n",
       "      <th>5V voltage</th>\n",
       "      <th>3V current</th>\n",
       "      <th>3V voltage</th>\n",
       "      <th>ssd current</th>\n",
       "      <th>ssd voltage</th>\n",
       "      <th>pump0 current</th>\n",
       "      <th>pump0 voltage</th>\n",
       "      <th>pump1 current</th>\n",
       "      <th>pump1 voltage</th>\n",
       "      <th>flowCellLed0 current</th>\n",
       "      <th>flowCellLed0 voltage</th>\n",
       "      <th>flowCellLed1 current</th>\n",
       "      <th>flowCellLed1 voltage</th>\n",
       "    </tr>\n",
       "  </thead>\n",
       "  <tbody>\n",
       "    <tr>\n",
       "      <th>0</th>\n",
       "      <td>1552293621</td>\n",
       "      <td>0</td>\n",
       "      <td>0</td>\n",
       "      <td>0</td>\n",
       "      <td>0</td>\n",
       "      <td>0</td>\n",
       "      <td>0</td>\n",
       "      <td>0</td>\n",
       "      <td>0</td>\n",
       "      <td>0</td>\n",
       "      <td>0</td>\n",
       "      <td>0</td>\n",
       "      <td>0</td>\n",
       "      <td>0</td>\n",
       "      <td>0</td>\n",
       "      <td>0</td>\n",
       "      <td>0</td>\n",
       "      <td>0</td>\n",
       "      <td>29750</td>\n",
       "      <td>19464</td>\n",
       "      <td>0</td>\n",
       "      <td>0</td>\n",
       "      <td>0</td>\n",
       "      <td>0</td>\n",
       "      <td>0</td>\n",
       "      <td>0</td>\n",
       "      <td>0</td>\n",
       "      <td>0</td>\n",
       "      <td>0</td>\n",
       "      <td>0</td>\n",
       "      <td>0</td>\n",
       "      <td>0</td>\n",
       "      <td>0</td>\n",
       "      <td>0</td>\n",
       "      <td>0</td>\n",
       "      <td>0</td>\n",
       "      <td>0</td>\n",
       "      <td>29687</td>\n",
       "      <td>30625</td>\n",
       "      <td>29768</td>\n",
       "      <td>29750</td>\n",
       "      <td>9599</td>\n",
       "      <td>9951</td>\n",
       "      <td>-35</td>\n",
       "      <td>-33</td>\n",
       "      <td>-47</td>\n",
       "      <td>-3874</td>\n",
       "      <td>-67</td>\n",
       "      <td>-33</td>\n",
       "      <td>0</td>\n",
       "      <td>0</td>\n",
       "      <td>0</td>\n",
       "      <td>160</td>\n",
       "      <td>27803</td>\n",
       "      <td>112</td>\n",
       "      <td>12047</td>\n",
       "      <td>303</td>\n",
       "      <td>5020</td>\n",
       "      <td>363</td>\n",
       "      <td>3307</td>\n",
       "      <td>50</td>\n",
       "      <td>3297</td>\n",
       "      <td>0</td>\n",
       "      <td>0</td>\n",
       "      <td>0</td>\n",
       "      <td>0</td>\n",
       "      <td>0</td>\n",
       "      <td>0</td>\n",
       "      <td>0</td>\n",
       "      <td>0</td>\n",
       "    </tr>\n",
       "    <tr>\n",
       "      <th>1</th>\n",
       "      <td>1552293626</td>\n",
       "      <td>29594</td>\n",
       "      <td>31244</td>\n",
       "      <td>11472</td>\n",
       "      <td>16611</td>\n",
       "      <td>64821</td>\n",
       "      <td>0</td>\n",
       "      <td>0</td>\n",
       "      <td>0</td>\n",
       "      <td>0</td>\n",
       "      <td>0</td>\n",
       "      <td>0</td>\n",
       "      <td>0</td>\n",
       "      <td>0</td>\n",
       "      <td>0</td>\n",
       "      <td>0</td>\n",
       "      <td>0</td>\n",
       "      <td>0</td>\n",
       "      <td>29750</td>\n",
       "      <td>29750</td>\n",
       "      <td>30119</td>\n",
       "      <td>29280</td>\n",
       "      <td>13582</td>\n",
       "      <td>33417</td>\n",
       "      <td>65155</td>\n",
       "      <td>0</td>\n",
       "      <td>0</td>\n",
       "      <td>0</td>\n",
       "      <td>0</td>\n",
       "      <td>0</td>\n",
       "      <td>0</td>\n",
       "      <td>0</td>\n",
       "      <td>0</td>\n",
       "      <td>0</td>\n",
       "      <td>0</td>\n",
       "      <td>0</td>\n",
       "      <td>0</td>\n",
       "      <td>29687</td>\n",
       "      <td>30625</td>\n",
       "      <td>29779</td>\n",
       "      <td>29750</td>\n",
       "      <td>9597</td>\n",
       "      <td>9952</td>\n",
       "      <td>-28</td>\n",
       "      <td>-28</td>\n",
       "      <td>-45</td>\n",
       "      <td>-3906</td>\n",
       "      <td>-54</td>\n",
       "      <td>-54</td>\n",
       "      <td>0</td>\n",
       "      <td>0</td>\n",
       "      <td>0</td>\n",
       "      <td>360</td>\n",
       "      <td>27212</td>\n",
       "      <td>467</td>\n",
       "      <td>12036</td>\n",
       "      <td>424</td>\n",
       "      <td>5017</td>\n",
       "      <td>363</td>\n",
       "      <td>3307</td>\n",
       "      <td>50</td>\n",
       "      <td>3297</td>\n",
       "      <td>0</td>\n",
       "      <td>1</td>\n",
       "      <td>0</td>\n",
       "      <td>0</td>\n",
       "      <td>95</td>\n",
       "      <td>6</td>\n",
       "      <td>232</td>\n",
       "      <td>16</td>\n",
       "    </tr>\n",
       "    <tr>\n",
       "      <th>2</th>\n",
       "      <td>1552293631</td>\n",
       "      <td>29615</td>\n",
       "      <td>31276</td>\n",
       "      <td>8215</td>\n",
       "      <td>16631</td>\n",
       "      <td>64881</td>\n",
       "      <td>7100</td>\n",
       "      <td>2723835</td>\n",
       "      <td>0</td>\n",
       "      <td>0</td>\n",
       "      <td>0</td>\n",
       "      <td>0</td>\n",
       "      <td>0</td>\n",
       "      <td>0</td>\n",
       "      <td>0</td>\n",
       "      <td>0</td>\n",
       "      <td>0</td>\n",
       "      <td>0</td>\n",
       "      <td>29812</td>\n",
       "      <td>29750</td>\n",
       "      <td>30124</td>\n",
       "      <td>29267</td>\n",
       "      <td>9744</td>\n",
       "      <td>33409</td>\n",
       "      <td>65210</td>\n",
       "      <td>0</td>\n",
       "      <td>0</td>\n",
       "      <td>0</td>\n",
       "      <td>0</td>\n",
       "      <td>0</td>\n",
       "      <td>0</td>\n",
       "      <td>0</td>\n",
       "      <td>0</td>\n",
       "      <td>0</td>\n",
       "      <td>0</td>\n",
       "      <td>0</td>\n",
       "      <td>0</td>\n",
       "      <td>29687</td>\n",
       "      <td>30625</td>\n",
       "      <td>29779</td>\n",
       "      <td>29750</td>\n",
       "      <td>9597</td>\n",
       "      <td>9952</td>\n",
       "      <td>-35</td>\n",
       "      <td>-28</td>\n",
       "      <td>-49</td>\n",
       "      <td>-3898</td>\n",
       "      <td>-54</td>\n",
       "      <td>-57</td>\n",
       "      <td>0</td>\n",
       "      <td>0</td>\n",
       "      <td>0</td>\n",
       "      <td>400</td>\n",
       "      <td>27166</td>\n",
       "      <td>483</td>\n",
       "      <td>12035</td>\n",
       "      <td>545</td>\n",
       "      <td>5021</td>\n",
       "      <td>363</td>\n",
       "      <td>3307</td>\n",
       "      <td>50</td>\n",
       "      <td>3297</td>\n",
       "      <td>0</td>\n",
       "      <td>1</td>\n",
       "      <td>0</td>\n",
       "      <td>1</td>\n",
       "      <td>95</td>\n",
       "      <td>6</td>\n",
       "      <td>232</td>\n",
       "      <td>17</td>\n",
       "    </tr>\n",
       "    <tr>\n",
       "      <th>3</th>\n",
       "      <td>1552293636</td>\n",
       "      <td>29610</td>\n",
       "      <td>31287</td>\n",
       "      <td>8207</td>\n",
       "      <td>16643</td>\n",
       "      <td>64962</td>\n",
       "      <td>7099</td>\n",
       "      <td>2720247</td>\n",
       "      <td>0</td>\n",
       "      <td>0</td>\n",
       "      <td>0</td>\n",
       "      <td>0</td>\n",
       "      <td>0</td>\n",
       "      <td>0</td>\n",
       "      <td>0</td>\n",
       "      <td>0</td>\n",
       "      <td>0</td>\n",
       "      <td>0</td>\n",
       "      <td>29812</td>\n",
       "      <td>29750</td>\n",
       "      <td>30129</td>\n",
       "      <td>29285</td>\n",
       "      <td>9729</td>\n",
       "      <td>33406</td>\n",
       "      <td>65216</td>\n",
       "      <td>0</td>\n",
       "      <td>0</td>\n",
       "      <td>0</td>\n",
       "      <td>0</td>\n",
       "      <td>0</td>\n",
       "      <td>0</td>\n",
       "      <td>0</td>\n",
       "      <td>0</td>\n",
       "      <td>0</td>\n",
       "      <td>0</td>\n",
       "      <td>0</td>\n",
       "      <td>0</td>\n",
       "      <td>29687</td>\n",
       "      <td>30625</td>\n",
       "      <td>29768</td>\n",
       "      <td>29812</td>\n",
       "      <td>9596</td>\n",
       "      <td>9952</td>\n",
       "      <td>-37</td>\n",
       "      <td>-25</td>\n",
       "      <td>-53</td>\n",
       "      <td>-3889</td>\n",
       "      <td>-53</td>\n",
       "      <td>-21</td>\n",
       "      <td>0</td>\n",
       "      <td>0</td>\n",
       "      <td>0</td>\n",
       "      <td>400</td>\n",
       "      <td>27173</td>\n",
       "      <td>483</td>\n",
       "      <td>12033</td>\n",
       "      <td>424</td>\n",
       "      <td>5017</td>\n",
       "      <td>681</td>\n",
       "      <td>3303</td>\n",
       "      <td>350</td>\n",
       "      <td>3273</td>\n",
       "      <td>0</td>\n",
       "      <td>1</td>\n",
       "      <td>0</td>\n",
       "      <td>0</td>\n",
       "      <td>95</td>\n",
       "      <td>6</td>\n",
       "      <td>232</td>\n",
       "      <td>16</td>\n",
       "    </tr>\n",
       "    <tr>\n",
       "      <th>4</th>\n",
       "      <td>1552293641</td>\n",
       "      <td>29615</td>\n",
       "      <td>31283</td>\n",
       "      <td>8210</td>\n",
       "      <td>16651</td>\n",
       "      <td>64857</td>\n",
       "      <td>7099</td>\n",
       "      <td>2720576</td>\n",
       "      <td>0</td>\n",
       "      <td>0</td>\n",
       "      <td>0</td>\n",
       "      <td>0</td>\n",
       "      <td>0</td>\n",
       "      <td>0</td>\n",
       "      <td>0</td>\n",
       "      <td>0</td>\n",
       "      <td>0</td>\n",
       "      <td>0</td>\n",
       "      <td>29812</td>\n",
       "      <td>29812</td>\n",
       "      <td>30129</td>\n",
       "      <td>29277</td>\n",
       "      <td>9736</td>\n",
       "      <td>33433</td>\n",
       "      <td>65190</td>\n",
       "      <td>0</td>\n",
       "      <td>0</td>\n",
       "      <td>0</td>\n",
       "      <td>0</td>\n",
       "      <td>0</td>\n",
       "      <td>0</td>\n",
       "      <td>0</td>\n",
       "      <td>0</td>\n",
       "      <td>0</td>\n",
       "      <td>0</td>\n",
       "      <td>0</td>\n",
       "      <td>0</td>\n",
       "      <td>29750</td>\n",
       "      <td>30625</td>\n",
       "      <td>29747</td>\n",
       "      <td>29812</td>\n",
       "      <td>9599</td>\n",
       "      <td>9952</td>\n",
       "      <td>-31</td>\n",
       "      <td>-26</td>\n",
       "      <td>-48</td>\n",
       "      <td>-3893</td>\n",
       "      <td>-75</td>\n",
       "      <td>-37</td>\n",
       "      <td>0</td>\n",
       "      <td>0</td>\n",
       "      <td>0</td>\n",
       "      <td>360</td>\n",
       "      <td>27197</td>\n",
       "      <td>483</td>\n",
       "      <td>12031</td>\n",
       "      <td>272</td>\n",
       "      <td>5015</td>\n",
       "      <td>636</td>\n",
       "      <td>3305</td>\n",
       "      <td>350</td>\n",
       "      <td>3275</td>\n",
       "      <td>0</td>\n",
       "      <td>0</td>\n",
       "      <td>0</td>\n",
       "      <td>1</td>\n",
       "      <td>95</td>\n",
       "      <td>7</td>\n",
       "      <td>232</td>\n",
       "      <td>17</td>\n",
       "    </tr>\n",
       "  </tbody>\n",
       "</table>\n",
       "</div>"
      ],
      "text/plain": [
       "    timeStamp  Exp0_OxygenTemp  Exp0_Oxygendphi  Exp0_OxygenpercentO2  Exp0_OxygensingelIntensity  Exp0_OxygenAmbientLight  Exp0_PhValue  Exp0_PresensO2value  Exp0_PH calTemp  Exp0_PH Ref Amplitude  Exp0_PH Amplitude  Exp0_PH Phase shift  Exp0_PH calibration Pressure  Exp0_Presens 02 Ref Amp  Exp0_Presens 02 Amp  Exp0_Presens 02 Phase  Exp0_Presens 02 cal Temp  Exp0_Presens errorcode  Exp0_TempPump  Exp0_TempCamera  Exp1_OxygenTemp  Exp1_Oxygendphi  Exp1_OxygenpercentO2  Exp1_OxygensingelIntensity  Exp1_OxygenAmbientLight  Exp1_PhValue  Exp1_PresensO2value  Exp1_PH calTemp  Exp1_PH Ref Amplitude  Exp1_PH Amplitude  Exp1_PH Phase shift  Exp1_PH calibration Pressure  Exp1_Presens 02 Ref Amp  Exp1_Presens 02 Amp  Exp1_Presens 02 Phase  Exp1_Presens 02 cal Temp  Exp1_Presens errorcode  Exp1_TempPump  Exp1_TempCamera  Temp_airHighPresision  Temp_Heater  Pressure_Electronics  Pressure_LateAccess  Imu_gyroX  Imu_gyroY  Imu_gyroZ  Imu_accelegrationX  Imu_accelegrationY  Imu_accelegrationZ  \\\n",
       "0  1552293621                0                0                     0                           0                        0             0                    0                0                      0                  0                    0                             0                        0                    0                      0                         0                       0          29750            19464                0                0                     0                           0                        0             0                    0                0                      0                  0                    0                             0                        0                    0                      0                         0                       0          29687            30625                  29768        29750                  9599                 9951        -35        -33        -47               -3874                 -67                 -33   \n",
       "1  1552293626            29594            31244                 11472                       16611                    64821             0                    0                0                      0                  0                    0                             0                        0                    0                      0                         0                       0          29750            29750            30119            29280                 13582                       33417                    65155             0                    0                0                      0                  0                    0                             0                        0                    0                      0                         0                       0          29687            30625                  29779        29750                  9597                 9952        -28        -28        -45               -3906                 -54                 -54   \n",
       "2  1552293631            29615            31276                  8215                       16631                    64881          7100              2723835                0                      0                  0                    0                             0                        0                    0                      0                         0                       0          29812            29750            30124            29267                  9744                       33409                    65210             0                    0                0                      0                  0                    0                             0                        0                    0                      0                         0                       0          29687            30625                  29779        29750                  9597                 9952        -35        -28        -49               -3898                 -54                 -57   \n",
       "3  1552293636            29610            31287                  8207                       16643                    64962          7099              2720247                0                      0                  0                    0                             0                        0                    0                      0                         0                       0          29812            29750            30129            29285                  9729                       33406                    65216             0                    0                0                      0                  0                    0                             0                        0                    0                      0                         0                       0          29687            30625                  29768        29812                  9596                 9952        -37        -25        -53               -3889                 -53                 -21   \n",
       "4  1552293641            29615            31283                  8210                       16651                    64857          7099              2720576                0                      0                  0                    0                             0                        0                    0                      0                         0                       0          29812            29812            30129            29277                  9736                       33433                    65190             0                    0                0                      0                  0                    0                             0                        0                    0                      0                         0                       0          29750            30625                  29747        29812                  9599                 9952        -31        -26        -48               -3893                 -75                 -37   \n",
       "\n",
       "   Imu_orientationX  Imu_orientationY  Imu_orientationZ  36V current  36V voltage  12V current  12V voltage  5V current  5V voltage  3V current  3V voltage  ssd current  ssd voltage  pump0 current  pump0 voltage  pump1 current  pump1 voltage  flowCellLed0 current  flowCellLed0 voltage  flowCellLed1 current  flowCellLed1 voltage   \n",
       "0                 0                 0                 0          160        27803          112        12047         303        5020         363        3307           50         3297              0              0              0              0                     0                     0                     0                      0  \n",
       "1                 0                 0                 0          360        27212          467        12036         424        5017         363        3307           50         3297              0              1              0              0                    95                     6                   232                     16  \n",
       "2                 0                 0                 0          400        27166          483        12035         545        5021         363        3307           50         3297              0              1              0              1                    95                     6                   232                     17  \n",
       "3                 0                 0                 0          400        27173          483        12033         424        5017         681        3303          350         3273              0              1              0              0                    95                     6                   232                     16  \n",
       "4                 0                 0                 0          360        27197          483        12031         272        5015         636        3305          350         3275              0              0              0              1                    95                     7                   232                     17  "
      ]
     },
     "execution_count": 20,
     "metadata": {},
     "output_type": "execute_result"
    },
    {
     "data": {
      "text/html": [
       "<div>\n",
       "<style scoped>\n",
       "    .dataframe tbody tr th:only-of-type {\n",
       "        vertical-align: middle;\n",
       "    }\n",
       "\n",
       "    .dataframe tbody tr th {\n",
       "        vertical-align: top;\n",
       "    }\n",
       "\n",
       "    .dataframe thead th {\n",
       "        text-align: right;\n",
       "    }\n",
       "</style>\n",
       "<table border=\"1\" class=\"dataframe\">\n",
       "  <thead>\n",
       "    <tr style=\"text-align: right;\">\n",
       "      <th></th>\n",
       "      <th>timeStamp</th>\n",
       "      <th>Exp0_OxygenTemp</th>\n",
       "      <th>Exp0_Oxygendphi</th>\n",
       "      <th>Exp0_OxygenpercentO2</th>\n",
       "      <th>Exp0_OxygensingelIntensity</th>\n",
       "      <th>Exp0_OxygenAmbientLight</th>\n",
       "      <th>Exp0_PhValue</th>\n",
       "      <th>Exp0_PresensO2value</th>\n",
       "      <th>Exp0_PH calTemp</th>\n",
       "      <th>Exp0_PH Ref Amplitude</th>\n",
       "      <th>Exp0_PH Amplitude</th>\n",
       "      <th>Exp0_PH Phase shift</th>\n",
       "      <th>Exp0_PH calibration Pressure</th>\n",
       "      <th>Exp0_Presens 02 Ref Amp</th>\n",
       "      <th>Exp0_Presens 02 Amp</th>\n",
       "      <th>Exp0_Presens 02 Phase</th>\n",
       "      <th>Exp0_Presens 02 cal Temp</th>\n",
       "      <th>Exp0_Presens errorcode</th>\n",
       "      <th>Exp0_TempPump</th>\n",
       "      <th>Exp0_TempCamera</th>\n",
       "      <th>Exp1_OxygenTemp</th>\n",
       "      <th>Exp1_Oxygendphi</th>\n",
       "      <th>Exp1_OxygenpercentO2</th>\n",
       "      <th>Exp1_OxygensingelIntensity</th>\n",
       "      <th>Exp1_OxygenAmbientLight</th>\n",
       "      <th>Exp1_PhValue</th>\n",
       "      <th>Exp1_PresensO2value</th>\n",
       "      <th>Exp1_PH calTemp</th>\n",
       "      <th>Exp1_PH Ref Amplitude</th>\n",
       "      <th>Exp1_PH Amplitude</th>\n",
       "      <th>Exp1_PH Phase shift</th>\n",
       "      <th>Exp1_PH calibration Pressure</th>\n",
       "      <th>Exp1_Presens 02 Ref Amp</th>\n",
       "      <th>Exp1_Presens 02 Amp</th>\n",
       "      <th>Exp1_Presens 02 Phase</th>\n",
       "      <th>Exp1_Presens 02 cal Temp</th>\n",
       "      <th>Exp1_Presens errorcode</th>\n",
       "      <th>Exp1_TempPump</th>\n",
       "      <th>Exp1_TempCamera</th>\n",
       "      <th>Temp_airHighPresision</th>\n",
       "      <th>Temp_Heater</th>\n",
       "      <th>Pressure_Electronics</th>\n",
       "      <th>Pressure_LateAccess</th>\n",
       "      <th>Imu_gyroX</th>\n",
       "      <th>Imu_gyroY</th>\n",
       "      <th>Imu_gyroZ</th>\n",
       "      <th>Imu_accelegrationX</th>\n",
       "      <th>Imu_accelegrationY</th>\n",
       "      <th>Imu_accelegrationZ</th>\n",
       "      <th>Imu_orientationX</th>\n",
       "      <th>Imu_orientationY</th>\n",
       "      <th>Imu_orientationZ</th>\n",
       "      <th>36V current</th>\n",
       "      <th>36V voltage</th>\n",
       "      <th>12V current</th>\n",
       "      <th>12V voltage</th>\n",
       "      <th>5V current</th>\n",
       "      <th>5V voltage</th>\n",
       "      <th>3V current</th>\n",
       "      <th>3V voltage</th>\n",
       "      <th>ssd current</th>\n",
       "      <th>ssd voltage</th>\n",
       "      <th>pump0 current</th>\n",
       "      <th>pump0 voltage</th>\n",
       "      <th>pump1 current</th>\n",
       "      <th>pump1 voltage</th>\n",
       "      <th>flowCellLed0 current</th>\n",
       "      <th>flowCellLed0 voltage</th>\n",
       "      <th>flowCellLed1 current</th>\n",
       "      <th>flowCellLed1 voltage</th>\n",
       "    </tr>\n",
       "  </thead>\n",
       "  <tbody>\n",
       "    <tr>\n",
       "      <th>716</th>\n",
       "      <td>1552296385</td>\n",
       "      <td>33249</td>\n",
       "      <td>31282</td>\n",
       "      <td>7928</td>\n",
       "      <td>16255</td>\n",
       "      <td>64940</td>\n",
       "      <td>7120</td>\n",
       "      <td>7597098</td>\n",
       "      <td>0</td>\n",
       "      <td>0</td>\n",
       "      <td>0</td>\n",
       "      <td>0</td>\n",
       "      <td>0</td>\n",
       "      <td>0</td>\n",
       "      <td>0</td>\n",
       "      <td>0</td>\n",
       "      <td>0</td>\n",
       "      <td>0</td>\n",
       "      <td>32750</td>\n",
       "      <td>33812</td>\n",
       "      <td>30558</td>\n",
       "      <td>33535</td>\n",
       "      <td>6698</td>\n",
       "      <td>54555</td>\n",
       "      <td>65242</td>\n",
       "      <td>0</td>\n",
       "      <td>0</td>\n",
       "      <td>0</td>\n",
       "      <td>0</td>\n",
       "      <td>0</td>\n",
       "      <td>0</td>\n",
       "      <td>0</td>\n",
       "      <td>0</td>\n",
       "      <td>0</td>\n",
       "      <td>0</td>\n",
       "      <td>0</td>\n",
       "      <td>0</td>\n",
       "      <td>36687</td>\n",
       "      <td>35687</td>\n",
       "      <td>30185</td>\n",
       "      <td>34125</td>\n",
       "      <td>6554</td>\n",
       "      <td>5419</td>\n",
       "      <td>-312</td>\n",
       "      <td>-163</td>\n",
       "      <td>-114</td>\n",
       "      <td>5108</td>\n",
       "      <td>114</td>\n",
       "      <td>-500</td>\n",
       "      <td>0</td>\n",
       "      <td>0</td>\n",
       "      <td>0</td>\n",
       "      <td>360</td>\n",
       "      <td>29858</td>\n",
       "      <td>500</td>\n",
       "      <td>11990</td>\n",
       "      <td>393</td>\n",
       "      <td>5018</td>\n",
       "      <td>409</td>\n",
       "      <td>3308</td>\n",
       "      <td>60</td>\n",
       "      <td>3297</td>\n",
       "      <td>0</td>\n",
       "      <td>1</td>\n",
       "      <td>0</td>\n",
       "      <td>1</td>\n",
       "      <td>95</td>\n",
       "      <td>6</td>\n",
       "      <td>232</td>\n",
       "      <td>16</td>\n",
       "    </tr>\n",
       "    <tr>\n",
       "      <th>717</th>\n",
       "      <td>1552296390</td>\n",
       "      <td>33251</td>\n",
       "      <td>31309</td>\n",
       "      <td>7908</td>\n",
       "      <td>16531</td>\n",
       "      <td>64805</td>\n",
       "      <td>7119</td>\n",
       "      <td>7593511</td>\n",
       "      <td>0</td>\n",
       "      <td>0</td>\n",
       "      <td>0</td>\n",
       "      <td>0</td>\n",
       "      <td>0</td>\n",
       "      <td>0</td>\n",
       "      <td>0</td>\n",
       "      <td>0</td>\n",
       "      <td>0</td>\n",
       "      <td>0</td>\n",
       "      <td>32750</td>\n",
       "      <td>33812</td>\n",
       "      <td>30548</td>\n",
       "      <td>33601</td>\n",
       "      <td>6658</td>\n",
       "      <td>54911</td>\n",
       "      <td>65141</td>\n",
       "      <td>0</td>\n",
       "      <td>0</td>\n",
       "      <td>0</td>\n",
       "      <td>0</td>\n",
       "      <td>0</td>\n",
       "      <td>0</td>\n",
       "      <td>0</td>\n",
       "      <td>0</td>\n",
       "      <td>0</td>\n",
       "      <td>0</td>\n",
       "      <td>0</td>\n",
       "      <td>0</td>\n",
       "      <td>36687</td>\n",
       "      <td>35750</td>\n",
       "      <td>30174</td>\n",
       "      <td>34125</td>\n",
       "      <td>6612</td>\n",
       "      <td>5420</td>\n",
       "      <td>-1326</td>\n",
       "      <td>-158</td>\n",
       "      <td>-157</td>\n",
       "      <td>6719</td>\n",
       "      <td>-1</td>\n",
       "      <td>-730</td>\n",
       "      <td>0</td>\n",
       "      <td>0</td>\n",
       "      <td>0</td>\n",
       "      <td>320</td>\n",
       "      <td>29857</td>\n",
       "      <td>467</td>\n",
       "      <td>11990</td>\n",
       "      <td>393</td>\n",
       "      <td>5020</td>\n",
       "      <td>363</td>\n",
       "      <td>3308</td>\n",
       "      <td>60</td>\n",
       "      <td>3297</td>\n",
       "      <td>0</td>\n",
       "      <td>0</td>\n",
       "      <td>0</td>\n",
       "      <td>1</td>\n",
       "      <td>95</td>\n",
       "      <td>6</td>\n",
       "      <td>232</td>\n",
       "      <td>17</td>\n",
       "    </tr>\n",
       "    <tr>\n",
       "      <th>718</th>\n",
       "      <td>1552296395</td>\n",
       "      <td>33259</td>\n",
       "      <td>31303</td>\n",
       "      <td>7912</td>\n",
       "      <td>16519</td>\n",
       "      <td>64779</td>\n",
       "      <td>7119</td>\n",
       "      <td>7562413</td>\n",
       "      <td>0</td>\n",
       "      <td>0</td>\n",
       "      <td>0</td>\n",
       "      <td>0</td>\n",
       "      <td>0</td>\n",
       "      <td>0</td>\n",
       "      <td>0</td>\n",
       "      <td>0</td>\n",
       "      <td>0</td>\n",
       "      <td>0</td>\n",
       "      <td>32812</td>\n",
       "      <td>33812</td>\n",
       "      <td>30548</td>\n",
       "      <td>33675</td>\n",
       "      <td>6614</td>\n",
       "      <td>55244</td>\n",
       "      <td>65156</td>\n",
       "      <td>0</td>\n",
       "      <td>0</td>\n",
       "      <td>0</td>\n",
       "      <td>0</td>\n",
       "      <td>0</td>\n",
       "      <td>0</td>\n",
       "      <td>0</td>\n",
       "      <td>0</td>\n",
       "      <td>0</td>\n",
       "      <td>0</td>\n",
       "      <td>0</td>\n",
       "      <td>0</td>\n",
       "      <td>36687</td>\n",
       "      <td>35687</td>\n",
       "      <td>30164</td>\n",
       "      <td>34125</td>\n",
       "      <td>6636</td>\n",
       "      <td>5420</td>\n",
       "      <td>-3602</td>\n",
       "      <td>-3</td>\n",
       "      <td>-169</td>\n",
       "      <td>4253</td>\n",
       "      <td>-71</td>\n",
       "      <td>-237</td>\n",
       "      <td>0</td>\n",
       "      <td>0</td>\n",
       "      <td>0</td>\n",
       "      <td>400</td>\n",
       "      <td>29838</td>\n",
       "      <td>483</td>\n",
       "      <td>11990</td>\n",
       "      <td>424</td>\n",
       "      <td>5023</td>\n",
       "      <td>681</td>\n",
       "      <td>3303</td>\n",
       "      <td>320</td>\n",
       "      <td>3276</td>\n",
       "      <td>0</td>\n",
       "      <td>0</td>\n",
       "      <td>0</td>\n",
       "      <td>1</td>\n",
       "      <td>95</td>\n",
       "      <td>7</td>\n",
       "      <td>232</td>\n",
       "      <td>17</td>\n",
       "    </tr>\n",
       "    <tr>\n",
       "      <th>719</th>\n",
       "      <td>1552296400</td>\n",
       "      <td>33306</td>\n",
       "      <td>31385</td>\n",
       "      <td>7855</td>\n",
       "      <td>16820</td>\n",
       "      <td>64831</td>\n",
       "      <td>7118</td>\n",
       "      <td>7524029</td>\n",
       "      <td>0</td>\n",
       "      <td>0</td>\n",
       "      <td>0</td>\n",
       "      <td>0</td>\n",
       "      <td>0</td>\n",
       "      <td>0</td>\n",
       "      <td>0</td>\n",
       "      <td>0</td>\n",
       "      <td>0</td>\n",
       "      <td>0</td>\n",
       "      <td>32812</td>\n",
       "      <td>33812</td>\n",
       "      <td>30542</td>\n",
       "      <td>33748</td>\n",
       "      <td>6571</td>\n",
       "      <td>55668</td>\n",
       "      <td>65335</td>\n",
       "      <td>0</td>\n",
       "      <td>0</td>\n",
       "      <td>0</td>\n",
       "      <td>0</td>\n",
       "      <td>0</td>\n",
       "      <td>0</td>\n",
       "      <td>0</td>\n",
       "      <td>0</td>\n",
       "      <td>0</td>\n",
       "      <td>0</td>\n",
       "      <td>0</td>\n",
       "      <td>0</td>\n",
       "      <td>36687</td>\n",
       "      <td>35750</td>\n",
       "      <td>30142</td>\n",
       "      <td>34125</td>\n",
       "      <td>6663</td>\n",
       "      <td>5422</td>\n",
       "      <td>6069</td>\n",
       "      <td>-412</td>\n",
       "      <td>-326</td>\n",
       "      <td>4406</td>\n",
       "      <td>353</td>\n",
       "      <td>48</td>\n",
       "      <td>0</td>\n",
       "      <td>0</td>\n",
       "      <td>0</td>\n",
       "      <td>360</td>\n",
       "      <td>29840</td>\n",
       "      <td>483</td>\n",
       "      <td>11990</td>\n",
       "      <td>303</td>\n",
       "      <td>5015</td>\n",
       "      <td>681</td>\n",
       "      <td>3306</td>\n",
       "      <td>310</td>\n",
       "      <td>3276</td>\n",
       "      <td>0</td>\n",
       "      <td>0</td>\n",
       "      <td>0</td>\n",
       "      <td>1</td>\n",
       "      <td>95</td>\n",
       "      <td>7</td>\n",
       "      <td>232</td>\n",
       "      <td>18</td>\n",
       "    </tr>\n",
       "    <tr>\n",
       "      <th>720</th>\n",
       "      <td>1552296406</td>\n",
       "      <td>33267</td>\n",
       "      <td>31411</td>\n",
       "      <td>7837</td>\n",
       "      <td>16956</td>\n",
       "      <td>64896</td>\n",
       "      <td>7118</td>\n",
       "      <td>7491211</td>\n",
       "      <td>0</td>\n",
       "      <td>0</td>\n",
       "      <td>0</td>\n",
       "      <td>0</td>\n",
       "      <td>0</td>\n",
       "      <td>0</td>\n",
       "      <td>0</td>\n",
       "      <td>0</td>\n",
       "      <td>0</td>\n",
       "      <td>0</td>\n",
       "      <td>32812</td>\n",
       "      <td>33812</td>\n",
       "      <td>30540</td>\n",
       "      <td>33902</td>\n",
       "      <td>6481</td>\n",
       "      <td>56442</td>\n",
       "      <td>65213</td>\n",
       "      <td>0</td>\n",
       "      <td>0</td>\n",
       "      <td>0</td>\n",
       "      <td>0</td>\n",
       "      <td>0</td>\n",
       "      <td>0</td>\n",
       "      <td>0</td>\n",
       "      <td>0</td>\n",
       "      <td>0</td>\n",
       "      <td>0</td>\n",
       "      <td>0</td>\n",
       "      <td>0</td>\n",
       "      <td>36687</td>\n",
       "      <td>35750</td>\n",
       "      <td>30121</td>\n",
       "      <td>34125</td>\n",
       "      <td>6694</td>\n",
       "      <td>5423</td>\n",
       "      <td>3030</td>\n",
       "      <td>-349</td>\n",
       "      <td>627</td>\n",
       "      <td>4256</td>\n",
       "      <td>368</td>\n",
       "      <td>-306</td>\n",
       "      <td>0</td>\n",
       "      <td>0</td>\n",
       "      <td>0</td>\n",
       "      <td>400</td>\n",
       "      <td>29826</td>\n",
       "      <td>467</td>\n",
       "      <td>11990</td>\n",
       "      <td>424</td>\n",
       "      <td>5017</td>\n",
       "      <td>818</td>\n",
       "      <td>3300</td>\n",
       "      <td>430</td>\n",
       "      <td>3256</td>\n",
       "      <td>0</td>\n",
       "      <td>0</td>\n",
       "      <td>0</td>\n",
       "      <td>1</td>\n",
       "      <td>95</td>\n",
       "      <td>6</td>\n",
       "      <td>232</td>\n",
       "      <td>16</td>\n",
       "    </tr>\n",
       "  </tbody>\n",
       "</table>\n",
       "</div>"
      ],
      "text/plain": [
       "      timeStamp  Exp0_OxygenTemp  Exp0_Oxygendphi  Exp0_OxygenpercentO2  Exp0_OxygensingelIntensity  Exp0_OxygenAmbientLight  Exp0_PhValue  Exp0_PresensO2value  Exp0_PH calTemp  Exp0_PH Ref Amplitude  Exp0_PH Amplitude  Exp0_PH Phase shift  Exp0_PH calibration Pressure  Exp0_Presens 02 Ref Amp  Exp0_Presens 02 Amp  Exp0_Presens 02 Phase  Exp0_Presens 02 cal Temp  Exp0_Presens errorcode  Exp0_TempPump  Exp0_TempCamera  Exp1_OxygenTemp  Exp1_Oxygendphi  Exp1_OxygenpercentO2  Exp1_OxygensingelIntensity  Exp1_OxygenAmbientLight  Exp1_PhValue  Exp1_PresensO2value  Exp1_PH calTemp  Exp1_PH Ref Amplitude  Exp1_PH Amplitude  Exp1_PH Phase shift  Exp1_PH calibration Pressure  Exp1_Presens 02 Ref Amp  Exp1_Presens 02 Amp  Exp1_Presens 02 Phase  Exp1_Presens 02 cal Temp  Exp1_Presens errorcode  Exp1_TempPump  Exp1_TempCamera  Temp_airHighPresision  Temp_Heater  Pressure_Electronics  Pressure_LateAccess  Imu_gyroX  Imu_gyroY  Imu_gyroZ  Imu_accelegrationX  Imu_accelegrationY  Imu_accelegrationZ  \\\n",
       "716  1552296385            33249            31282                  7928                       16255                    64940          7120              7597098                0                      0                  0                    0                             0                        0                    0                      0                         0                       0          32750            33812            30558            33535                  6698                       54555                    65242             0                    0                0                      0                  0                    0                             0                        0                    0                      0                         0                       0          36687            35687                  30185        34125                  6554                 5419       -312       -163       -114                5108                 114                -500   \n",
       "717  1552296390            33251            31309                  7908                       16531                    64805          7119              7593511                0                      0                  0                    0                             0                        0                    0                      0                         0                       0          32750            33812            30548            33601                  6658                       54911                    65141             0                    0                0                      0                  0                    0                             0                        0                    0                      0                         0                       0          36687            35750                  30174        34125                  6612                 5420      -1326       -158       -157                6719                  -1                -730   \n",
       "718  1552296395            33259            31303                  7912                       16519                    64779          7119              7562413                0                      0                  0                    0                             0                        0                    0                      0                         0                       0          32812            33812            30548            33675                  6614                       55244                    65156             0                    0                0                      0                  0                    0                             0                        0                    0                      0                         0                       0          36687            35687                  30164        34125                  6636                 5420      -3602         -3       -169                4253                 -71                -237   \n",
       "719  1552296400            33306            31385                  7855                       16820                    64831          7118              7524029                0                      0                  0                    0                             0                        0                    0                      0                         0                       0          32812            33812            30542            33748                  6571                       55668                    65335             0                    0                0                      0                  0                    0                             0                        0                    0                      0                         0                       0          36687            35750                  30142        34125                  6663                 5422       6069       -412       -326                4406                 353                  48   \n",
       "720  1552296406            33267            31411                  7837                       16956                    64896          7118              7491211                0                      0                  0                    0                             0                        0                    0                      0                         0                       0          32812            33812            30540            33902                  6481                       56442                    65213             0                    0                0                      0                  0                    0                             0                        0                    0                      0                         0                       0          36687            35750                  30121        34125                  6694                 5423       3030       -349        627                4256                 368                -306   \n",
       "\n",
       "     Imu_orientationX  Imu_orientationY  Imu_orientationZ  36V current  36V voltage  12V current  12V voltage  5V current  5V voltage  3V current  3V voltage  ssd current  ssd voltage  pump0 current  pump0 voltage  pump1 current  pump1 voltage  flowCellLed0 current  flowCellLed0 voltage  flowCellLed1 current  flowCellLed1 voltage   \n",
       "716                 0                 0                 0          360        29858          500        11990         393        5018         409        3308           60         3297              0              1              0              1                    95                     6                   232                     16  \n",
       "717                 0                 0                 0          320        29857          467        11990         393        5020         363        3308           60         3297              0              0              0              1                    95                     6                   232                     17  \n",
       "718                 0                 0                 0          400        29838          483        11990         424        5023         681        3303          320         3276              0              0              0              1                    95                     7                   232                     17  \n",
       "719                 0                 0                 0          360        29840          483        11990         303        5015         681        3306          310         3276              0              0              0              1                    95                     7                   232                     18  \n",
       "720                 0                 0                 0          400        29826          467        11990         424        5017         818        3300          430         3256              0              0              0              1                    95                     6                   232                     16  "
      ]
     },
     "execution_count": 20,
     "metadata": {},
     "output_type": "execute_result"
    }
   ],
   "source": [
    "pre_and_flight.shape\n",
    "pre_and_flight.head()\n",
    "pre_and_flight.tail()"
   ]
  },
  {
   "cell_type": "code",
   "execution_count": 21,
   "metadata": {},
   "outputs": [
    {
     "data": {
      "text/plain": [
       "(353583, 70)"
      ]
     },
     "execution_count": 21,
     "metadata": {},
     "output_type": "execute_result"
    },
    {
     "data": {
      "text/html": [
       "<div>\n",
       "<style scoped>\n",
       "    .dataframe tbody tr th:only-of-type {\n",
       "        vertical-align: middle;\n",
       "    }\n",
       "\n",
       "    .dataframe tbody tr th {\n",
       "        vertical-align: top;\n",
       "    }\n",
       "\n",
       "    .dataframe thead th {\n",
       "        text-align: right;\n",
       "    }\n",
       "</style>\n",
       "<table border=\"1\" class=\"dataframe\">\n",
       "  <thead>\n",
       "    <tr style=\"text-align: right;\">\n",
       "      <th></th>\n",
       "      <th>timeStamp</th>\n",
       "      <th>Exp0_OxygenTemp</th>\n",
       "      <th>Exp0_Oxygendphi</th>\n",
       "      <th>Exp0_OxygenpercentO2</th>\n",
       "      <th>Exp0_OxygensingelIntensity</th>\n",
       "      <th>Exp0_OxygenAmbientLight</th>\n",
       "      <th>Exp0_PhValue</th>\n",
       "      <th>Exp0_PresensO2value</th>\n",
       "      <th>Exp0_PH calTemp</th>\n",
       "      <th>Exp0_PH Ref Amplitude</th>\n",
       "      <th>Exp0_PH Amplitude</th>\n",
       "      <th>Exp0_PH Phase shift</th>\n",
       "      <th>Exp0_PH calibration Pressure</th>\n",
       "      <th>Exp0_Presens 02 Ref Amp</th>\n",
       "      <th>Exp0_Presens 02 Amp</th>\n",
       "      <th>Exp0_Presens 02 Phase</th>\n",
       "      <th>Exp0_Presens 02 cal Temp</th>\n",
       "      <th>Exp0_Presens errorcode</th>\n",
       "      <th>Exp0_TempPump</th>\n",
       "      <th>Exp0_TempCamera</th>\n",
       "      <th>Exp1_OxygenTemp</th>\n",
       "      <th>Exp1_Oxygendphi</th>\n",
       "      <th>Exp1_OxygenpercentO2</th>\n",
       "      <th>Exp1_OxygensingelIntensity</th>\n",
       "      <th>Exp1_OxygenAmbientLight</th>\n",
       "      <th>Exp1_PhValue</th>\n",
       "      <th>Exp1_PresensO2value</th>\n",
       "      <th>Exp1_PH calTemp</th>\n",
       "      <th>Exp1_PH Ref Amplitude</th>\n",
       "      <th>Exp1_PH Amplitude</th>\n",
       "      <th>Exp1_PH Phase shift</th>\n",
       "      <th>Exp1_PH calibration Pressure</th>\n",
       "      <th>Exp1_Presens 02 Ref Amp</th>\n",
       "      <th>Exp1_Presens 02 Amp</th>\n",
       "      <th>Exp1_Presens 02 Phase</th>\n",
       "      <th>Exp1_Presens 02 cal Temp</th>\n",
       "      <th>Exp1_Presens errorcode</th>\n",
       "      <th>Exp1_TempPump</th>\n",
       "      <th>Exp1_TempCamera</th>\n",
       "      <th>Temp_airHighPresision</th>\n",
       "      <th>Temp_Heater</th>\n",
       "      <th>Pressure_Electronics</th>\n",
       "      <th>Pressure_LateAccess</th>\n",
       "      <th>Imu_gyroX</th>\n",
       "      <th>Imu_gyroY</th>\n",
       "      <th>Imu_gyroZ</th>\n",
       "      <th>Imu_accelegrationX</th>\n",
       "      <th>Imu_accelegrationY</th>\n",
       "      <th>Imu_accelegrationZ</th>\n",
       "      <th>Imu_orientationX</th>\n",
       "      <th>Imu_orientationY</th>\n",
       "      <th>Imu_orientationZ</th>\n",
       "      <th>36V current</th>\n",
       "      <th>36V voltage</th>\n",
       "      <th>12V current</th>\n",
       "      <th>12V voltage</th>\n",
       "      <th>5V current</th>\n",
       "      <th>5V voltage</th>\n",
       "      <th>3V current</th>\n",
       "      <th>3V voltage</th>\n",
       "      <th>ssd current</th>\n",
       "      <th>ssd voltage</th>\n",
       "      <th>pump0 current</th>\n",
       "      <th>pump0 voltage</th>\n",
       "      <th>pump1 current</th>\n",
       "      <th>pump1 voltage</th>\n",
       "      <th>flowCellLed0 current</th>\n",
       "      <th>flowCellLed0 voltage</th>\n",
       "      <th>flowCellLed1 current</th>\n",
       "      <th>flowCellLed1 voltage</th>\n",
       "    </tr>\n",
       "  </thead>\n",
       "  <tbody>\n",
       "    <tr>\n",
       "      <th>0</th>\n",
       "      <td>1554378176</td>\n",
       "      <td>20119.0</td>\n",
       "      <td>20898.0</td>\n",
       "      <td>18805.0</td>\n",
       "      <td>55425.0</td>\n",
       "      <td>65038.0</td>\n",
       "      <td>6726.0</td>\n",
       "      <td>8808485.0</td>\n",
       "      <td>0.0</td>\n",
       "      <td>0.0</td>\n",
       "      <td>0.0</td>\n",
       "      <td>0.0</td>\n",
       "      <td>0.0</td>\n",
       "      <td>0.0</td>\n",
       "      <td>0.0</td>\n",
       "      <td>0.0</td>\n",
       "      <td>0.0</td>\n",
       "      <td>0.0</td>\n",
       "      <td>20000.0</td>\n",
       "      <td>19812.0</td>\n",
       "      <td>20729.0</td>\n",
       "      <td>28193.0</td>\n",
       "      <td>11668.0</td>\n",
       "      <td>51718.0</td>\n",
       "      <td>64972.0</td>\n",
       "      <td>0.0</td>\n",
       "      <td>0.0</td>\n",
       "      <td>0.0</td>\n",
       "      <td>0.0</td>\n",
       "      <td>0.0</td>\n",
       "      <td>0.0</td>\n",
       "      <td>0.0</td>\n",
       "      <td>0.0</td>\n",
       "      <td>0.0</td>\n",
       "      <td>0.0</td>\n",
       "      <td>0.0</td>\n",
       "      <td>0.0</td>\n",
       "      <td>20000.0</td>\n",
       "      <td>20937.0</td>\n",
       "      <td>19670.0</td>\n",
       "      <td>19875.0</td>\n",
       "      <td>9930.0</td>\n",
       "      <td>9929.0</td>\n",
       "      <td>-128.0</td>\n",
       "      <td>51.0</td>\n",
       "      <td>42.0</td>\n",
       "      <td>194.0</td>\n",
       "      <td>-86.0</td>\n",
       "      <td>3688.0</td>\n",
       "      <td>0.0</td>\n",
       "      <td>0.0</td>\n",
       "      <td>0.0</td>\n",
       "      <td>200.0</td>\n",
       "      <td>23855.0</td>\n",
       "      <td>145.0</td>\n",
       "      <td>12020.0</td>\n",
       "      <td>303.0</td>\n",
       "      <td>4992.0</td>\n",
       "      <td>363.0</td>\n",
       "      <td>3313.0</td>\n",
       "      <td>50.0</td>\n",
       "      <td>3300.0</td>\n",
       "      <td>0.0</td>\n",
       "      <td>0.0</td>\n",
       "      <td>0.0</td>\n",
       "      <td>0.0</td>\n",
       "      <td>0.0</td>\n",
       "      <td>0.0</td>\n",
       "      <td>0.0</td>\n",
       "      <td>0.0</td>\n",
       "    </tr>\n",
       "    <tr>\n",
       "      <th>1</th>\n",
       "      <td>1554378181</td>\n",
       "      <td>20114.0</td>\n",
       "      <td>20914.0</td>\n",
       "      <td>18785.0</td>\n",
       "      <td>55542.0</td>\n",
       "      <td>65078.0</td>\n",
       "      <td>6726.0</td>\n",
       "      <td>8806800.0</td>\n",
       "      <td>0.0</td>\n",
       "      <td>0.0</td>\n",
       "      <td>0.0</td>\n",
       "      <td>0.0</td>\n",
       "      <td>0.0</td>\n",
       "      <td>0.0</td>\n",
       "      <td>0.0</td>\n",
       "      <td>0.0</td>\n",
       "      <td>0.0</td>\n",
       "      <td>0.0</td>\n",
       "      <td>20000.0</td>\n",
       "      <td>19812.0</td>\n",
       "      <td>20727.0</td>\n",
       "      <td>28200.0</td>\n",
       "      <td>11662.0</td>\n",
       "      <td>51738.0</td>\n",
       "      <td>65141.0</td>\n",
       "      <td>0.0</td>\n",
       "      <td>0.0</td>\n",
       "      <td>0.0</td>\n",
       "      <td>0.0</td>\n",
       "      <td>0.0</td>\n",
       "      <td>0.0</td>\n",
       "      <td>0.0</td>\n",
       "      <td>0.0</td>\n",
       "      <td>0.0</td>\n",
       "      <td>0.0</td>\n",
       "      <td>0.0</td>\n",
       "      <td>0.0</td>\n",
       "      <td>20000.0</td>\n",
       "      <td>20937.0</td>\n",
       "      <td>19681.0</td>\n",
       "      <td>19875.0</td>\n",
       "      <td>9928.0</td>\n",
       "      <td>9931.0</td>\n",
       "      <td>-126.0</td>\n",
       "      <td>50.0</td>\n",
       "      <td>45.0</td>\n",
       "      <td>199.0</td>\n",
       "      <td>-66.0</td>\n",
       "      <td>3612.0</td>\n",
       "      <td>0.0</td>\n",
       "      <td>0.0</td>\n",
       "      <td>0.0</td>\n",
       "      <td>200.0</td>\n",
       "      <td>23852.0</td>\n",
       "      <td>161.0</td>\n",
       "      <td>12021.0</td>\n",
       "      <td>303.0</td>\n",
       "      <td>5006.0</td>\n",
       "      <td>318.0</td>\n",
       "      <td>3315.0</td>\n",
       "      <td>50.0</td>\n",
       "      <td>3303.0</td>\n",
       "      <td>0.0</td>\n",
       "      <td>0.0</td>\n",
       "      <td>0.0</td>\n",
       "      <td>0.0</td>\n",
       "      <td>0.0</td>\n",
       "      <td>0.0</td>\n",
       "      <td>0.0</td>\n",
       "      <td>0.0</td>\n",
       "    </tr>\n",
       "    <tr>\n",
       "      <th>2</th>\n",
       "      <td>1554207924</td>\n",
       "      <td>20174.0</td>\n",
       "      <td>20858.0</td>\n",
       "      <td>18865.0</td>\n",
       "      <td>47145.0</td>\n",
       "      <td>64921.0</td>\n",
       "      <td>6731.0</td>\n",
       "      <td>7607684.0</td>\n",
       "      <td>0.0</td>\n",
       "      <td>0.0</td>\n",
       "      <td>0.0</td>\n",
       "      <td>0.0</td>\n",
       "      <td>0.0</td>\n",
       "      <td>0.0</td>\n",
       "      <td>0.0</td>\n",
       "      <td>0.0</td>\n",
       "      <td>0.0</td>\n",
       "      <td>0.0</td>\n",
       "      <td>20187.0</td>\n",
       "      <td>19875.0</td>\n",
       "      <td>20667.0</td>\n",
       "      <td>28830.0</td>\n",
       "      <td>11068.0</td>\n",
       "      <td>54362.0</td>\n",
       "      <td>65033.0</td>\n",
       "      <td>0.0</td>\n",
       "      <td>0.0</td>\n",
       "      <td>0.0</td>\n",
       "      <td>0.0</td>\n",
       "      <td>0.0</td>\n",
       "      <td>0.0</td>\n",
       "      <td>0.0</td>\n",
       "      <td>0.0</td>\n",
       "      <td>0.0</td>\n",
       "      <td>0.0</td>\n",
       "      <td>0.0</td>\n",
       "      <td>0.0</td>\n",
       "      <td>20187.0</td>\n",
       "      <td>21062.0</td>\n",
       "      <td>19745.0</td>\n",
       "      <td>20000.0</td>\n",
       "      <td>9991.0</td>\n",
       "      <td>9987.0</td>\n",
       "      <td>-127.0</td>\n",
       "      <td>23.0</td>\n",
       "      <td>41.0</td>\n",
       "      <td>184.0</td>\n",
       "      <td>-64.0</td>\n",
       "      <td>3675.0</td>\n",
       "      <td>0.0</td>\n",
       "      <td>0.0</td>\n",
       "      <td>0.0</td>\n",
       "      <td>240.0</td>\n",
       "      <td>23852.0</td>\n",
       "      <td>161.0</td>\n",
       "      <td>12020.0</td>\n",
       "      <td>272.0</td>\n",
       "      <td>5005.0</td>\n",
       "      <td>409.0</td>\n",
       "      <td>3313.0</td>\n",
       "      <td>50.0</td>\n",
       "      <td>3300.0</td>\n",
       "      <td>0.0</td>\n",
       "      <td>1.0</td>\n",
       "      <td>0.0</td>\n",
       "      <td>0.0</td>\n",
       "      <td>0.0</td>\n",
       "      <td>0.0</td>\n",
       "      <td>0.0</td>\n",
       "      <td>0.0</td>\n",
       "    </tr>\n",
       "    <tr>\n",
       "      <th>3</th>\n",
       "      <td>1554207929</td>\n",
       "      <td>20187.0</td>\n",
       "      <td>20861.0</td>\n",
       "      <td>18858.0</td>\n",
       "      <td>47045.0</td>\n",
       "      <td>64970.0</td>\n",
       "      <td>6731.0</td>\n",
       "      <td>7608215.0</td>\n",
       "      <td>0.0</td>\n",
       "      <td>0.0</td>\n",
       "      <td>0.0</td>\n",
       "      <td>0.0</td>\n",
       "      <td>0.0</td>\n",
       "      <td>0.0</td>\n",
       "      <td>0.0</td>\n",
       "      <td>0.0</td>\n",
       "      <td>0.0</td>\n",
       "      <td>0.0</td>\n",
       "      <td>20125.0</td>\n",
       "      <td>19875.0</td>\n",
       "      <td>20670.0</td>\n",
       "      <td>28813.0</td>\n",
       "      <td>11083.0</td>\n",
       "      <td>54266.0</td>\n",
       "      <td>65147.0</td>\n",
       "      <td>0.0</td>\n",
       "      <td>0.0</td>\n",
       "      <td>0.0</td>\n",
       "      <td>0.0</td>\n",
       "      <td>0.0</td>\n",
       "      <td>0.0</td>\n",
       "      <td>0.0</td>\n",
       "      <td>0.0</td>\n",
       "      <td>0.0</td>\n",
       "      <td>0.0</td>\n",
       "      <td>0.0</td>\n",
       "      <td>0.0</td>\n",
       "      <td>20125.0</td>\n",
       "      <td>21000.0</td>\n",
       "      <td>19767.0</td>\n",
       "      <td>20000.0</td>\n",
       "      <td>9989.0</td>\n",
       "      <td>9989.0</td>\n",
       "      <td>-129.0</td>\n",
       "      <td>52.0</td>\n",
       "      <td>44.0</td>\n",
       "      <td>180.0</td>\n",
       "      <td>-53.0</td>\n",
       "      <td>3691.0</td>\n",
       "      <td>0.0</td>\n",
       "      <td>0.0</td>\n",
       "      <td>0.0</td>\n",
       "      <td>240.0</td>\n",
       "      <td>23851.0</td>\n",
       "      <td>161.0</td>\n",
       "      <td>12021.0</td>\n",
       "      <td>424.0</td>\n",
       "      <td>5001.0</td>\n",
       "      <td>318.0</td>\n",
       "      <td>3315.0</td>\n",
       "      <td>50.0</td>\n",
       "      <td>3302.0</td>\n",
       "      <td>0.0</td>\n",
       "      <td>0.0</td>\n",
       "      <td>0.0</td>\n",
       "      <td>0.0</td>\n",
       "      <td>0.0</td>\n",
       "      <td>0.0</td>\n",
       "      <td>0.0</td>\n",
       "      <td>0.0</td>\n",
       "    </tr>\n",
       "    <tr>\n",
       "      <th>4</th>\n",
       "      <td>1553679109</td>\n",
       "      <td>19916.0</td>\n",
       "      <td>21160.0</td>\n",
       "      <td>18421.0</td>\n",
       "      <td>38304.0</td>\n",
       "      <td>65085.0</td>\n",
       "      <td>6736.0</td>\n",
       "      <td>5495274.0</td>\n",
       "      <td>0.0</td>\n",
       "      <td>0.0</td>\n",
       "      <td>0.0</td>\n",
       "      <td>0.0</td>\n",
       "      <td>0.0</td>\n",
       "      <td>0.0</td>\n",
       "      <td>0.0</td>\n",
       "      <td>0.0</td>\n",
       "      <td>0.0</td>\n",
       "      <td>0.0</td>\n",
       "      <td>20437.0</td>\n",
       "      <td>20375.0</td>\n",
       "      <td>20516.0</td>\n",
       "      <td>32303.0</td>\n",
       "      <td>8248.0</td>\n",
       "      <td>4271.0</td>\n",
       "      <td>65140.0</td>\n",
       "      <td>0.0</td>\n",
       "      <td>0.0</td>\n",
       "      <td>0.0</td>\n",
       "      <td>0.0</td>\n",
       "      <td>0.0</td>\n",
       "      <td>0.0</td>\n",
       "      <td>0.0</td>\n",
       "      <td>0.0</td>\n",
       "      <td>0.0</td>\n",
       "      <td>0.0</td>\n",
       "      <td>0.0</td>\n",
       "      <td>0.0</td>\n",
       "      <td>20250.0</td>\n",
       "      <td>21000.0</td>\n",
       "      <td>19681.0</td>\n",
       "      <td>20312.0</td>\n",
       "      <td>10233.0</td>\n",
       "      <td>10244.0</td>\n",
       "      <td>-128.0</td>\n",
       "      <td>50.0</td>\n",
       "      <td>44.0</td>\n",
       "      <td>175.0</td>\n",
       "      <td>-54.0</td>\n",
       "      <td>3591.0</td>\n",
       "      <td>0.0</td>\n",
       "      <td>0.0</td>\n",
       "      <td>0.0</td>\n",
       "      <td>240.0</td>\n",
       "      <td>23842.0</td>\n",
       "      <td>177.0</td>\n",
       "      <td>12020.0</td>\n",
       "      <td>333.0</td>\n",
       "      <td>5005.0</td>\n",
       "      <td>363.0</td>\n",
       "      <td>3313.0</td>\n",
       "      <td>50.0</td>\n",
       "      <td>3300.0</td>\n",
       "      <td>0.0</td>\n",
       "      <td>1.0</td>\n",
       "      <td>0.0</td>\n",
       "      <td>0.0</td>\n",
       "      <td>0.0</td>\n",
       "      <td>0.0</td>\n",
       "      <td>0.0</td>\n",
       "      <td>0.0</td>\n",
       "    </tr>\n",
       "  </tbody>\n",
       "</table>\n",
       "</div>"
      ],
      "text/plain": [
       "    timeStamp  Exp0_OxygenTemp  Exp0_Oxygendphi  Exp0_OxygenpercentO2  Exp0_OxygensingelIntensity  Exp0_OxygenAmbientLight  Exp0_PhValue  Exp0_PresensO2value  Exp0_PH calTemp  Exp0_PH Ref Amplitude  Exp0_PH Amplitude  Exp0_PH Phase shift  Exp0_PH calibration Pressure  Exp0_Presens 02 Ref Amp  Exp0_Presens 02 Amp  Exp0_Presens 02 Phase  Exp0_Presens 02 cal Temp  Exp0_Presens errorcode  Exp0_TempPump  Exp0_TempCamera  Exp1_OxygenTemp  Exp1_Oxygendphi  Exp1_OxygenpercentO2  Exp1_OxygensingelIntensity  Exp1_OxygenAmbientLight  Exp1_PhValue  Exp1_PresensO2value  Exp1_PH calTemp  Exp1_PH Ref Amplitude  Exp1_PH Amplitude  Exp1_PH Phase shift  Exp1_PH calibration Pressure  Exp1_Presens 02 Ref Amp  Exp1_Presens 02 Amp  Exp1_Presens 02 Phase  Exp1_Presens 02 cal Temp  Exp1_Presens errorcode  Exp1_TempPump  Exp1_TempCamera  Temp_airHighPresision  Temp_Heater  Pressure_Electronics  Pressure_LateAccess  Imu_gyroX  Imu_gyroY  Imu_gyroZ  Imu_accelegrationX  Imu_accelegrationY  Imu_accelegrationZ  \\\n",
       "0  1554378176          20119.0          20898.0               18805.0                     55425.0                  65038.0        6726.0            8808485.0              0.0                    0.0                0.0                  0.0                           0.0                      0.0                  0.0                    0.0                       0.0                     0.0        20000.0          19812.0          20729.0          28193.0               11668.0                     51718.0                  64972.0           0.0                  0.0              0.0                    0.0                0.0                  0.0                           0.0                      0.0                  0.0                    0.0                       0.0                     0.0        20000.0          20937.0                19670.0      19875.0                9930.0               9929.0     -128.0       51.0       42.0               194.0               -86.0              3688.0   \n",
       "1  1554378181          20114.0          20914.0               18785.0                     55542.0                  65078.0        6726.0            8806800.0              0.0                    0.0                0.0                  0.0                           0.0                      0.0                  0.0                    0.0                       0.0                     0.0        20000.0          19812.0          20727.0          28200.0               11662.0                     51738.0                  65141.0           0.0                  0.0              0.0                    0.0                0.0                  0.0                           0.0                      0.0                  0.0                    0.0                       0.0                     0.0        20000.0          20937.0                19681.0      19875.0                9928.0               9931.0     -126.0       50.0       45.0               199.0               -66.0              3612.0   \n",
       "2  1554207924          20174.0          20858.0               18865.0                     47145.0                  64921.0        6731.0            7607684.0              0.0                    0.0                0.0                  0.0                           0.0                      0.0                  0.0                    0.0                       0.0                     0.0        20187.0          19875.0          20667.0          28830.0               11068.0                     54362.0                  65033.0           0.0                  0.0              0.0                    0.0                0.0                  0.0                           0.0                      0.0                  0.0                    0.0                       0.0                     0.0        20187.0          21062.0                19745.0      20000.0                9991.0               9987.0     -127.0       23.0       41.0               184.0               -64.0              3675.0   \n",
       "3  1554207929          20187.0          20861.0               18858.0                     47045.0                  64970.0        6731.0            7608215.0              0.0                    0.0                0.0                  0.0                           0.0                      0.0                  0.0                    0.0                       0.0                     0.0        20125.0          19875.0          20670.0          28813.0               11083.0                     54266.0                  65147.0           0.0                  0.0              0.0                    0.0                0.0                  0.0                           0.0                      0.0                  0.0                    0.0                       0.0                     0.0        20125.0          21000.0                19767.0      20000.0                9989.0               9989.0     -129.0       52.0       44.0               180.0               -53.0              3691.0   \n",
       "4  1553679109          19916.0          21160.0               18421.0                     38304.0                  65085.0        6736.0            5495274.0              0.0                    0.0                0.0                  0.0                           0.0                      0.0                  0.0                    0.0                       0.0                     0.0        20437.0          20375.0          20516.0          32303.0                8248.0                      4271.0                  65140.0           0.0                  0.0              0.0                    0.0                0.0                  0.0                           0.0                      0.0                  0.0                    0.0                       0.0                     0.0        20250.0          21000.0                19681.0      20312.0               10233.0              10244.0     -128.0       50.0       44.0               175.0               -54.0              3591.0   \n",
       "\n",
       "   Imu_orientationX  Imu_orientationY  Imu_orientationZ  36V current  36V voltage  12V current  12V voltage  5V current  5V voltage  3V current  3V voltage  ssd current  ssd voltage  pump0 current  pump0 voltage  pump1 current  pump1 voltage  flowCellLed0 current  flowCellLed0 voltage  flowCellLed1 current  flowCellLed1 voltage   \n",
       "0               0.0               0.0               0.0        200.0      23855.0        145.0      12020.0       303.0      4992.0       363.0      3313.0         50.0       3300.0            0.0            0.0            0.0            0.0                   0.0                   0.0                   0.0                    0.0  \n",
       "1               0.0               0.0               0.0        200.0      23852.0        161.0      12021.0       303.0      5006.0       318.0      3315.0         50.0       3303.0            0.0            0.0            0.0            0.0                   0.0                   0.0                   0.0                    0.0  \n",
       "2               0.0               0.0               0.0        240.0      23852.0        161.0      12020.0       272.0      5005.0       409.0      3313.0         50.0       3300.0            0.0            1.0            0.0            0.0                   0.0                   0.0                   0.0                    0.0  \n",
       "3               0.0               0.0               0.0        240.0      23851.0        161.0      12021.0       424.0      5001.0       318.0      3315.0         50.0       3302.0            0.0            0.0            0.0            0.0                   0.0                   0.0                   0.0                    0.0  \n",
       "4               0.0               0.0               0.0        240.0      23842.0        177.0      12020.0       333.0      5005.0       363.0      3313.0         50.0       3300.0            0.0            1.0            0.0            0.0                   0.0                   0.0                   0.0                    0.0  "
      ]
     },
     "execution_count": 21,
     "metadata": {},
     "output_type": "execute_result"
    },
    {
     "data": {
      "text/html": [
       "<div>\n",
       "<style scoped>\n",
       "    .dataframe tbody tr th:only-of-type {\n",
       "        vertical-align: middle;\n",
       "    }\n",
       "\n",
       "    .dataframe tbody tr th {\n",
       "        vertical-align: top;\n",
       "    }\n",
       "\n",
       "    .dataframe thead th {\n",
       "        text-align: right;\n",
       "    }\n",
       "</style>\n",
       "<table border=\"1\" class=\"dataframe\">\n",
       "  <thead>\n",
       "    <tr style=\"text-align: right;\">\n",
       "      <th></th>\n",
       "      <th>timeStamp</th>\n",
       "      <th>Exp0_OxygenTemp</th>\n",
       "      <th>Exp0_Oxygendphi</th>\n",
       "      <th>Exp0_OxygenpercentO2</th>\n",
       "      <th>Exp0_OxygensingelIntensity</th>\n",
       "      <th>Exp0_OxygenAmbientLight</th>\n",
       "      <th>Exp0_PhValue</th>\n",
       "      <th>Exp0_PresensO2value</th>\n",
       "      <th>Exp0_PH calTemp</th>\n",
       "      <th>Exp0_PH Ref Amplitude</th>\n",
       "      <th>Exp0_PH Amplitude</th>\n",
       "      <th>Exp0_PH Phase shift</th>\n",
       "      <th>Exp0_PH calibration Pressure</th>\n",
       "      <th>Exp0_Presens 02 Ref Amp</th>\n",
       "      <th>Exp0_Presens 02 Amp</th>\n",
       "      <th>Exp0_Presens 02 Phase</th>\n",
       "      <th>Exp0_Presens 02 cal Temp</th>\n",
       "      <th>Exp0_Presens errorcode</th>\n",
       "      <th>Exp0_TempPump</th>\n",
       "      <th>Exp0_TempCamera</th>\n",
       "      <th>Exp1_OxygenTemp</th>\n",
       "      <th>Exp1_Oxygendphi</th>\n",
       "      <th>Exp1_OxygenpercentO2</th>\n",
       "      <th>Exp1_OxygensingelIntensity</th>\n",
       "      <th>Exp1_OxygenAmbientLight</th>\n",
       "      <th>Exp1_PhValue</th>\n",
       "      <th>Exp1_PresensO2value</th>\n",
       "      <th>Exp1_PH calTemp</th>\n",
       "      <th>Exp1_PH Ref Amplitude</th>\n",
       "      <th>Exp1_PH Amplitude</th>\n",
       "      <th>Exp1_PH Phase shift</th>\n",
       "      <th>Exp1_PH calibration Pressure</th>\n",
       "      <th>Exp1_Presens 02 Ref Amp</th>\n",
       "      <th>Exp1_Presens 02 Amp</th>\n",
       "      <th>Exp1_Presens 02 Phase</th>\n",
       "      <th>Exp1_Presens 02 cal Temp</th>\n",
       "      <th>Exp1_Presens errorcode</th>\n",
       "      <th>Exp1_TempPump</th>\n",
       "      <th>Exp1_TempCamera</th>\n",
       "      <th>Temp_airHighPresision</th>\n",
       "      <th>Temp_Heater</th>\n",
       "      <th>Pressure_Electronics</th>\n",
       "      <th>Pressure_LateAccess</th>\n",
       "      <th>Imu_gyroX</th>\n",
       "      <th>Imu_gyroY</th>\n",
       "      <th>Imu_gyroZ</th>\n",
       "      <th>Imu_accelegrationX</th>\n",
       "      <th>Imu_accelegrationY</th>\n",
       "      <th>Imu_accelegrationZ</th>\n",
       "      <th>Imu_orientationX</th>\n",
       "      <th>Imu_orientationY</th>\n",
       "      <th>Imu_orientationZ</th>\n",
       "      <th>36V current</th>\n",
       "      <th>36V voltage</th>\n",
       "      <th>12V current</th>\n",
       "      <th>12V voltage</th>\n",
       "      <th>5V current</th>\n",
       "      <th>5V voltage</th>\n",
       "      <th>3V current</th>\n",
       "      <th>3V voltage</th>\n",
       "      <th>ssd current</th>\n",
       "      <th>ssd voltage</th>\n",
       "      <th>pump0 current</th>\n",
       "      <th>pump0 voltage</th>\n",
       "      <th>pump1 current</th>\n",
       "      <th>pump1 voltage</th>\n",
       "      <th>flowCellLed0 current</th>\n",
       "      <th>flowCellLed0 voltage</th>\n",
       "      <th>flowCellLed1 current</th>\n",
       "      <th>flowCellLed1 voltage</th>\n",
       "    </tr>\n",
       "  </thead>\n",
       "  <tbody>\n",
       "    <tr>\n",
       "      <th>353578</th>\n",
       "      <td>1554081216</td>\n",
       "      <td>20072.0</td>\n",
       "      <td>20611.0</td>\n",
       "      <td>19299.0</td>\n",
       "      <td>48390.0</td>\n",
       "      <td>65036.0</td>\n",
       "      <td>6734.0</td>\n",
       "      <td>7142823.0</td>\n",
       "      <td>0.0</td>\n",
       "      <td>0.0</td>\n",
       "      <td>0.0</td>\n",
       "      <td>0.0</td>\n",
       "      <td>0.0</td>\n",
       "      <td>0.0</td>\n",
       "      <td>0.0</td>\n",
       "      <td>0.0</td>\n",
       "      <td>0.0</td>\n",
       "      <td>0.0</td>\n",
       "      <td>20687.0</td>\n",
       "      <td>20687.0</td>\n",
       "      <td>20638.0</td>\n",
       "      <td>29362.0</td>\n",
       "      <td>10585.0</td>\n",
       "      <td>57170.0</td>\n",
       "      <td>65109.0</td>\n",
       "      <td>0.0</td>\n",
       "      <td>0.0</td>\n",
       "      <td>0.0</td>\n",
       "      <td>0.0</td>\n",
       "      <td>0.0</td>\n",
       "      <td>0.0</td>\n",
       "      <td>0.0</td>\n",
       "      <td>0.0</td>\n",
       "      <td>0.0</td>\n",
       "      <td>0.0</td>\n",
       "      <td>0.0</td>\n",
       "      <td>0.0</td>\n",
       "      <td>20500.0</td>\n",
       "      <td>21125.0</td>\n",
       "      <td>19799.0</td>\n",
       "      <td>20687.0</td>\n",
       "      <td>10197.0</td>\n",
       "      <td>10208.0</td>\n",
       "      <td>-131.0</td>\n",
       "      <td>53.0</td>\n",
       "      <td>40.0</td>\n",
       "      <td>143.0</td>\n",
       "      <td>-65.0</td>\n",
       "      <td>3652.0</td>\n",
       "      <td>0.0</td>\n",
       "      <td>0.0</td>\n",
       "      <td>0.0</td>\n",
       "      <td>280.0</td>\n",
       "      <td>23841.0</td>\n",
       "      <td>193.0</td>\n",
       "      <td>12018.0</td>\n",
       "      <td>424.0</td>\n",
       "      <td>5006.0</td>\n",
       "      <td>363.0</td>\n",
       "      <td>3313.0</td>\n",
       "      <td>50.0</td>\n",
       "      <td>3301.0</td>\n",
       "      <td>0.0</td>\n",
       "      <td>1.0</td>\n",
       "      <td>0.0</td>\n",
       "      <td>0.0</td>\n",
       "      <td>0.0</td>\n",
       "      <td>0.0</td>\n",
       "      <td>0.0</td>\n",
       "      <td>0.0</td>\n",
       "    </tr>\n",
       "    <tr>\n",
       "      <th>353579</th>\n",
       "      <td>1553601063</td>\n",
       "      <td>20127.0</td>\n",
       "      <td>21545.0</td>\n",
       "      <td>17774.0</td>\n",
       "      <td>40816.0</td>\n",
       "      <td>65019.0</td>\n",
       "      <td>6724.0</td>\n",
       "      <td>5088969.0</td>\n",
       "      <td>0.0</td>\n",
       "      <td>0.0</td>\n",
       "      <td>0.0</td>\n",
       "      <td>0.0</td>\n",
       "      <td>0.0</td>\n",
       "      <td>0.0</td>\n",
       "      <td>0.0</td>\n",
       "      <td>0.0</td>\n",
       "      <td>0.0</td>\n",
       "      <td>0.0</td>\n",
       "      <td>20500.0</td>\n",
       "      <td>20375.0</td>\n",
       "      <td>20485.0</td>\n",
       "      <td>33524.0</td>\n",
       "      <td>7415.0</td>\n",
       "      <td>8876.0</td>\n",
       "      <td>65176.0</td>\n",
       "      <td>0.0</td>\n",
       "      <td>0.0</td>\n",
       "      <td>0.0</td>\n",
       "      <td>0.0</td>\n",
       "      <td>0.0</td>\n",
       "      <td>0.0</td>\n",
       "      <td>0.0</td>\n",
       "      <td>0.0</td>\n",
       "      <td>0.0</td>\n",
       "      <td>0.0</td>\n",
       "      <td>0.0</td>\n",
       "      <td>0.0</td>\n",
       "      <td>20312.0</td>\n",
       "      <td>21000.0</td>\n",
       "      <td>19703.0</td>\n",
       "      <td>20375.0</td>\n",
       "      <td>10187.0</td>\n",
       "      <td>10200.0</td>\n",
       "      <td>-126.0</td>\n",
       "      <td>57.0</td>\n",
       "      <td>44.0</td>\n",
       "      <td>142.0</td>\n",
       "      <td>-73.0</td>\n",
       "      <td>3683.0</td>\n",
       "      <td>0.0</td>\n",
       "      <td>0.0</td>\n",
       "      <td>0.0</td>\n",
       "      <td>240.0</td>\n",
       "      <td>23843.0</td>\n",
       "      <td>161.0</td>\n",
       "      <td>12022.0</td>\n",
       "      <td>363.0</td>\n",
       "      <td>5007.0</td>\n",
       "      <td>363.0</td>\n",
       "      <td>3315.0</td>\n",
       "      <td>50.0</td>\n",
       "      <td>3301.0</td>\n",
       "      <td>0.0</td>\n",
       "      <td>1.0</td>\n",
       "      <td>0.0</td>\n",
       "      <td>0.0</td>\n",
       "      <td>0.0</td>\n",
       "      <td>0.0</td>\n",
       "      <td>0.0</td>\n",
       "      <td>0.0</td>\n",
       "    </tr>\n",
       "    <tr>\n",
       "      <th>353580</th>\n",
       "      <td>1553601068</td>\n",
       "      <td>20129.0</td>\n",
       "      <td>21541.0</td>\n",
       "      <td>17779.0</td>\n",
       "      <td>40668.0</td>\n",
       "      <td>65084.0</td>\n",
       "      <td>6725.0</td>\n",
       "      <td>5090669.0</td>\n",
       "      <td>0.0</td>\n",
       "      <td>0.0</td>\n",
       "      <td>0.0</td>\n",
       "      <td>0.0</td>\n",
       "      <td>0.0</td>\n",
       "      <td>0.0</td>\n",
       "      <td>0.0</td>\n",
       "      <td>0.0</td>\n",
       "      <td>0.0</td>\n",
       "      <td>0.0</td>\n",
       "      <td>20437.0</td>\n",
       "      <td>20312.0</td>\n",
       "      <td>20485.0</td>\n",
       "      <td>33519.0</td>\n",
       "      <td>7418.0</td>\n",
       "      <td>8828.0</td>\n",
       "      <td>65058.0</td>\n",
       "      <td>0.0</td>\n",
       "      <td>0.0</td>\n",
       "      <td>0.0</td>\n",
       "      <td>0.0</td>\n",
       "      <td>0.0</td>\n",
       "      <td>0.0</td>\n",
       "      <td>0.0</td>\n",
       "      <td>0.0</td>\n",
       "      <td>0.0</td>\n",
       "      <td>0.0</td>\n",
       "      <td>0.0</td>\n",
       "      <td>0.0</td>\n",
       "      <td>20312.0</td>\n",
       "      <td>21000.0</td>\n",
       "      <td>19692.0</td>\n",
       "      <td>20312.0</td>\n",
       "      <td>10191.0</td>\n",
       "      <td>10203.0</td>\n",
       "      <td>-127.0</td>\n",
       "      <td>51.0</td>\n",
       "      <td>43.0</td>\n",
       "      <td>195.0</td>\n",
       "      <td>-62.0</td>\n",
       "      <td>3670.0</td>\n",
       "      <td>0.0</td>\n",
       "      <td>0.0</td>\n",
       "      <td>0.0</td>\n",
       "      <td>200.0</td>\n",
       "      <td>23850.0</td>\n",
       "      <td>161.0</td>\n",
       "      <td>12021.0</td>\n",
       "      <td>303.0</td>\n",
       "      <td>5007.0</td>\n",
       "      <td>363.0</td>\n",
       "      <td>3315.0</td>\n",
       "      <td>50.0</td>\n",
       "      <td>3301.0</td>\n",
       "      <td>0.0</td>\n",
       "      <td>1.0</td>\n",
       "      <td>0.0</td>\n",
       "      <td>0.0</td>\n",
       "      <td>0.0</td>\n",
       "      <td>0.0</td>\n",
       "      <td>0.0</td>\n",
       "      <td>0.0</td>\n",
       "    </tr>\n",
       "    <tr>\n",
       "      <th>353581</th>\n",
       "      <td>1553274368</td>\n",
       "      <td>19909.0</td>\n",
       "      <td>22452.0</td>\n",
       "      <td>16475.0</td>\n",
       "      <td>3355.0</td>\n",
       "      <td>65070.0</td>\n",
       "      <td>6949.0</td>\n",
       "      <td>291231.0</td>\n",
       "      <td>0.0</td>\n",
       "      <td>0.0</td>\n",
       "      <td>0.0</td>\n",
       "      <td>0.0</td>\n",
       "      <td>0.0</td>\n",
       "      <td>0.0</td>\n",
       "      <td>0.0</td>\n",
       "      <td>0.0</td>\n",
       "      <td>0.0</td>\n",
       "      <td>0.0</td>\n",
       "      <td>20312.0</td>\n",
       "      <td>20187.0</td>\n",
       "      <td>20425.0</td>\n",
       "      <td>50839.0</td>\n",
       "      <td>333.0</td>\n",
       "      <td>9286.0</td>\n",
       "      <td>65215.0</td>\n",
       "      <td>0.0</td>\n",
       "      <td>0.0</td>\n",
       "      <td>0.0</td>\n",
       "      <td>0.0</td>\n",
       "      <td>0.0</td>\n",
       "      <td>0.0</td>\n",
       "      <td>0.0</td>\n",
       "      <td>0.0</td>\n",
       "      <td>0.0</td>\n",
       "      <td>0.0</td>\n",
       "      <td>0.0</td>\n",
       "      <td>0.0</td>\n",
       "      <td>20125.0</td>\n",
       "      <td>20875.0</td>\n",
       "      <td>19596.0</td>\n",
       "      <td>20187.0</td>\n",
       "      <td>10192.0</td>\n",
       "      <td>10194.0</td>\n",
       "      <td>-132.0</td>\n",
       "      <td>51.0</td>\n",
       "      <td>44.0</td>\n",
       "      <td>126.0</td>\n",
       "      <td>-47.0</td>\n",
       "      <td>3670.0</td>\n",
       "      <td>0.0</td>\n",
       "      <td>0.0</td>\n",
       "      <td>0.0</td>\n",
       "      <td>280.0</td>\n",
       "      <td>23843.0</td>\n",
       "      <td>177.0</td>\n",
       "      <td>12021.0</td>\n",
       "      <td>303.0</td>\n",
       "      <td>5015.0</td>\n",
       "      <td>363.0</td>\n",
       "      <td>3313.0</td>\n",
       "      <td>50.0</td>\n",
       "      <td>3300.0</td>\n",
       "      <td>0.0</td>\n",
       "      <td>0.0</td>\n",
       "      <td>0.0</td>\n",
       "      <td>0.0</td>\n",
       "      <td>0.0</td>\n",
       "      <td>0.0</td>\n",
       "      <td>0.0</td>\n",
       "      <td>0.0</td>\n",
       "    </tr>\n",
       "    <tr>\n",
       "      <th>353582</th>\n",
       "      <td>1553274373</td>\n",
       "      <td>19914.0</td>\n",
       "      <td>22443.0</td>\n",
       "      <td>16487.0</td>\n",
       "      <td>3298.0</td>\n",
       "      <td>65072.0</td>\n",
       "      <td>6950.0</td>\n",
       "      <td>292475.0</td>\n",
       "      <td>0.0</td>\n",
       "      <td>0.0</td>\n",
       "      <td>0.0</td>\n",
       "      <td>0.0</td>\n",
       "      <td>0.0</td>\n",
       "      <td>0.0</td>\n",
       "      <td>0.0</td>\n",
       "      <td>0.0</td>\n",
       "      <td>0.0</td>\n",
       "      <td>0.0</td>\n",
       "      <td>20250.0</td>\n",
       "      <td>20187.0</td>\n",
       "      <td>20428.0</td>\n",
       "      <td>50855.0</td>\n",
       "      <td>329.0</td>\n",
       "      <td>9186.0</td>\n",
       "      <td>65154.0</td>\n",
       "      <td>0.0</td>\n",
       "      <td>0.0</td>\n",
       "      <td>0.0</td>\n",
       "      <td>0.0</td>\n",
       "      <td>0.0</td>\n",
       "      <td>0.0</td>\n",
       "      <td>0.0</td>\n",
       "      <td>0.0</td>\n",
       "      <td>0.0</td>\n",
       "      <td>0.0</td>\n",
       "      <td>0.0</td>\n",
       "      <td>0.0</td>\n",
       "      <td>20125.0</td>\n",
       "      <td>20875.0</td>\n",
       "      <td>19628.0</td>\n",
       "      <td>20187.0</td>\n",
       "      <td>10193.0</td>\n",
       "      <td>10197.0</td>\n",
       "      <td>-131.0</td>\n",
       "      <td>50.0</td>\n",
       "      <td>48.0</td>\n",
       "      <td>169.0</td>\n",
       "      <td>-36.0</td>\n",
       "      <td>3619.0</td>\n",
       "      <td>0.0</td>\n",
       "      <td>0.0</td>\n",
       "      <td>0.0</td>\n",
       "      <td>240.0</td>\n",
       "      <td>23845.0</td>\n",
       "      <td>193.0</td>\n",
       "      <td>12021.0</td>\n",
       "      <td>333.0</td>\n",
       "      <td>5011.0</td>\n",
       "      <td>318.0</td>\n",
       "      <td>3313.0</td>\n",
       "      <td>50.0</td>\n",
       "      <td>3301.0</td>\n",
       "      <td>0.0</td>\n",
       "      <td>0.0</td>\n",
       "      <td>0.0</td>\n",
       "      <td>0.0</td>\n",
       "      <td>0.0</td>\n",
       "      <td>0.0</td>\n",
       "      <td>0.0</td>\n",
       "      <td>0.0</td>\n",
       "    </tr>\n",
       "  </tbody>\n",
       "</table>\n",
       "</div>"
      ],
      "text/plain": [
       "         timeStamp  Exp0_OxygenTemp  Exp0_Oxygendphi  Exp0_OxygenpercentO2  Exp0_OxygensingelIntensity  Exp0_OxygenAmbientLight  Exp0_PhValue  Exp0_PresensO2value  Exp0_PH calTemp  Exp0_PH Ref Amplitude  Exp0_PH Amplitude  Exp0_PH Phase shift  Exp0_PH calibration Pressure  Exp0_Presens 02 Ref Amp  Exp0_Presens 02 Amp  Exp0_Presens 02 Phase  Exp0_Presens 02 cal Temp  Exp0_Presens errorcode  Exp0_TempPump  Exp0_TempCamera  Exp1_OxygenTemp  Exp1_Oxygendphi  Exp1_OxygenpercentO2  Exp1_OxygensingelIntensity  Exp1_OxygenAmbientLight  Exp1_PhValue  Exp1_PresensO2value  Exp1_PH calTemp  Exp1_PH Ref Amplitude  Exp1_PH Amplitude  Exp1_PH Phase shift  Exp1_PH calibration Pressure  Exp1_Presens 02 Ref Amp  Exp1_Presens 02 Amp  Exp1_Presens 02 Phase  Exp1_Presens 02 cal Temp  Exp1_Presens errorcode  Exp1_TempPump  Exp1_TempCamera  Temp_airHighPresision  Temp_Heater  Pressure_Electronics  Pressure_LateAccess  Imu_gyroX  Imu_gyroY  Imu_gyroZ  Imu_accelegrationX  Imu_accelegrationY  \\\n",
       "353578  1554081216          20072.0          20611.0               19299.0                     48390.0                  65036.0        6734.0            7142823.0              0.0                    0.0                0.0                  0.0                           0.0                      0.0                  0.0                    0.0                       0.0                     0.0        20687.0          20687.0          20638.0          29362.0               10585.0                     57170.0                  65109.0           0.0                  0.0              0.0                    0.0                0.0                  0.0                           0.0                      0.0                  0.0                    0.0                       0.0                     0.0        20500.0          21125.0                19799.0      20687.0               10197.0              10208.0     -131.0       53.0       40.0               143.0               -65.0   \n",
       "353579  1553601063          20127.0          21545.0               17774.0                     40816.0                  65019.0        6724.0            5088969.0              0.0                    0.0                0.0                  0.0                           0.0                      0.0                  0.0                    0.0                       0.0                     0.0        20500.0          20375.0          20485.0          33524.0                7415.0                      8876.0                  65176.0           0.0                  0.0              0.0                    0.0                0.0                  0.0                           0.0                      0.0                  0.0                    0.0                       0.0                     0.0        20312.0          21000.0                19703.0      20375.0               10187.0              10200.0     -126.0       57.0       44.0               142.0               -73.0   \n",
       "353580  1553601068          20129.0          21541.0               17779.0                     40668.0                  65084.0        6725.0            5090669.0              0.0                    0.0                0.0                  0.0                           0.0                      0.0                  0.0                    0.0                       0.0                     0.0        20437.0          20312.0          20485.0          33519.0                7418.0                      8828.0                  65058.0           0.0                  0.0              0.0                    0.0                0.0                  0.0                           0.0                      0.0                  0.0                    0.0                       0.0                     0.0        20312.0          21000.0                19692.0      20312.0               10191.0              10203.0     -127.0       51.0       43.0               195.0               -62.0   \n",
       "353581  1553274368          19909.0          22452.0               16475.0                      3355.0                  65070.0        6949.0             291231.0              0.0                    0.0                0.0                  0.0                           0.0                      0.0                  0.0                    0.0                       0.0                     0.0        20312.0          20187.0          20425.0          50839.0                 333.0                      9286.0                  65215.0           0.0                  0.0              0.0                    0.0                0.0                  0.0                           0.0                      0.0                  0.0                    0.0                       0.0                     0.0        20125.0          20875.0                19596.0      20187.0               10192.0              10194.0     -132.0       51.0       44.0               126.0               -47.0   \n",
       "353582  1553274373          19914.0          22443.0               16487.0                      3298.0                  65072.0        6950.0             292475.0              0.0                    0.0                0.0                  0.0                           0.0                      0.0                  0.0                    0.0                       0.0                     0.0        20250.0          20187.0          20428.0          50855.0                 329.0                      9186.0                  65154.0           0.0                  0.0              0.0                    0.0                0.0                  0.0                           0.0                      0.0                  0.0                    0.0                       0.0                     0.0        20125.0          20875.0                19628.0      20187.0               10193.0              10197.0     -131.0       50.0       48.0               169.0               -36.0   \n",
       "\n",
       "        Imu_accelegrationZ  Imu_orientationX  Imu_orientationY  Imu_orientationZ  36V current  36V voltage  12V current  12V voltage  5V current  5V voltage  3V current  3V voltage  ssd current  ssd voltage  pump0 current  pump0 voltage  pump1 current  pump1 voltage  flowCellLed0 current  flowCellLed0 voltage  flowCellLed1 current  flowCellLed1 voltage   \n",
       "353578              3652.0               0.0               0.0               0.0        280.0      23841.0        193.0      12018.0       424.0      5006.0       363.0      3313.0         50.0       3301.0            0.0            1.0            0.0            0.0                   0.0                   0.0                   0.0                    0.0  \n",
       "353579              3683.0               0.0               0.0               0.0        240.0      23843.0        161.0      12022.0       363.0      5007.0       363.0      3315.0         50.0       3301.0            0.0            1.0            0.0            0.0                   0.0                   0.0                   0.0                    0.0  \n",
       "353580              3670.0               0.0               0.0               0.0        200.0      23850.0        161.0      12021.0       303.0      5007.0       363.0      3315.0         50.0       3301.0            0.0            1.0            0.0            0.0                   0.0                   0.0                   0.0                    0.0  \n",
       "353581              3670.0               0.0               0.0               0.0        280.0      23843.0        177.0      12021.0       303.0      5015.0       363.0      3313.0         50.0       3300.0            0.0            0.0            0.0            0.0                   0.0                   0.0                   0.0                    0.0  \n",
       "353582              3619.0               0.0               0.0               0.0        240.0      23845.0        193.0      12021.0       333.0      5011.0       318.0      3313.0         50.0       3301.0            0.0            0.0            0.0            0.0                   0.0                   0.0                   0.0                    0.0  "
      ]
     },
     "execution_count": 21,
     "metadata": {},
     "output_type": "execute_result"
    }
   ],
   "source": [
    "postflight.shape\n",
    "postflight.head()\n",
    "postflight.tail()"
   ]
  },
  {
   "cell_type": "code",
   "execution_count": 40,
   "metadata": {},
   "outputs": [],
   "source": [
    "#  READING IN DATA\n",
    "pre_and_flight = pd.read_pickle('../data/experiment/merged/pre_and_flight_merged.pkl')\n",
    "postflight = pd.read_pickle('../data/experiment/merged/postflight_merged.pkl')"
   ]
  },
  {
   "cell_type": "code",
   "execution_count": 17,
   "metadata": {},
   "outputs": [],
   "source": [
    "# Saving to disk the merged files (not yet processed)\n",
    "# In Pickle format for fast read in\n",
    "#pre_and_flight.to_pickle('../data/experiment/merged/pre_and_flight_merged.pkl')\n",
    "#postflight.to_pickle('../data/experiment/merged/postflight_merged.pkl')\n",
    "#extra.to_pickle('../data/experiment/merged/extra_merged.pkl')\n",
    "# In CSV\n",
    "#pre_and_flight.to_csv('../data/experiment/merged/pre_and_flight_merged.csv')\n",
    "#postflight.to_csv('../data/experiment/merged/postflight_merged.csv')\n",
    "#extra.to_csv('../data/experiment/merged/extra_merged.csv')\n"
   ]
  },
  {
   "cell_type": "code",
   "execution_count": 41,
   "metadata": {},
   "outputs": [],
   "source": [
    "## Remove all unncessary columns\n",
    "cols_to_keep = ['timeStamp',\n",
    "                'Exp0_OxygenTemp', 'Exp0_OxygenpercentO2', 'Exp0_PhValue',\n",
    "                'Exp1_OxygenTemp', 'Exp1_OxygenpercentO2',\n",
    "                'Pressure_LateAccess']\n",
    "\n",
    "pre_and_flight = pre_and_flight[cols_to_keep]\n",
    "postflight = postflight[cols_to_keep]\n",
    "#extra = extra[cols_to_keep]"
   ]
  },
  {
   "cell_type": "code",
   "execution_count": 42,
   "metadata": {},
   "outputs": [],
   "source": [
    "# DFs contain negligible amount of missing values (NAs), just drop them\n",
    "pre_and_flight.dropna(inplace=True)\n",
    "postflight.dropna(inplace=True)\n",
    "#extra.dropna(inplace=True)"
   ]
  },
  {
   "cell_type": "code",
   "execution_count": 43,
   "metadata": {},
   "outputs": [],
   "source": [
    "# Naive DateTime TimeStamp needs to be increased by 1hour (UTC+1 for Sweden) compared to what was recorded (apparently UTC, UK)\n",
    "pre_and_flight.loc[:,'timeStamp'] = pd.to_datetime(pre_and_flight.timeStamp, unit='s').dt.tz_localize('UTC').dt.tz_convert('Europe/Stockholm')\n",
    "postflight.loc[:,'timeStamp'] = pd.to_datetime(postflight.timeStamp, unit='s').dt.tz_localize('UTC').dt.tz_convert('Europe/Stockholm')\n",
    "#extra.loc[:,'timeStamp'] = pd.to_datetime(extra.timeStamp, unit='s').dt.tz_localize('UTC').dt.tz_convert('Europe/Stockholm')\n"
   ]
  },
  {
   "cell_type": "code",
   "execution_count": 44,
   "metadata": {
    "scrolled": true
   },
   "outputs": [
    {
     "data": {
      "text/plain": [
       "Timestamp('2019-03-11 07:45:58+0100', tz='Europe/Stockholm')"
      ]
     },
     "execution_count": 44,
     "metadata": {},
     "output_type": "execute_result"
    },
    {
     "data": {
      "text/plain": [
       "Timestamp('2019-03-11 10:38:48+0100', tz='Europe/Stockholm')"
      ]
     },
     "execution_count": 44,
     "metadata": {},
     "output_type": "execute_result"
    },
    {
     "data": {
      "text/plain": [
       "Timestamp('2019-03-15 10:47:26+0100', tz='Europe/Stockholm')"
      ]
     },
     "execution_count": 44,
     "metadata": {},
     "output_type": "execute_result"
    },
    {
     "data": {
      "text/plain": [
       "Timestamp('2019-04-11 15:01:16+0200', tz='Europe/Stockholm')"
      ]
     },
     "execution_count": 44,
     "metadata": {},
     "output_type": "execute_result"
    }
   ],
   "source": [
    "# Check the data range of the final timestamps\n",
    "pre_and_flight.timeStamp.min()\n",
    "pre_and_flight.timeStamp.max()\n",
    "postflight.timeStamp.min()\n",
    "postflight.timeStamp.max()\n",
    "#extra.timeStamp.min()\n",
    "#extra.timeStamp.max()\n"
   ]
  },
  {
   "cell_type": "code",
   "execution_count": 45,
   "metadata": {},
   "outputs": [],
   "source": [
    "# Create different time epochs for convenient plotting & exploration\n",
    "# Pre and Flight\n",
    "pre_and_flight.loc[:, 'year'] = pre_and_flight.timeStamp.dt.year\n",
    "pre_and_flight.loc[:, 'month'] = pre_and_flight.timeStamp.dt.month\n",
    "pre_and_flight.loc[:, 'day'] = pre_and_flight.timeStamp.dt.day\n",
    "pre_and_flight.loc[:, 'hour'] = pre_and_flight.timeStamp.dt.hour\n",
    "pre_and_flight.loc[:, 'minute'] = pre_and_flight.timeStamp.dt.minute\n",
    "pre_and_flight.loc[:, 'second'] = pre_and_flight.timeStamp.dt.second\n",
    "\n",
    "# Postflight\n",
    "postflight.loc[:, 'year'] = postflight.timeStamp.dt.year\n",
    "postflight.loc[:, 'month'] = postflight.timeStamp.dt.month\n",
    "postflight.loc[:, 'day'] = postflight.timeStamp.dt.day\n",
    "postflight.loc[:, 'hour'] = postflight.timeStamp.dt.hour\n",
    "postflight.loc[:, 'minute'] = postflight.timeStamp.dt.minute\n",
    "postflight.loc[:, 'second'] = postflight.timeStamp.dt.second\n",
    "\n",
    "# Extra\n",
    "#extra.loc[:, 'year'] = extra.timeStamp.dt.year\n",
    "#extra.loc[:, 'month'] = extra.timeStamp.dt.month\n",
    "#extra.loc[:, 'day'] = extra.timeStamp.dt.day\n",
    "#extra.loc[:, 'hour'] = extra.timeStamp.dt.hour\n",
    "#extra.loc[:, 'minute'] = extra.timeStamp.dt.minute\n",
    "#extra.loc[:, 'second'] = extra.timeStamp.dt.second"
   ]
  },
  {
   "cell_type": "code",
   "execution_count": 136,
   "metadata": {},
   "outputs": [],
   "source": [
    "#Wichtige Zeitpunkte:\n",
    "#- Ende Late Access (LA) 11.03.2019  07:45:58\n",
    "end_late_access = pd.to_datetime('2019-03-11 07:45:58').tz_localize('Europe/Stockholm')#.tz_convert('Europe/Stockholm')\n",
    "#- Lift-Off (LO) 11.03.2019  10:19:56  --- 11.03.2019 10:20:00 1552296000 Lift-Off (LO)\n",
    "lift_off = pd.to_datetime('2019-03-11 10:20:00').tz_localize('Europe/Stockholm')#.tz_convert('Europe/Stockholm')\n",
    "#- De-Spin (keine Rotierung der Rakete) ~ Nullbewegung in alle Richtungen im Video nach 1 min 7s 38 ms nach LO\n",
    "de_spin = lift_off + pd.Timedelta('1 minutes 7 seconds')\n",
    "#- Ende des Raketenantriebs (Motorabwurf, keine Beschleunigung, keine Hypergravitation) 1 min 10 s 20 ms nach LO\n",
    "end_rocket_propulsion = lift_off + pd.Timedelta('1 minutes 10 seconds')\n",
    "#- Apogee (Zeitpunkt zu dem die Rakete den höchsten Höhenmeter erreicht hat) 124,4 Sekunden nach LO (errreichte Höhe 82,184 km)\n",
    "apogee = lift_off + pd.Timedelta('124 seconds')\n",
    "#- Auswurf 1. Fallschirm ~ 5 min 55 s nach LO\n",
    "parachute_1 = lift_off + pd.Timedelta('5 minutes 55 seconds')\n",
    "#- Auswurf 2. Fallschirm ~ 6 min 20 s nach LO\n",
    "parachute_2 = lift_off + pd.Timedelta('6 minutes 20 seconds')\n",
    "#- Zeitpunkt der Landung 11.03.2019 10:33:41.800000\n",
    "landing = pd.to_datetime('2019-03-11 10:33:41').tz_localize('Europe/Stockholm')"
   ]
  },
  {
   "cell_type": "code",
   "execution_count": 115,
   "metadata": {},
   "outputs": [
    {
     "data": {
      "text/plain": [
       "Timestamp('2019-03-11 08:45:58+0100', tz='Europe/Stockholm')"
      ]
     },
     "execution_count": 115,
     "metadata": {},
     "output_type": "execute_result"
    }
   ],
   "source": []
  },
  {
   "cell_type": "code",
   "execution_count": 74,
   "metadata": {},
   "outputs": [],
   "source": [
    "# Sort DF by timeStamp\n",
    "pre_and_flight.sort_values(by='timeStamp', axis=0, ascending=True, inplace=True)\n",
    "postflight.sort_values(by='timeStamp', axis=0, ascending=True, inplace=True)\n",
    "#extra.sort_values(by='timeStamp', axis=0, ascending=True, inplace=True)\n",
    "# Make timestamp index of DF for easier plotting\n",
    "#pre_and_flight.set_index('timeStamp', inplace=True)\n",
    "#postflight.set_index('timeStamp', inplace=True)"
   ]
  },
  {
   "cell_type": "code",
   "execution_count": 47,
   "metadata": {},
   "outputs": [],
   "source": [
    "# Scale columns values \n",
    "\n",
    "# Pre-and flight\n",
    "pre_and_flight.loc[:,'Exp0_OxygenTemp'] = pre_and_flight.Exp0_OxygenTemp/1000\n",
    "pre_and_flight.loc[:,'Exp1_OxygenTemp'] = pre_and_flight.Exp1_OxygenTemp/1000\n",
    "pre_and_flight.loc[:,'Exp0_OxygenpercentO2'] = pre_and_flight.Exp0_OxygenpercentO2/1000\n",
    "pre_and_flight.loc[:,'Exp1_OxygenpercentO2'] = pre_and_flight.Exp1_OxygenpercentO2/1000\n",
    "\n",
    "# Postflight\n",
    "postflight.loc[:,'Exp0_OxygenTemp'] = postflight.Exp0_OxygenTemp/1000\n",
    "postflight.loc[:,'Exp1_OxygenTemp'] = postflight.Exp1_OxygenTemp/1000\n",
    "postflight.loc[:,'Exp0_OxygenpercentO2'] = postflight.Exp0_OxygenpercentO2/1000\n",
    "postflight.loc[:,'Exp1_OxygenpercentO2'] = postflight.Exp1_OxygenpercentO2/1000\n",
    "\n",
    "# extra\n",
    "#extra.loc[:,'Exp0_OxygenTemp'] = extra.Exp0_OxygenTemp/1000\n",
    "#extra.loc[:,'Exp1_OxygenTemp'] = extra.Exp1_OxygenTemp/1000\n",
    "#extra.loc[:,'Exp0_OxygenpercentO2'] = extra.Exp0_OxygenpercentO2/1000\n",
    "#extra.loc[:,'Exp1_OxygenpercentO2'] = extra.Exp1_OxygenpercentO2/1000\n",
    "\n"
   ]
  },
  {
   "cell_type": "code",
   "execution_count": 48,
   "metadata": {},
   "outputs": [],
   "source": [
    "# Saving to disk\n",
    "# In Pickle format for fast read in\n",
    "#pre_and_flight.to_pickle('../data/experiment/processed/pre_and_flight_merged.pkl')\n",
    "#postflight.to_pickle('../data/experiment/processed//postflight_merged.pkl')\n",
    "\n",
    "# In CSV\n",
    "#pre_and_flight.to_csv('../data/experiment/processed//pre_and_flight_merged.csv')\n",
    "#postflight.to_csv('../data/experiment/processed//postflight_merged.csv')\n",
    "\n"
   ]
  },
  {
   "cell_type": "code",
   "execution_count": 2,
   "metadata": {
    "scrolled": true
   },
   "outputs": [],
   "source": [
    "# Pandas Profiling conveniently returns an extensive report with descriptive statistics for each DF\n",
    "#pre_and_flight.profile_report(style={'full_width':True})\n",
    "#postflight.profile_report(style={'full_width':True})"
   ]
  },
  {
   "cell_type": "code",
   "execution_count": 15,
   "metadata": {},
   "outputs": [],
   "source": [
    "# Explore which year, days, hours and minutes were actually recorded\n",
    "#plt.figure(figsize=(18, 6))\n",
    "#pre_and_flight.set_index('timeStamp', inplace=True)"
   ]
  },
  {
   "cell_type": "code",
   "execution_count": 154,
   "metadata": {},
   "outputs": [
    {
     "data": {
      "text/plain": [
       "<matplotlib.axes._subplots.AxesSubplot at 0x7f9a84f6dbe0>"
      ]
     },
     "execution_count": 154,
     "metadata": {},
     "output_type": "execute_result"
    },
    {
     "data": {
      "text/plain": [
       "<matplotlib.lines.Line2D at 0x7f9a84feda90>"
      ]
     },
     "execution_count": 154,
     "metadata": {},
     "output_type": "execute_result"
    },
    {
     "data": {
      "text/plain": [
       "<matplotlib.lines.Line2D at 0x7f9a84ec2518>"
      ]
     },
     "execution_count": 154,
     "metadata": {},
     "output_type": "execute_result"
    },
    {
     "data": {
      "text/plain": [
       "<matplotlib.lines.Line2D at 0x7f9a84f3a1d0>"
      ]
     },
     "execution_count": 154,
     "metadata": {},
     "output_type": "execute_result"
    },
    {
     "data": {
      "text/plain": [
       "<matplotlib.lines.Line2D at 0x7f9a84f1d828>"
      ]
     },
     "execution_count": 154,
     "metadata": {},
     "output_type": "execute_result"
    },
    {
     "data": {
      "text/plain": [
       "<matplotlib.lines.Line2D at 0x7f9a84ec8198>"
      ]
     },
     "execution_count": 154,
     "metadata": {},
     "output_type": "execute_result"
    },
    {
     "data": {
      "text/plain": [
       "<matplotlib.lines.Line2D at 0x7f9a84ec86d8>"
      ]
     },
     "execution_count": 154,
     "metadata": {},
     "output_type": "execute_result"
    },
    {
     "data": {
      "text/plain": [
       "<matplotlib.lines.Line2D at 0x7f9a84ec8a58>"
      ]
     },
     "execution_count": 154,
     "metadata": {},
     "output_type": "execute_result"
    },
    {
     "data": {
      "text/plain": [
       "<matplotlib.lines.Line2D at 0x7f9a84ec8e80>"
      ]
     },
     "execution_count": 154,
     "metadata": {},
     "output_type": "execute_result"
    },
    {
     "data": {
      "text/plain": [
       "Text(2019-03-11 10:01:00+01:00, 34, 'Flight Start')"
      ]
     },
     "execution_count": 154,
     "metadata": {},
     "output_type": "execute_result"
    },
    {
     "data": {
      "text/plain": [
       "Text(2019-03-11 10:20:00+01:00, 34.1, 'Lift-Off')"
      ]
     },
     "execution_count": 154,
     "metadata": {},
     "output_type": "execute_result"
    },
    {
     "data": {
      "text/plain": [
       "Text(2019-03-11 10:21:07+01:00, 33.2, 'De Spin')"
      ]
     },
     "execution_count": 154,
     "metadata": {},
     "output_type": "execute_result"
    },
    {
     "data": {
      "text/plain": [
       "Text(2019-03-11 10:21:10+01:00, 32, 'End Rocket Propulsion')"
      ]
     },
     "execution_count": 154,
     "metadata": {},
     "output_type": "execute_result"
    },
    {
     "data": {
      "text/plain": [
       "Text(2019-03-11 10:22:04+01:00, 31, 'Apogee')"
      ]
     },
     "execution_count": 154,
     "metadata": {},
     "output_type": "execute_result"
    },
    {
     "data": {
      "text/plain": [
       "Text(2019-03-11 10:25:55+01:00, 32.5, 'Parachute 1')"
      ]
     },
     "execution_count": 154,
     "metadata": {},
     "output_type": "execute_result"
    },
    {
     "data": {
      "text/plain": [
       "Text(2019-03-11 10:26:20+01:00, 32.2, 'Parachute 2')"
      ]
     },
     "execution_count": 154,
     "metadata": {},
     "output_type": "execute_result"
    },
    {
     "data": {
      "text/plain": [
       "Text(2019-03-11 10:33:41+01:00, 32, 'Landing')"
      ]
     },
     "execution_count": 154,
     "metadata": {},
     "output_type": "execute_result"
    },
    {
     "data": {
      "image/png": "[encoded data removed]",
      "text/plain": [
       "<Figure size 1584x576 with 1 Axes>"
      ]
     },
     "metadata": {},
     "output_type": "display_data"
    }
   ],
   "source": [
    "import matplotlib.pyplot as plt\n",
    "from matplotlib import dates\n",
    "import seaborn as sns\n",
    "# Use seaborn style defaults and set the default figure size\n",
    "sns.set(rc={'figure.figsize':(22, 8)})\n",
    "flight_start = pd.to_datetime('2019-03-11 10:01').tz_localize('Europe/Stockholm')\n",
    "#pre_and_flight[pre_and_flight.index >= flight_start].sort_values('timeStamp').Exp0_OxygenTemp.plot(marker='.', alpha=0.5, linestyle='None', figsize=(11, 9))\n",
    "sns.lineplot(\n",
    "            x = pre_and_flight[pre_and_flight.timeStamp > flight_start].timeStamp,\n",
    "            y = pre_and_flight[pre_and_flight.timeStamp > flight_start].Exp0_OxygenTemp\n",
    "            )\n",
    "\n",
    "events_list = [flight_start, lift_off, de_spin, end_rocket_propulsion, apogee, parachute_1, parachute_2, landing]\n",
    "for event in events_list:\n",
    "    plt.axvline(x=event, color='r')\n",
    "   \n",
    "#plt.axvline(x=flight_start, color = 'black')\n",
    "#plt.axvline(x=lift_off, color = 'blue')\n",
    "#plt.axvline(x=de_spin, color = 'red')\n",
    "#plt.axvline(x=end_rocket_propulsion, color = 'r')\n",
    "#plt.axvline(x=apogee, color = 'r')\n",
    "#plt.axvline(x=parachute_1, color = 'grey')\n",
    "#plt.axvline(x=parachute_2, color = 'grey')\n",
    "#plt.axvline(x=landing, color = 'black')\n",
    "plt.text(flight_start, 34, 'Flight Start', horizontalalignment='left', size='small', color='black')\n",
    "plt.text(lift_off, 34.1, 'Lift-Off', horizontalalignment='left', size='small', color='black')\n",
    "plt.text(de_spin, 33.2, 'De Spin', horizontalalignment='left', size='small', color='black')\n",
    "plt.text(end_rocket_propulsion, 32, 'End Rocket Propulsion', horizontalalignment='left', size='small', color='black')\n",
    "plt.text(apogee, 31, 'Apogee', horizontalalignment='left', size='small', color='black')\n",
    "plt.text(parachute_1, 32.5, 'Parachute 1', horizontalalignment='left', size='small', color='black')\n",
    "plt.text(parachute_2, 32.2, 'Parachute 2', horizontalalignment='left', size='small', color='black')\n",
    "plt.text(landing, 32, 'Landing', horizontalalignment='left', size='small', color='black')\n",
    "\n",
    "\n",
    "# get current axis\n",
    "#ax = plt.gca()\n",
    "# get current xtick labels\n",
    "ax.fmt_xdata = dates.DateFormatter('%H:%M:%S')\n",
    "# convert all xtick labels to selected format from ms timestamp\n",
    "#ax.set_xticklabels(pre_and_flight[pre_and_flight.timeStamp > flight_start].timeStamp.dt.strftime('%H:%M:%S') ,\n",
    "# rotation=50)\n",
    "\n",
    "plt.show()"
   ]
  },
  {
   "cell_type": "code",
   "execution_count": 155,
   "metadata": {},
   "outputs": [
    {
     "data": {
      "text/plain": [
       "<matplotlib.axes._subplots.AxesSubplot at 0x7f9a84ef0a90>"
      ]
     },
     "execution_count": 155,
     "metadata": {},
     "output_type": "execute_result"
    },
    {
     "data": {
      "text/plain": [
       "<matplotlib.lines.Line2D at 0x7f9a84fede10>"
      ]
     },
     "execution_count": 155,
     "metadata": {},
     "output_type": "execute_result"
    },
    {
     "data": {
      "text/plain": [
       "<matplotlib.lines.Line2D at 0x7f9a84ea3d30>"
      ]
     },
     "execution_count": 155,
     "metadata": {},
     "output_type": "execute_result"
    },
    {
     "data": {
      "text/plain": [
       "<matplotlib.lines.Line2D at 0x7f9a84eb47b8>"
      ]
     },
     "execution_count": 155,
     "metadata": {},
     "output_type": "execute_result"
    },
    {
     "data": {
      "text/plain": [
       "<matplotlib.lines.Line2D at 0x7f9a84eb42e8>"
      ]
     },
     "execution_count": 155,
     "metadata": {},
     "output_type": "execute_result"
    },
    {
     "data": {
      "text/plain": [
       "<matplotlib.lines.Line2D at 0x7f9a84e4b6d8>"
      ]
     },
     "execution_count": 155,
     "metadata": {},
     "output_type": "execute_result"
    },
    {
     "data": {
      "text/plain": [
       "<matplotlib.lines.Line2D at 0x7f9a84e4bac8>"
      ]
     },
     "execution_count": 155,
     "metadata": {},
     "output_type": "execute_result"
    },
    {
     "data": {
      "text/plain": [
       "<matplotlib.lines.Line2D at 0x7f9a84e4bf28>"
      ]
     },
     "execution_count": 155,
     "metadata": {},
     "output_type": "execute_result"
    },
    {
     "data": {
      "text/plain": [
       "Text(2019-03-11 10:20:00+01:00, 33.1, 'Lift-Off')"
      ]
     },
     "execution_count": 155,
     "metadata": {},
     "output_type": "execute_result"
    },
    {
     "data": {
      "text/plain": [
       "Text(2019-03-11 10:21:07+01:00, 33.2, 'De Spin')"
      ]
     },
     "execution_count": 155,
     "metadata": {},
     "output_type": "execute_result"
    },
    {
     "data": {
      "text/plain": [
       "Text(2019-03-11 10:21:10+01:00, 33.6, 'End Rocket Propulsion')"
      ]
     },
     "execution_count": 155,
     "metadata": {},
     "output_type": "execute_result"
    },
    {
     "data": {
      "text/plain": [
       "Text(2019-03-11 10:22:04+01:00, 33, 'Apogee')"
      ]
     },
     "execution_count": 155,
     "metadata": {},
     "output_type": "execute_result"
    },
    {
     "data": {
      "text/plain": [
       "Text(2019-03-11 10:25:55+01:00, 33.1, 'Parachute 1')"
      ]
     },
     "execution_count": 155,
     "metadata": {},
     "output_type": "execute_result"
    },
    {
     "data": {
      "text/plain": [
       "Text(2019-03-11 10:26:20+01:00, 33.4, 'Parachute 2')"
      ]
     },
     "execution_count": 155,
     "metadata": {},
     "output_type": "execute_result"
    },
    {
     "data": {
      "text/plain": [
       "Text(2019-03-11 10:33:41+01:00, 33.1, 'Landing')"
      ]
     },
     "execution_count": 155,
     "metadata": {},
     "output_type": "execute_result"
    },
    {
     "data": {
      "image/png": "[encoded data removed]",
      "text/plain": [
       "<Figure size 1584x576 with 1 Axes>"
      ]
     },
     "metadata": {},
     "output_type": "display_data"
    }
   ],
   "source": [
    "import matplotlib.pyplot as plt\n",
    "from matplotlib import dates\n",
    "import seaborn as sns\n",
    "# Use seaborn style defaults and set the default figure size\n",
    "sns.set(rc={'figure.figsize':(22, 8)})\n",
    "flight_start = pd.to_datetime('2019-03-11 10:01').tz_localize('Europe/Stockholm')\n",
    "#pre_and_flight[pre_and_flight.index >= flight_start].sort_values('timeStamp').Exp0_OxygenTemp.plot(marker='.', alpha=0.5, linestyle='None', figsize=(11, 9))\n",
    "sns.lineplot(\n",
    "            x = pre_and_flight[pre_and_flight.timeStamp >= lift_off].timeStamp,\n",
    "            y = pre_and_flight[pre_and_flight.timeStamp >= lift_off].Exp0_OxygenTemp\n",
    "            )\n",
    "\n",
    "events_list = [lift_off, de_spin, end_rocket_propulsion, apogee, parachute_1, parachute_2, landing]\n",
    "for event in events_list:\n",
    "    plt.axvline(x=event, color='r')\n",
    "   \n",
    "#plt.axvline(x=flight_start, color = 'black')\n",
    "#plt.axvline(x=lift_off, color = 'blue')\n",
    "#plt.axvline(x=de_spin, color = 'red')\n",
    "#plt.axvline(x=end_rocket_propulsion, color = 'r')\n",
    "#plt.axvline(x=apogee, color = 'r')\n",
    "#plt.axvline(x=parachute_1, color = 'grey')\n",
    "#plt.axvline(x=parachute_2, color = 'grey')\n",
    "#plt.axvline(x=landing, color = 'black')\n",
    "\n",
    "plt.text(lift_off, 33.1, 'Lift-Off', horizontalalignment='left', size='small', color='black')\n",
    "plt.text(de_spin, 33.2, 'De Spin', horizontalalignment='left', size='small', color='black')\n",
    "plt.text(end_rocket_propulsion, 33.6, 'End Rocket Propulsion', horizontalalignment='left', size='small', color='black')\n",
    "plt.text(apogee, 33, 'Apogee', horizontalalignment='left', size='small', color='black')\n",
    "plt.text(parachute_1, 33.1, 'Parachute 1', horizontalalignment='left', size='small', color='black')\n",
    "plt.text(parachute_2, 33.4, 'Parachute 2', horizontalalignment='left', size='small', color='black')\n",
    "plt.text(landing, 33.1, 'Landing', horizontalalignment='left', size='small', color='black')\n",
    "\n",
    "\n",
    "# get current axis\n",
    "#ax = plt.gca()\n",
    "# get current xtick labels\n",
    "ax.fmt_xdata = dates.DateFormatter('%H:%M:%S')\n",
    "# convert all xtick labels to selected format from ms timestamp\n",
    "#ax.set_xticklabels(pre_and_flight[pre_and_flight.timeStamp > flight_start].timeStamp.dt.strftime('%H:%M:%S') ,\n",
    "# rotation=50)\n",
    "\n",
    "plt.show()"
   ]
  },
  {
   "cell_type": "code",
   "execution_count": 173,
   "metadata": {},
   "outputs": [
    {
     "name": "stderr",
     "output_type": "stream",
     "text": [
      "/home/taco/anaconda3/lib/python3.6/site-packages/seaborn/relational.py:792: FutureWarning: Converting timezone-aware DatetimeArray to timezone-naive ndarray with 'datetime64[ns]' dtype. In the future, this will return an ndarray with 'object' dtype where each element is a 'pandas.Timestamp' with the correct 'tz'.\n",
      "\tTo accept the future behavior, pass 'dtype=object'.\n",
      "\tTo keep the old behavior, pass 'dtype=\"datetime64[ns]\"'.\n",
      "  x, y = np.asarray(x), np.asarray(y)\n"
     ]
    },
    {
     "data": {
      "text/plain": [
       "<matplotlib.axes._subplots.AxesSubplot at 0x7f9a8468f630>"
      ]
     },
     "execution_count": 173,
     "metadata": {},
     "output_type": "execute_result"
    },
    {
     "data": {
      "text/plain": [
       "<matplotlib.lines.Line2D at 0x7f9a8468f160>"
      ]
     },
     "execution_count": 173,
     "metadata": {},
     "output_type": "execute_result"
    },
    {
     "data": {
      "text/plain": [
       "<matplotlib.lines.Line2D at 0x7f9a845e6630>"
      ]
     },
     "execution_count": 173,
     "metadata": {},
     "output_type": "execute_result"
    },
    {
     "data": {
      "text/plain": [
       "<matplotlib.lines.Line2D at 0x7f9a845e6a20>"
      ]
     },
     "execution_count": 173,
     "metadata": {},
     "output_type": "execute_result"
    },
    {
     "data": {
      "text/plain": [
       "<matplotlib.lines.Line2D at 0x7f9a845e6e80>"
      ]
     },
     "execution_count": 173,
     "metadata": {},
     "output_type": "execute_result"
    },
    {
     "data": {
      "text/plain": [
       "<matplotlib.lines.Line2D at 0x7f9a845f6b70>"
      ]
     },
     "execution_count": 173,
     "metadata": {},
     "output_type": "execute_result"
    },
    {
     "data": {
      "text/plain": [
       "<matplotlib.lines.Line2D at 0x7f9a845df048>"
      ]
     },
     "execution_count": 173,
     "metadata": {},
     "output_type": "execute_result"
    },
    {
     "data": {
      "text/plain": [
       "<matplotlib.lines.Line2D at 0x7f9a84583128>"
      ]
     },
     "execution_count": 173,
     "metadata": {},
     "output_type": "execute_result"
    },
    {
     "data": {
      "text/plain": [
       "<matplotlib.lines.Line2D at 0x7f9a845835c0>"
      ]
     },
     "execution_count": 173,
     "metadata": {},
     "output_type": "execute_result"
    },
    {
     "data": {
      "text/plain": [
       "Text(2019-03-11 10:01:00+01:00, 34.59757590230012, 'Flight Start')"
      ]
     },
     "execution_count": 173,
     "metadata": {},
     "output_type": "execute_result"
    },
    {
     "data": {
      "text/plain": [
       "Text(2019-03-11 10:20:00+01:00, 32.27128789829269, 'Lift-Off')"
      ]
     },
     "execution_count": 173,
     "metadata": {},
     "output_type": "execute_result"
    },
    {
     "data": {
      "text/plain": [
       "Text(2019-03-11 10:21:07+01:00, 34.68455211071792, 'De Spin')"
      ]
     },
     "execution_count": 173,
     "metadata": {},
     "output_type": "execute_result"
    },
    {
     "data": {
      "text/plain": [
       "Text(2019-03-11 10:21:10+01:00, 31.959689573128244, 'End Rocket Propulsion')"
      ]
     },
     "execution_count": 173,
     "metadata": {},
     "output_type": "execute_result"
    },
    {
     "data": {
      "text/plain": [
       "Text(2019-03-11 10:22:04+01:00, 33.397277853353316, 'Apogee')"
      ]
     },
     "execution_count": 173,
     "metadata": {},
     "output_type": "execute_result"
    },
    {
     "data": {
      "text/plain": [
       "Text(2019-03-11 10:25:55+01:00, 31.635930419742397, 'Parachute 1')"
      ]
     },
     "execution_count": 173,
     "metadata": {},
     "output_type": "execute_result"
    },
    {
     "data": {
      "text/plain": [
       "Text(2019-03-11 10:26:20+01:00, 33.40937083177307, 'Parachute 2')"
      ]
     },
     "execution_count": 173,
     "metadata": {},
     "output_type": "execute_result"
    },
    {
     "data": {
      "text/plain": [
       "Text(2019-03-11 10:33:41+01:00, 34.52483887942759, 'Landing')"
      ]
     },
     "execution_count": 173,
     "metadata": {},
     "output_type": "execute_result"
    },
    {
     "data": {
      "image/png": "[encoded data removed]",
      "text/plain": [
       "<Figure size 1584x576 with 1 Axes>"
      ]
     },
     "metadata": {},
     "output_type": "display_data"
    }
   ],
   "source": [
    "import matplotlib.pyplot as plt\n",
    "from matplotlib import dates\n",
    "import seaborn as sns\n",
    "# Use seaborn style defaults and set the default figure size\n",
    "sns.set(rc={'figure.figsize':(22, 8)})\n",
    "flight_start = pd.to_datetime('2019-03-11 10:01').tz_localize('Europe/Stockholm')\n",
    "#pre_and_flight[pre_and_flight.index >= flight_start].sort_values('timeStamp').Exp0_OxygenTemp.plot(marker='.', alpha=0.5, linestyle='None', figsize=(11, 9))\n",
    "sns.lineplot(\n",
    "            x = pre_and_flight[pre_and_flight.timeStamp > flight_start].timeStamp,\n",
    "            y = pre_and_flight[pre_and_flight.timeStamp > flight_start][cols_to_keep[1]]\n",
    "            )\n",
    "\n",
    "events_list = [flight_start, lift_off, de_spin, end_rocket_propulsion, apogee, parachute_1, parachute_2, landing]\n",
    "for event in events_list:\n",
    "    plt.axvline(x=event, color='r')\n",
    "ylimits = ax.get_ylim()\n",
    "import random\n",
    "#plt.axvline(x=flight_start, color = 'black')\n",
    "#plt.axvline(x=lift_off, color = 'blue')\n",
    "#plt.axvline(x=de_spin, color = 'red')\n",
    "#plt.axvline(x=end_rocket_propulsion, color = 'r')\n",
    "#plt.axvline(x=apogee, color = 'r')\n",
    "#plt.axvline(x=parachute_1, color = 'grey')\n",
    "#plt.axvline(x=parachute_2, color = 'grey')\n",
    "#plt.axvline(x=landing, color = 'black')\n",
    "plt.text(flight_start, random.uniform(ylimits[0],ylimits[1]), 'Flight Start', horizontalalignment='left', size='small', color='black')\n",
    "plt.text(lift_off, random.uniform(ylimits[0],ylimits[1]), 'Lift-Off', horizontalalignment='left', size='small', color='black')\n",
    "plt.text(de_spin, random.uniform(ylimits[0],ylimits[1]), 'De Spin', horizontalalignment='left', size='small', color='black')\n",
    "plt.text(end_rocket_propulsion, random.uniform(ylimits[0],ylimits[1]), 'End Rocket Propulsion', horizontalalignment='left', size='small', color='black')\n",
    "plt.text(apogee, random.uniform(ylimits[0],ylimits[1]), 'Apogee', horizontalalignment='left', size='small', color='black')\n",
    "plt.text(parachute_1, random.uniform(ylimits[0],ylimits[1]), 'Parachute 1', horizontalalignment='left', size='small', color='black')\n",
    "plt.text(parachute_2, random.uniform(ylimits[0],ylimits[1]), 'Parachute 2', horizontalalignment='left', size='small', color='black')\n",
    "plt.text(landing, random.uniform(ylimits[0],ylimits[1]), 'Landing', horizontalalignment='left', size='small', color='black')\n",
    "plt.show()"
   ]
  },
  {
   "cell_type": "code",
   "execution_count": 184,
   "metadata": {},
   "outputs": [
    {
     "data": {
      "text/plain": [
       "<matplotlib.axes._subplots.AxesSubplot at 0x7f9a841ec518>"
      ]
     },
     "execution_count": 184,
     "metadata": {},
     "output_type": "execute_result"
    },
    {
     "data": {
      "text/plain": [
       "<matplotlib.lines.Line2D at 0x7f9a84199400>"
      ]
     },
     "execution_count": 184,
     "metadata": {},
     "output_type": "execute_result"
    },
    {
     "data": {
      "text/plain": [
       "<matplotlib.lines.Line2D at 0x7f9a840d7908>"
      ]
     },
     "execution_count": 184,
     "metadata": {},
     "output_type": "execute_result"
    },
    {
     "data": {
      "text/plain": [
       "<matplotlib.lines.Line2D at 0x7f9a84139a20>"
      ]
     },
     "execution_count": 184,
     "metadata": {},
     "output_type": "execute_result"
    },
    {
     "data": {
      "text/plain": [
       "<matplotlib.lines.Line2D at 0x7f9a840e2518>"
      ]
     },
     "execution_count": 184,
     "metadata": {},
     "output_type": "execute_result"
    },
    {
     "data": {
      "text/plain": [
       "<matplotlib.lines.Line2D at 0x7f9a840e6048>"
      ]
     },
     "execution_count": 184,
     "metadata": {},
     "output_type": "execute_result"
    },
    {
     "data": {
      "text/plain": [
       "<matplotlib.lines.Line2D at 0x7f9a840e6748>"
      ]
     },
     "execution_count": 184,
     "metadata": {},
     "output_type": "execute_result"
    },
    {
     "data": {
      "text/plain": [
       "<matplotlib.lines.Line2D at 0x7f9a84199358>"
      ]
     },
     "execution_count": 184,
     "metadata": {},
     "output_type": "execute_result"
    },
    {
     "data": {
      "text/plain": [
       "<matplotlib.lines.Line2D at 0x7f9a840e6f60>"
      ]
     },
     "execution_count": 184,
     "metadata": {},
     "output_type": "execute_result"
    },
    {
     "data": {
      "text/plain": [
       "Text(2019-03-11 10:01:00+01:00, 32.47354092783464, 'Flight Start')"
      ]
     },
     "execution_count": 184,
     "metadata": {},
     "output_type": "execute_result"
    },
    {
     "data": {
      "text/plain": [
       "Text(2019-03-11 10:20:00+01:00, 33.5750206088681, 'Lift-Off')"
      ]
     },
     "execution_count": 184,
     "metadata": {},
     "output_type": "execute_result"
    },
    {
     "data": {
      "text/plain": [
       "Text(2019-03-11 10:21:07+01:00, 33.78579736838211, 'De Spin')"
      ]
     },
     "execution_count": 184,
     "metadata": {},
     "output_type": "execute_result"
    },
    {
     "data": {
      "text/plain": [
       "Text(2019-03-11 10:21:10+01:00, 31.828049654265214, 'End Rocket Propulsion')"
      ]
     },
     "execution_count": 184,
     "metadata": {},
     "output_type": "execute_result"
    },
    {
     "data": {
      "text/plain": [
       "Text(2019-03-11 10:22:04+01:00, 30.98666914134052, 'Apogee')"
      ]
     },
     "execution_count": 184,
     "metadata": {},
     "output_type": "execute_result"
    },
    {
     "data": {
      "text/plain": [
       "Text(2019-03-11 10:25:55+01:00, 32.62904510713275, 'Parachute 1')"
      ]
     },
     "execution_count": 184,
     "metadata": {},
     "output_type": "execute_result"
    },
    {
     "data": {
      "text/plain": [
       "Text(2019-03-11 10:26:20+01:00, 32.26700910730119, 'Parachute 2')"
      ]
     },
     "execution_count": 184,
     "metadata": {},
     "output_type": "execute_result"
    },
    {
     "data": {
      "text/plain": [
       "Text(2019-03-11 10:33:41+01:00, 31.383206507599496, 'Landing')"
      ]
     },
     "execution_count": 184,
     "metadata": {},
     "output_type": "execute_result"
    },
    {
     "data": {
      "image/png": "[encoded data removed]",
      "text/plain": [
       "<Figure size 1584x576 with 1 Axes>"
      ]
     },
     "metadata": {},
     "output_type": "display_data"
    }
   ],
   "source": [
    "import matplotlib.pyplot as plt\n",
    "from matplotlib import dates\n",
    "import seaborn as sns\n",
    "# Use seaborn style defaults and set the default figure size\n",
    "sns.set(rc={'figure.figsize':(22, 8)})\n",
    "flight_start = pd.to_datetime('2019-03-11 10:01').tz_localize('Europe/Stockholm')\n",
    "#pre_and_flight[pre_and_flight.index >= flight_start].sort_values('timeStamp').Exp0_OxygenTemp.plot(marker='.', alpha=0.5, linestyle='None', figsize=(11, 9))\n",
    "sns.lineplot(\n",
    "            x = pre_and_flight[pre_and_flight.timeStamp > flight_start].timeStamp,\n",
    "            y = pre_and_flight[pre_and_flight.timeStamp > flight_start][cols_to_keep[1]]\n",
    "            )\n",
    "\n",
    "y_min = pre_and_flight[pre_and_flight.timeStamp > flight_start][cols_to_keep[1]].min()\n",
    "y_max = pre_and_flight[pre_and_flight.timeStamp > flight_start][cols_to_keep[1]].max()\n",
    "\n",
    "events_list = [flight_start, lift_off, de_spin, end_rocket_propulsion, apogee, parachute_1, parachute_2, landing]\n",
    "for event in events_list:\n",
    "    plt.axvline(x=event, color='r')\n",
    "#plt.axvline(x=flight_start, color = 'black')\n",
    "#plt.axvline(x=lift_off, color = 'blue')\n",
    "#plt.axvline(x=de_spin, color = 'red')\n",
    "#plt.axvline(x=end_rocket_propulsion, color = 'r')\n",
    "#plt.axvline(x=apogee, color = 'r')\n",
    "#plt.axvline(x=parachute_1, color = 'grey')\n",
    "#plt.axvline(x=parachute_2, color = 'grey')\n",
    "#plt.axvline(x=landing, color = 'black')\n",
    "plt.text(flight_start, random.uniform(y_min,y_max), 'Flight Start', horizontalalignment='left', size='small', color='black')\n",
    "plt.text(lift_off, random.uniform(y_min,y_max), 'Lift-Off', horizontalalignment='left', size='small', color='black')\n",
    "plt.text(de_spin, random.uniform(y_min,y_max), 'De Spin', horizontalalignment='left', size='small', color='black')\n",
    "plt.text(end_rocket_propulsion, random.uniform(y_min,y_max), 'End Rocket Propulsion', horizontalalignment='left', size='small', color='black')\n",
    "plt.text(apogee, random.uniform(y_min,y_max), 'Apogee', horizontalalignment='left', size='small', color='black')\n",
    "plt.text(parachute_1, random.uniform(y_min,y_max), 'Parachute 1', horizontalalignment='left', size='small', color='black')\n",
    "plt.text(parachute_2, random.uniform(y_min,y_max), 'Parachute 2', horizontalalignment='left', size='small', color='black')\n",
    "plt.text(landing, random.uniform(y_min,y_max), 'Landing', horizontalalignment='left', size='small', color='black')\n",
    "\n",
    "plt.show()"
   ]
  },
  {
   "cell_type": "code",
   "execution_count": 177,
   "metadata": {},
   "outputs": [
    {
     "data": {
      "text/plain": [
       "<matplotlib.axes._subplots.AxesSubplot at 0x7f9a843c2fd0>"
      ]
     },
     "execution_count": 177,
     "metadata": {},
     "output_type": "execute_result"
    },
    {
     "data": {
      "text/plain": [
       "<matplotlib.lines.Line2D at 0x7f9a8460e5c0>"
      ]
     },
     "execution_count": 177,
     "metadata": {},
     "output_type": "execute_result"
    },
    {
     "data": {
      "text/plain": [
       "<matplotlib.lines.Line2D at 0x7f9a8460e518>"
      ]
     },
     "execution_count": 177,
     "metadata": {},
     "output_type": "execute_result"
    },
    {
     "data": {
      "text/plain": [
       "<matplotlib.lines.Line2D at 0x7f9a8439b710>"
      ]
     },
     "execution_count": 177,
     "metadata": {},
     "output_type": "execute_result"
    },
    {
     "data": {
      "text/plain": [
       "<matplotlib.lines.Line2D at 0x7f9a8439b9b0>"
      ]
     },
     "execution_count": 177,
     "metadata": {},
     "output_type": "execute_result"
    },
    {
     "data": {
      "text/plain": [
       "<matplotlib.lines.Line2D at 0x7f9a8439bf60>"
      ]
     },
     "execution_count": 177,
     "metadata": {},
     "output_type": "execute_result"
    },
    {
     "data": {
      "text/plain": [
       "<matplotlib.lines.Line2D at 0x7f9a843a3160>"
      ]
     },
     "execution_count": 177,
     "metadata": {},
     "output_type": "execute_result"
    },
    {
     "data": {
      "text/plain": [
       "<matplotlib.lines.Line2D at 0x7f9a8438a208>"
      ]
     },
     "execution_count": 177,
     "metadata": {},
     "output_type": "execute_result"
    },
    {
     "data": {
      "text/plain": [
       "<matplotlib.lines.Line2D at 0x7f9a843ae0f0>"
      ]
     },
     "execution_count": 177,
     "metadata": {},
     "output_type": "execute_result"
    },
    {
     "data": {
      "text/plain": [
       "Text(2019-03-11 10:01:00+01:00, 8.384108553514213, 'Flight Start')"
      ]
     },
     "execution_count": 177,
     "metadata": {},
     "output_type": "execute_result"
    },
    {
     "data": {
      "text/plain": [
       "Text(2019-03-11 10:20:00+01:00, 6.987930877531514, 'Lift-Off')"
      ]
     },
     "execution_count": 177,
     "metadata": {},
     "output_type": "execute_result"
    },
    {
     "data": {
      "text/plain": [
       "Text(2019-03-11 10:21:07+01:00, 8.37987046289231, 'De Spin')"
      ]
     },
     "execution_count": 177,
     "metadata": {},
     "output_type": "execute_result"
    },
    {
     "data": {
      "text/plain": [
       "Text(2019-03-11 10:21:10+01:00, 7.973136539665628, 'End Rocket Propulsion')"
      ]
     },
     "execution_count": 177,
     "metadata": {},
     "output_type": "execute_result"
    },
    {
     "data": {
      "text/plain": [
       "Text(2019-03-11 10:22:04+01:00, 6.627084768455941, 'Apogee')"
      ]
     },
     "execution_count": 177,
     "metadata": {},
     "output_type": "execute_result"
    },
    {
     "data": {
      "text/plain": [
       "Text(2019-03-11 10:25:55+01:00, 8.426493381122462, 'Parachute 1')"
      ]
     },
     "execution_count": 177,
     "metadata": {},
     "output_type": "execute_result"
    },
    {
     "data": {
      "text/plain": [
       "Text(2019-03-11 10:26:20+01:00, 7.6147537213900645, 'Parachute 2')"
      ]
     },
     "execution_count": 177,
     "metadata": {},
     "output_type": "execute_result"
    },
    {
     "data": {
      "text/plain": [
       "Text(2019-03-11 10:33:41+01:00, 6.450917026536313, 'Landing')"
      ]
     },
     "execution_count": 177,
     "metadata": {},
     "output_type": "execute_result"
    },
    {
     "data": {
      "image/png": "[encoded data removed]",
      "text/plain": [
       "<Figure size 1584x576 with 1 Axes>"
      ]
     },
     "metadata": {},
     "output_type": "display_data"
    }
   ],
   "source": [
    "import matplotlib.pyplot as plt\n",
    "from matplotlib import dates\n",
    "import seaborn as sns\n",
    "# Use seaborn style defaults and set the default figure size\n",
    "sns.set(rc={'figure.figsize':(22, 8)})\n",
    "flight_start = pd.to_datetime('2019-03-11 10:01').tz_localize('Europe/Stockholm')\n",
    "#pre_and_flight[pre_and_flight.index >= flight_start].sort_values('timeStamp').Exp0_OxygenTemp.plot(marker='.', alpha=0.5, linestyle='None', figsize=(11, 9))\n",
    "sns.lineplot(\n",
    "            x = pre_and_flight[pre_and_flight.timeStamp > flight_start].timeStamp,\n",
    "            y = pre_and_flight[pre_and_flight.timeStamp > flight_start][cols_to_keep[2]]\n",
    "            )\n",
    "\n",
    "y_min = pre_and_flight[pre_and_flight.timeStamp > flight_start][cols_to_keep[2]].min()\n",
    "y_max = pre_and_flight[pre_and_flight.timeStamp > flight_start][cols_to_keep[2]].max()\n",
    "\n",
    "events_list = [flight_start, lift_off, de_spin, end_rocket_propulsion, apogee, parachute_1, parachute_2, landing]\n",
    "for event in events_list:\n",
    "    plt.axvline(x=event, color='r')\n",
    "#plt.axvline(x=flight_start, color = 'black')\n",
    "#plt.axvline(x=lift_off, color = 'blue')\n",
    "#plt.axvline(x=de_spin, color = 'red')\n",
    "#plt.axvline(x=end_rocket_propulsion, color = 'r')\n",
    "#plt.axvline(x=apogee, color = 'r')\n",
    "#plt.axvline(x=parachute_1, color = 'grey')\n",
    "#plt.axvline(x=parachute_2, color = 'grey')\n",
    "#plt.axvline(x=landing, color = 'black')\n",
    "plt.text(flight_start, random.uniform(y_min,y_max), 'Flight Start', horizontalalignment='left', size='small', color='black')\n",
    "plt.text(lift_off, random.uniform(y_min,y_max), 'Lift-Off', horizontalalignment='left', size='small', color='black')\n",
    "plt.text(de_spin, random.uniform(y_min,y_max), 'De Spin', horizontalalignment='left', size='small', color='black')\n",
    "plt.text(end_rocket_propulsion, random.uniform(y_min,y_max), 'End Rocket Propulsion', horizontalalignment='left', size='small', color='black')\n",
    "plt.text(apogee, random.uniform(y_min,y_max), 'Apogee', horizontalalignment='left', size='small', color='black')\n",
    "plt.text(parachute_1, random.uniform(y_min,y_max), 'Parachute 1', horizontalalignment='left', size='small', color='black')\n",
    "plt.text(parachute_2, random.uniform(y_min,y_max), 'Parachute 2', horizontalalignment='left', size='small', color='black')\n",
    "plt.text(landing, random.uniform(y_min,y_max), 'Landing', horizontalalignment='left', size='small', color='black')\n",
    "\n",
    "plt.show()"
   ]
  },
  {
   "cell_type": "code",
   "execution_count": 178,
   "metadata": {},
   "outputs": [
    {
     "data": {
      "text/plain": [
       "<matplotlib.axes._subplots.AxesSubplot at 0x7f9a84445cc0>"
      ]
     },
     "execution_count": 178,
     "metadata": {},
     "output_type": "execute_result"
    },
    {
     "data": {
      "text/plain": [
       "<matplotlib.lines.Line2D at 0x7f9a8460e940>"
      ]
     },
     "execution_count": 178,
     "metadata": {},
     "output_type": "execute_result"
    },
    {
     "data": {
      "text/plain": [
       "<matplotlib.lines.Line2D at 0x7f9a84306fd0>"
      ]
     },
     "execution_count": 178,
     "metadata": {},
     "output_type": "execute_result"
    },
    {
     "data": {
      "text/plain": [
       "<matplotlib.lines.Line2D at 0x7f9a843135c0>"
      ]
     },
     "execution_count": 178,
     "metadata": {},
     "output_type": "execute_result"
    },
    {
     "data": {
      "text/plain": [
       "<matplotlib.lines.Line2D at 0x7f9a84331860>"
      ]
     },
     "execution_count": 178,
     "metadata": {},
     "output_type": "execute_result"
    },
    {
     "data": {
      "text/plain": [
       "<matplotlib.lines.Line2D at 0x7f9a843383c8>"
      ]
     },
     "execution_count": 178,
     "metadata": {},
     "output_type": "execute_result"
    },
    {
     "data": {
      "text/plain": [
       "<matplotlib.lines.Line2D at 0x7f9a84338828>"
      ]
     },
     "execution_count": 178,
     "metadata": {},
     "output_type": "execute_result"
    },
    {
     "data": {
      "text/plain": [
       "<matplotlib.lines.Line2D at 0x7f9a84338c18>"
      ]
     },
     "execution_count": 178,
     "metadata": {},
     "output_type": "execute_result"
    },
    {
     "data": {
      "text/plain": [
       "<matplotlib.lines.Line2D at 0x7f9a842cb080>"
      ]
     },
     "execution_count": 178,
     "metadata": {},
     "output_type": "execute_result"
    },
    {
     "data": {
      "text/plain": [
       "Text(2019-03-11 10:01:00+01:00, 7099.953774783704, 'Flight Start')"
      ]
     },
     "execution_count": 178,
     "metadata": {},
     "output_type": "execute_result"
    },
    {
     "data": {
      "text/plain": [
       "Text(2019-03-11 10:20:00+01:00, 7306.312252039582, 'Lift-Off')"
      ]
     },
     "execution_count": 178,
     "metadata": {},
     "output_type": "execute_result"
    },
    {
     "data": {
      "text/plain": [
       "Text(2019-03-11 10:21:07+01:00, 7116.646142756953, 'De Spin')"
      ]
     },
     "execution_count": 178,
     "metadata": {},
     "output_type": "execute_result"
    },
    {
     "data": {
      "text/plain": [
       "Text(2019-03-11 10:21:10+01:00, 7167.021432890544, 'End Rocket Propulsion')"
      ]
     },
     "execution_count": 178,
     "metadata": {},
     "output_type": "execute_result"
    },
    {
     "data": {
      "text/plain": [
       "Text(2019-03-11 10:22:04+01:00, 7104.773975443157, 'Apogee')"
      ]
     },
     "execution_count": 178,
     "metadata": {},
     "output_type": "execute_result"
    },
    {
     "data": {
      "text/plain": [
       "Text(2019-03-11 10:25:55+01:00, 7087.784904521774, 'Parachute 1')"
      ]
     },
     "execution_count": 178,
     "metadata": {},
     "output_type": "execute_result"
    },
    {
     "data": {
      "text/plain": [
       "Text(2019-03-11 10:26:20+01:00, 7262.4138202207605, 'Parachute 2')"
      ]
     },
     "execution_count": 178,
     "metadata": {},
     "output_type": "execute_result"
    },
    {
     "data": {
      "text/plain": [
       "Text(2019-03-11 10:33:41+01:00, 7132.069824896128, 'Landing')"
      ]
     },
     "execution_count": 178,
     "metadata": {},
     "output_type": "execute_result"
    },
    {
     "data": {
      "image/png": "[encoded data removed]",
      "text/plain": [
       "<Figure size 1584x576 with 1 Axes>"
      ]
     },
     "metadata": {},
     "output_type": "display_data"
    }
   ],
   "source": [
    "import matplotlib.pyplot as plt\n",
    "from matplotlib import dates\n",
    "import seaborn as sns\n",
    "# Use seaborn style defaults and set the default figure size\n",
    "sns.set(rc={'figure.figsize':(22, 8)})\n",
    "flight_start = pd.to_datetime('2019-03-11 10:01').tz_localize('Europe/Stockholm')\n",
    "#pre_and_flight[pre_and_flight.index >= flight_start].sort_values('timeStamp').Exp0_OxygenTemp.plot(marker='.', alpha=0.5, linestyle='None', figsize=(11, 9))\n",
    "sns.lineplot(\n",
    "            x = pre_and_flight[pre_and_flight.timeStamp > flight_start].timeStamp,\n",
    "            y = pre_and_flight[pre_and_flight.timeStamp > flight_start][cols_to_keep[3]]\n",
    "            )\n",
    "\n",
    "y_min = pre_and_flight[pre_and_flight.timeStamp > flight_start][cols_to_keep[3]].min()\n",
    "y_max = pre_and_flight[pre_and_flight.timeStamp > flight_start][cols_to_keep[3]].max()\n",
    "\n",
    "events_list = [flight_start, lift_off, de_spin, end_rocket_propulsion, apogee, parachute_1, parachute_2, landing]\n",
    "for event in events_list:\n",
    "    plt.axvline(x=event, color='r')\n",
    "#plt.axvline(x=flight_start, color = 'black')\n",
    "#plt.axvline(x=lift_off, color = 'blue')\n",
    "#plt.axvline(x=de_spin, color = 'red')\n",
    "#plt.axvline(x=end_rocket_propulsion, color = 'r')\n",
    "#plt.axvline(x=apogee, color = 'r')\n",
    "#plt.axvline(x=parachute_1, color = 'grey')\n",
    "#plt.axvline(x=parachute_2, color = 'grey')\n",
    "#plt.axvline(x=landing, color = 'black')\n",
    "plt.text(flight_start, random.uniform(y_min,y_max), 'Flight Start', horizontalalignment='left', size='small', color='black')\n",
    "plt.text(lift_off, random.uniform(y_min,y_max), 'Lift-Off', horizontalalignment='left', size='small', color='black')\n",
    "plt.text(de_spin, random.uniform(y_min,y_max), 'De Spin', horizontalalignment='left', size='small', color='black')\n",
    "plt.text(end_rocket_propulsion, random.uniform(y_min,y_max), 'End Rocket Propulsion', horizontalalignment='left', size='small', color='black')\n",
    "plt.text(apogee, random.uniform(y_min,y_max), 'Apogee', horizontalalignment='left', size='small', color='black')\n",
    "plt.text(parachute_1, random.uniform(y_min,y_max), 'Parachute 1', horizontalalignment='left', size='small', color='black')\n",
    "plt.text(parachute_2, random.uniform(y_min,y_max), 'Parachute 2', horizontalalignment='left', size='small', color='black')\n",
    "plt.text(landing, random.uniform(y_min,y_max), 'Landing', horizontalalignment='left', size='small', color='black')\n",
    "\n",
    "plt.show()"
   ]
  },
  {
   "cell_type": "code",
   "execution_count": 179,
   "metadata": {},
   "outputs": [
    {
     "data": {
      "text/plain": [
       "<matplotlib.axes._subplots.AxesSubplot at 0x7f9a8434ccc0>"
      ]
     },
     "execution_count": 179,
     "metadata": {},
     "output_type": "execute_result"
    },
    {
     "data": {
      "text/plain": [
       "<matplotlib.lines.Line2D at 0x7f9a843c2ba8>"
      ]
     },
     "execution_count": 179,
     "metadata": {},
     "output_type": "execute_result"
    },
    {
     "data": {
      "text/plain": [
       "<matplotlib.lines.Line2D at 0x7f9a842b3e48>"
      ]
     },
     "execution_count": 179,
     "metadata": {},
     "output_type": "execute_result"
    },
    {
     "data": {
      "text/plain": [
       "<matplotlib.lines.Line2D at 0x7f9a842b38d0>"
      ]
     },
     "execution_count": 179,
     "metadata": {},
     "output_type": "execute_result"
    },
    {
     "data": {
      "text/plain": [
       "<matplotlib.lines.Line2D at 0x7f9a842a90f0>"
      ]
     },
     "execution_count": 179,
     "metadata": {},
     "output_type": "execute_result"
    },
    {
     "data": {
      "text/plain": [
       "<matplotlib.lines.Line2D at 0x7f9a842bf358>"
      ]
     },
     "execution_count": 179,
     "metadata": {},
     "output_type": "execute_result"
    },
    {
     "data": {
      "text/plain": [
       "<matplotlib.lines.Line2D at 0x7f9a842bf828>"
      ]
     },
     "execution_count": 179,
     "metadata": {},
     "output_type": "execute_result"
    },
    {
     "data": {
      "text/plain": [
       "<matplotlib.lines.Line2D at 0x7f9a842bfbe0>"
      ]
     },
     "execution_count": 179,
     "metadata": {},
     "output_type": "execute_result"
    },
    {
     "data": {
      "text/plain": [
       "<matplotlib.lines.Line2D at 0x7f9a842bfe80>"
      ]
     },
     "execution_count": 179,
     "metadata": {},
     "output_type": "execute_result"
    },
    {
     "data": {
      "text/plain": [
       "Text(2019-03-11 10:01:00+01:00, 30.84158484208008, 'Flight Start')"
      ]
     },
     "execution_count": 179,
     "metadata": {},
     "output_type": "execute_result"
    },
    {
     "data": {
      "text/plain": [
       "Text(2019-03-11 10:20:00+01:00, 30.490561950756152, 'Lift-Off')"
      ]
     },
     "execution_count": 179,
     "metadata": {},
     "output_type": "execute_result"
    },
    {
     "data": {
      "text/plain": [
       "Text(2019-03-11 10:21:07+01:00, 30.72268462638061, 'De Spin')"
      ]
     },
     "execution_count": 179,
     "metadata": {},
     "output_type": "execute_result"
    },
    {
     "data": {
      "text/plain": [
       "Text(2019-03-11 10:21:10+01:00, 30.647699753099694, 'End Rocket Propulsion')"
      ]
     },
     "execution_count": 179,
     "metadata": {},
     "output_type": "execute_result"
    },
    {
     "data": {
      "text/plain": [
       "Text(2019-03-11 10:22:04+01:00, 30.80645487351231, 'Apogee')"
      ]
     },
     "execution_count": 179,
     "metadata": {},
     "output_type": "execute_result"
    },
    {
     "data": {
      "text/plain": [
       "Text(2019-03-11 10:25:55+01:00, 30.38297490305164, 'Parachute 1')"
      ]
     },
     "execution_count": 179,
     "metadata": {},
     "output_type": "execute_result"
    },
    {
     "data": {
      "text/plain": [
       "Text(2019-03-11 10:26:20+01:00, 30.6471590266509, 'Parachute 2')"
      ]
     },
     "execution_count": 179,
     "metadata": {},
     "output_type": "execute_result"
    },
    {
     "data": {
      "text/plain": [
       "Text(2019-03-11 10:33:41+01:00, 30.555157538644956, 'Landing')"
      ]
     },
     "execution_count": 179,
     "metadata": {},
     "output_type": "execute_result"
    },
    {
     "data": {
      "image/png": "[encoded data removed]",
      "text/plain": [
       "<Figure size 1584x576 with 1 Axes>"
      ]
     },
     "metadata": {},
     "output_type": "display_data"
    }
   ],
   "source": [
    "import matplotlib.pyplot as plt\n",
    "from matplotlib import dates\n",
    "import seaborn as sns\n",
    "# Use seaborn style defaults and set the default figure size\n",
    "sns.set(rc={'figure.figsize':(22, 8)})\n",
    "flight_start = pd.to_datetime('2019-03-11 10:01').tz_localize('Europe/Stockholm')\n",
    "#pre_and_flight[pre_and_flight.index >= flight_start].sort_values('timeStamp').Exp0_OxygenTemp.plot(marker='.', alpha=0.5, linestyle='None', figsize=(11, 9))\n",
    "sns.lineplot(\n",
    "            x = pre_and_flight[pre_and_flight.timeStamp > flight_start].timeStamp,\n",
    "            y = pre_and_flight[pre_and_flight.timeStamp > flight_start][cols_to_keep[4]]\n",
    "            )\n",
    "\n",
    "y_min = pre_and_flight[pre_and_flight.timeStamp > flight_start][cols_to_keep[4]].min()\n",
    "y_max = pre_and_flight[pre_and_flight.timeStamp > flight_start][cols_to_keep[4]].max()\n",
    "\n",
    "events_list = [flight_start, lift_off, de_spin, end_rocket_propulsion, apogee, parachute_1, parachute_2, landing]\n",
    "for event in events_list:\n",
    "    plt.axvline(x=event, color='r')\n",
    "#plt.axvline(x=flight_start, color = 'black')\n",
    "#plt.axvline(x=lift_off, color = 'blue')\n",
    "#plt.axvline(x=de_spin, color = 'red')\n",
    "#plt.axvline(x=end_rocket_propulsion, color = 'r')\n",
    "#plt.axvline(x=apogee, color = 'r')\n",
    "#plt.axvline(x=parachute_1, color = 'grey')\n",
    "#plt.axvline(x=parachute_2, color = 'grey')\n",
    "#plt.axvline(x=landing, color = 'black')\n",
    "plt.text(flight_start, random.uniform(y_min,y_max), 'Flight Start', horizontalalignment='left', size='small', color='black')\n",
    "plt.text(lift_off, random.uniform(y_min,y_max), 'Lift-Off', horizontalalignment='left', size='small', color='black')\n",
    "plt.text(de_spin, random.uniform(y_min,y_max), 'De Spin', horizontalalignment='left', size='small', color='black')\n",
    "plt.text(end_rocket_propulsion, random.uniform(y_min,y_max), 'End Rocket Propulsion', horizontalalignment='left', size='small', color='black')\n",
    "plt.text(apogee, random.uniform(y_min,y_max), 'Apogee', horizontalalignment='left', size='small', color='black')\n",
    "plt.text(parachute_1, random.uniform(y_min,y_max), 'Parachute 1', horizontalalignment='left', size='small', color='black')\n",
    "plt.text(parachute_2, random.uniform(y_min,y_max), 'Parachute 2', horizontalalignment='left', size='small', color='black')\n",
    "plt.text(landing, random.uniform(y_min,y_max), 'Landing', horizontalalignment='left', size='small', color='black')\n",
    "\n",
    "plt.show()"
   ]
  },
  {
   "cell_type": "code",
   "execution_count": 180,
   "metadata": {},
   "outputs": [
    {
     "data": {
      "text/plain": [
       "<matplotlib.axes._subplots.AxesSubplot at 0x7f9a8426c278>"
      ]
     },
     "execution_count": 180,
     "metadata": {},
     "output_type": "execute_result"
    },
    {
     "data": {
      "text/plain": [
       "<matplotlib.lines.Line2D at 0x7f9a8426cd30>"
      ]
     },
     "execution_count": 180,
     "metadata": {},
     "output_type": "execute_result"
    },
    {
     "data": {
      "text/plain": [
       "<matplotlib.lines.Line2D at 0x7f9a84237780>"
      ]
     },
     "execution_count": 180,
     "metadata": {},
     "output_type": "execute_result"
    },
    {
     "data": {
      "text/plain": [
       "<matplotlib.lines.Line2D at 0x7f9a84237b70>"
      ]
     },
     "execution_count": 180,
     "metadata": {},
     "output_type": "execute_result"
    },
    {
     "data": {
      "text/plain": [
       "<matplotlib.lines.Line2D at 0x7f9a84237f28>"
      ]
     },
     "execution_count": 180,
     "metadata": {},
     "output_type": "execute_result"
    },
    {
     "data": {
      "text/plain": [
       "<matplotlib.lines.Line2D at 0x7f9a8423fef0>"
      ]
     },
     "execution_count": 180,
     "metadata": {},
     "output_type": "execute_result"
    },
    {
     "data": {
      "text/plain": [
       "<matplotlib.lines.Line2D at 0x7f9a841da358>"
      ]
     },
     "execution_count": 180,
     "metadata": {},
     "output_type": "execute_result"
    },
    {
     "data": {
      "text/plain": [
       "<matplotlib.lines.Line2D at 0x7f9a841da748>"
      ]
     },
     "execution_count": 180,
     "metadata": {},
     "output_type": "execute_result"
    },
    {
     "data": {
      "text/plain": [
       "<matplotlib.lines.Line2D at 0x7f9a841daba8>"
      ]
     },
     "execution_count": 180,
     "metadata": {},
     "output_type": "execute_result"
    },
    {
     "data": {
      "text/plain": [
       "Text(2019-03-11 10:01:00+01:00, 7.9087319251517805, 'Flight Start')"
      ]
     },
     "execution_count": 180,
     "metadata": {},
     "output_type": "execute_result"
    },
    {
     "data": {
      "text/plain": [
       "Text(2019-03-11 10:20:00+01:00, 7.7553157394226435, 'Lift-Off')"
      ]
     },
     "execution_count": 180,
     "metadata": {},
     "output_type": "execute_result"
    },
    {
     "data": {
      "text/plain": [
       "Text(2019-03-11 10:21:07+01:00, 7.801792080891815, 'De Spin')"
      ]
     },
     "execution_count": 180,
     "metadata": {},
     "output_type": "execute_result"
    },
    {
     "data": {
      "text/plain": [
       "Text(2019-03-11 10:21:10+01:00, 8.640820635321575, 'End Rocket Propulsion')"
      ]
     },
     "execution_count": 180,
     "metadata": {},
     "output_type": "execute_result"
    },
    {
     "data": {
      "text/plain": [
       "Text(2019-03-11 10:22:04+01:00, 6.667533845916315, 'Apogee')"
      ]
     },
     "execution_count": 180,
     "metadata": {},
     "output_type": "execute_result"
    },
    {
     "data": {
      "text/plain": [
       "Text(2019-03-11 10:25:55+01:00, 7.87490988368828, 'Parachute 1')"
      ]
     },
     "execution_count": 180,
     "metadata": {},
     "output_type": "execute_result"
    },
    {
     "data": {
      "text/plain": [
       "Text(2019-03-11 10:26:20+01:00, 5.931440908664369, 'Parachute 2')"
      ]
     },
     "execution_count": 180,
     "metadata": {},
     "output_type": "execute_result"
    },
    {
     "data": {
      "text/plain": [
       "Text(2019-03-11 10:33:41+01:00, 7.460671096772673, 'Landing')"
      ]
     },
     "execution_count": 180,
     "metadata": {},
     "output_type": "execute_result"
    },
    {
     "data": {
      "image/png": "[encoded data removed]",
      "text/plain": [
       "<Figure size 1584x576 with 1 Axes>"
      ]
     },
     "metadata": {},
     "output_type": "display_data"
    }
   ],
   "source": [
    "import matplotlib.pyplot as plt\n",
    "from matplotlib import dates\n",
    "import seaborn as sns\n",
    "# Use seaborn style defaults and set the default figure size\n",
    "sns.set(rc={'figure.figsize':(22, 8)})\n",
    "flight_start = pd.to_datetime('2019-03-11 10:01').tz_localize('Europe/Stockholm')\n",
    "#pre_and_flight[pre_and_flight.index >= flight_start].sort_values('timeStamp').Exp0_OxygenTemp.plot(marker='.', alpha=0.5, linestyle='None', figsize=(11, 9))\n",
    "sns.lineplot(\n",
    "            x = pre_and_flight[pre_and_flight.timeStamp > flight_start].timeStamp,\n",
    "            y = pre_and_flight[pre_and_flight.timeStamp > flight_start][cols_to_keep[5]]\n",
    "            )\n",
    "\n",
    "y_min = pre_and_flight[pre_and_flight.timeStamp > flight_start][cols_to_keep[5]].min()\n",
    "y_max = pre_and_flight[pre_and_flight.timeStamp > flight_start][cols_to_keep[5]].max()\n",
    "\n",
    "events_list = [flight_start, lift_off, de_spin, end_rocket_propulsion, apogee, parachute_1, parachute_2, landing]\n",
    "for event in events_list:\n",
    "    plt.axvline(x=event, color='r')\n",
    "#plt.axvline(x=flight_start, color = 'black')\n",
    "#plt.axvline(x=lift_off, color = 'blue')\n",
    "#plt.axvline(x=de_spin, color = 'red')\n",
    "#plt.axvline(x=end_rocket_propulsion, color = 'r')\n",
    "#plt.axvline(x=apogee, color = 'r')\n",
    "#plt.axvline(x=parachute_1, color = 'grey')\n",
    "#plt.axvline(x=parachute_2, color = 'grey')\n",
    "#plt.axvline(x=landing, color = 'black')\n",
    "plt.text(flight_start, random.uniform(y_min,y_max), 'Flight Start', horizontalalignment='left', size='small', color='black')\n",
    "plt.text(lift_off, random.uniform(y_min,y_max), 'Lift-Off', horizontalalignment='left', size='small', color='black')\n",
    "plt.text(de_spin, random.uniform(y_min,y_max), 'De Spin', horizontalalignment='left', size='small', color='black')\n",
    "plt.text(end_rocket_propulsion, random.uniform(y_min,y_max), 'End Rocket Propulsion', horizontalalignment='left', size='small', color='black')\n",
    "plt.text(apogee, random.uniform(y_min,y_max), 'Apogee', horizontalalignment='left', size='small', color='black')\n",
    "plt.text(parachute_1, random.uniform(y_min,y_max), 'Parachute 1', horizontalalignment='left', size='small', color='black')\n",
    "plt.text(parachute_2, random.uniform(y_min,y_max), 'Parachute 2', horizontalalignment='left', size='small', color='black')\n",
    "plt.text(landing, random.uniform(y_min,y_max), 'Landing', horizontalalignment='left', size='small', color='black')\n",
    "\n",
    "plt.show()"
   ]
  },
  {
   "cell_type": "code",
   "execution_count": 182,
   "metadata": {},
   "outputs": [
    {
     "name": "stderr",
     "output_type": "stream",
     "text": [
      "/home/taco/anaconda3/lib/python3.6/site-packages/seaborn/relational.py:792: FutureWarning: Converting timezone-aware DatetimeArray to timezone-naive ndarray with 'datetime64[ns]' dtype. In the future, this will return an ndarray with 'object' dtype where each element is a 'pandas.Timestamp' with the correct 'tz'.\n",
      "\tTo accept the future behavior, pass 'dtype=object'.\n",
      "\tTo keep the old behavior, pass 'dtype=\"datetime64[ns]\"'.\n",
      "  x, y = np.asarray(x), np.asarray(y)\n"
     ]
    },
    {
     "data": {
      "text/plain": [
       "<matplotlib.axes._subplots.AxesSubplot at 0x7f9a84180f98>"
      ]
     },
     "execution_count": 182,
     "metadata": {},
     "output_type": "execute_result"
    },
    {
     "data": {
      "text/plain": [
       "<matplotlib.lines.Line2D at 0x7f9a84180358>"
      ]
     },
     "execution_count": 182,
     "metadata": {},
     "output_type": "execute_result"
    },
    {
     "data": {
      "text/plain": [
       "<matplotlib.lines.Line2D at 0x7f9a84180518>"
      ]
     },
     "execution_count": 182,
     "metadata": {},
     "output_type": "execute_result"
    },
    {
     "data": {
      "text/plain": [
       "<matplotlib.lines.Line2D at 0x7f9a84152630>"
      ]
     },
     "execution_count": 182,
     "metadata": {},
     "output_type": "execute_result"
    },
    {
     "data": {
      "text/plain": [
       "<matplotlib.lines.Line2D at 0x7f9a84152ba8>"
      ]
     },
     "execution_count": 182,
     "metadata": {},
     "output_type": "execute_result"
    },
    {
     "data": {
      "text/plain": [
       "<matplotlib.lines.Line2D at 0x7f9a84152fd0>"
      ]
     },
     "execution_count": 182,
     "metadata": {},
     "output_type": "execute_result"
    },
    {
     "data": {
      "text/plain": [
       "<matplotlib.lines.Line2D at 0x7f9a8414dba8>"
      ]
     },
     "execution_count": 182,
     "metadata": {},
     "output_type": "execute_result"
    },
    {
     "data": {
      "text/plain": [
       "<matplotlib.lines.Line2D at 0x7f9a8415ac50>"
      ]
     },
     "execution_count": 182,
     "metadata": {},
     "output_type": "execute_result"
    },
    {
     "data": {
      "text/plain": [
       "<matplotlib.lines.Line2D at 0x7f9a84174240>"
      ]
     },
     "execution_count": 182,
     "metadata": {},
     "output_type": "execute_result"
    },
    {
     "data": {
      "text/plain": [
       "Text(2019-03-11 10:01:00+01:00, 9389.796299386471, 'Flight Start')"
      ]
     },
     "execution_count": 182,
     "metadata": {},
     "output_type": "execute_result"
    },
    {
     "data": {
      "text/plain": [
       "Text(2019-03-11 10:20:00+01:00, 7693.574494094164, 'Lift-Off')"
      ]
     },
     "execution_count": 182,
     "metadata": {},
     "output_type": "execute_result"
    },
    {
     "data": {
      "text/plain": [
       "Text(2019-03-11 10:21:07+01:00, 6926.516758910664, 'De Spin')"
      ]
     },
     "execution_count": 182,
     "metadata": {},
     "output_type": "execute_result"
    },
    {
     "data": {
      "text/plain": [
       "Text(2019-03-11 10:21:10+01:00, 9608.621964953927, 'End Rocket Propulsion')"
      ]
     },
     "execution_count": 182,
     "metadata": {},
     "output_type": "execute_result"
    },
    {
     "data": {
      "text/plain": [
       "Text(2019-03-11 10:22:04+01:00, 6814.18830205654, 'Apogee')"
      ]
     },
     "execution_count": 182,
     "metadata": {},
     "output_type": "execute_result"
    },
    {
     "data": {
      "text/plain": [
       "Text(2019-03-11 10:25:55+01:00, 7814.892459494578, 'Parachute 1')"
      ]
     },
     "execution_count": 182,
     "metadata": {},
     "output_type": "execute_result"
    },
    {
     "data": {
      "text/plain": [
       "Text(2019-03-11 10:26:20+01:00, 8041.807643191686, 'Parachute 2')"
      ]
     },
     "execution_count": 182,
     "metadata": {},
     "output_type": "execute_result"
    },
    {
     "data": {
      "text/plain": [
       "Text(2019-03-11 10:33:41+01:00, 7402.138491779068, 'Landing')"
      ]
     },
     "execution_count": 182,
     "metadata": {},
     "output_type": "execute_result"
    },
    {
     "data": {
      "image/png": "[encoded data removed]",
      "text/plain": [
       "<Figure size 1584x576 with 1 Axes>"
      ]
     },
     "metadata": {},
     "output_type": "display_data"
    }
   ],
   "source": [
    "import matplotlib.pyplot as plt\n",
    "from matplotlib import dates\n",
    "import seaborn as sns\n",
    "# Use seaborn style defaults and set the default figure size\n",
    "sns.set(rc={'figure.figsize':(22, 8)})\n",
    "flight_start = pd.to_datetime('2019-03-11 10:01').tz_localize('Europe/Stockholm')\n",
    "#pre_and_flight[pre_and_flight.index >= flight_start].sort_values('timeStamp').Exp0_OxygenTemp.plot(marker='.', alpha=0.5, linestyle='None', figsize=(11, 9))\n",
    "sns.lineplot(\n",
    "            x = pre_and_flight[pre_and_flight.timeStamp > flight_start].timeStamp,\n",
    "            y = pre_and_flight[pre_and_flight.timeStamp > flight_start][cols_to_keep[6]]\n",
    "            )\n",
    "\n",
    "y_min = pre_and_flight[pre_and_flight.timeStamp > flight_start][cols_to_keep[6]].min()\n",
    "y_max = pre_and_flight[pre_and_flight.timeStamp > flight_start][cols_to_keep[6]].max()\n",
    "\n",
    "events_list = [flight_start, lift_off, de_spin, end_rocket_propulsion, apogee, parachute_1, parachute_2, landing]\n",
    "for event in events_list:\n",
    "    plt.axvline(x=event, color='r')\n",
    "#plt.axvline(x=flight_start, color = 'black')\n",
    "#plt.axvline(x=lift_off, color = 'blue')\n",
    "#plt.axvline(x=de_spin, color = 'red')\n",
    "#plt.axvline(x=end_rocket_propulsion, color = 'r')\n",
    "#plt.axvline(x=apogee, color = 'r')\n",
    "#plt.axvline(x=parachute_1, color = 'grey')\n",
    "#plt.axvline(x=parachute_2, color = 'grey')\n",
    "#plt.axvline(x=landing, color = 'black')\n",
    "plt.text(flight_start, random.uniform(y_min,y_max), 'Flight Start', horizontalalignment='left', size='small', color='black')\n",
    "plt.text(lift_off, random.uniform(y_min,y_max), 'Lift-Off', horizontalalignment='left', size='small', color='black')\n",
    "plt.text(de_spin, random.uniform(y_min,y_max), 'De Spin', horizontalalignment='left', size='small', color='black')\n",
    "plt.text(end_rocket_propulsion, random.uniform(y_min,y_max), 'End Rocket Propulsion', horizontalalignment='left', size='small', color='black')\n",
    "plt.text(apogee, random.uniform(y_min,y_max), 'Apogee', horizontalalignment='left', size='small', color='black')\n",
    "plt.text(parachute_1, random.uniform(y_min,y_max), 'Parachute 1', horizontalalignment='left', size='small', color='black')\n",
    "plt.text(parachute_2, random.uniform(y_min,y_max), 'Parachute 2', horizontalalignment='left', size='small', color='black')\n",
    "plt.text(landing, random.uniform(y_min,y_max), 'Landing', horizontalalignment='left', size='small', color='black')\n",
    "\n",
    "plt.show()"
   ]
  }
 ],
 "metadata": {
  "kernelspec": {
   "display_name": "Python 3",
   "language": "python",
   "name": "python3"
  },
  "language_info": {
   "codemirror_mode": {
    "name": "ipython",
    "version": 3
   },
   "file_extension": ".py",
   "mimetype": "text/x-python",
   "name": "python",
   "nbconvert_exporter": "python",
   "pygments_lexer": "ipython3",
   "version": "3.6.8"
  }
 },
 "nbformat": 4,
 "nbformat_minor": 2
}
