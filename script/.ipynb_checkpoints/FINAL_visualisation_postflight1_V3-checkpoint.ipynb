{
 "cells": [
  {
   "cell_type": "code",
   "execution_count": 1,
   "metadata": {},
   "outputs": [],
   "source": [
    "#############################################################################\n",
    "####################Import all packages######################################\n",
    "#############################################################################\n",
    "import os\n",
    "import random\n",
    "import numpy as np\n",
    "#import missingno as msno\n",
    "import seaborn as sns\n",
    "import matplotlib.pyplot as plt\n",
    "from matplotlib import dates as mdates\n",
    "#import pandas_profiling as pp\n",
    "import pandas as pd\n",
    "pd.set_option('display.max_rows', 1000)\n",
    "pd.set_option('display.max_columns', 500)\n",
    "pd.set_option('display.width', 1000)\n",
    "pd.options.mode.chained_assignment = None  # default='warn'\n",
    "# Set working directory\n",
    "#############################################################################\n",
    "# Make Jupyter Notebook show ALL output of a cell, not only the last one\n",
    "from IPython.core.interactiveshell import InteractiveShell\n",
    "InteractiveShell.ast_node_interactivity = \"all\""
   ]
  },
  {
   "cell_type": "code",
   "execution_count": 2,
   "metadata": {},
   "outputs": [
    {
     "data": {
      "text/plain": [
       "'/home/taco/Documents/greta_forarex/script'"
      ]
     },
     "execution_count": 2,
     "metadata": {},
     "output_type": "execute_result"
    }
   ],
   "source": [
    "os.getcwd()"
   ]
  },
  {
   "cell_type": "code",
   "execution_count": 3,
   "metadata": {},
   "outputs": [],
   "source": [
    "#  READING IN DATA\n",
    "postflight_1 = pd.read_pickle('../new_data/merged_and_processed/postflight_1_processed_until_LateAccess.pkl')\n",
    "\n",
    "\n"
   ]
  },
  {
   "cell_type": "code",
   "execution_count": 4,
   "metadata": {},
   "outputs": [],
   "source": [
    "postflight_1.Pressure_LateAccess = postflight_1.Pressure_LateAccess / 10"
   ]
  },
  {
   "cell_type": "code",
   "execution_count": 5,
   "metadata": {},
   "outputs": [],
   "source": [
    "# Saving to disk the merged files (not yet processed)\n",
    "# In Pickle format for fast read in\n",
    "#pre_and_flight.to_pickle('../data/experiment/merged/pre_and_flight_merged.pkl')\n",
    "#postflight_2.to_pickle('../data/experiment/merged/postflight_1_merged.pkl')\n",
    "#extra.to_pickle('../data/experiment/merged/extra_merged.pkl')\n",
    "# In CSV\n",
    "#pre_and_flight.to_csv('../data/experiment/merged/pre_and_flight_merged.csv')\n",
    "#postflight_2.to_csv('../data/experiment/merged/postflight_1_merged.csv')\n",
    "#extra.to_csv('../data/experiment/merged/extra_merged.csv')\n"
   ]
  },
  {
   "cell_type": "code",
   "execution_count": 6,
   "metadata": {},
   "outputs": [],
   "source": [
    "## Remove all unncessary columns\n",
    "cols_to_keep = ['timeStamp',\n",
    "                'Exp0_OxygenTemp', 'Exp0_OxygenpercentO2', 'Exp0_PhValue',\n",
    "                'Exp1_OxygenTemp', 'Exp1_OxygenpercentO2',\n",
    "                'Pressure_LateAccess']\n",
    "\n",
    "#pre_and_flight = pre_and_flight[cols_to_keep]\n",
    "postflight_1 = postflight_1[cols_to_keep]\n",
    "#extra = extra[cols_to_keep]"
   ]
  },
  {
   "cell_type": "code",
   "execution_count": 7,
   "metadata": {},
   "outputs": [],
   "source": [
    "# DFs contain negligible amount of missing values (NAs), just drop them\n",
    "#import missingno as msno\n",
    "#msno.matrix(postflight_1)\n",
    "#pre_and_flight.dropna(inplace=True)\n",
    "postflight_1.dropna(inplace=True)\n",
    "#extra.dropna(inplace=True)"
   ]
  },
  {
   "cell_type": "code",
   "execution_count": 8,
   "metadata": {},
   "outputs": [],
   "source": [
    "# Naive DateTime TimeStamp needs to be increased by 1hour (UTC+1 for Sweden) compared to what was recorded (apparently UTC, UK)\n",
    "#pre_and_flight.loc[:,'timeStamp'] = pd.to_datetime(pre_and_flight.timeStamp, unit='s')\n",
    "#postflight_1.loc[:,'timeStamp'] = pd.to_datetime(postflight_2.timeStamp, unit='s')\n",
    "#extra.loc[:,'timeStamp'] = pd.to_datetime(extra.timeStamp, unit='s').dt.tz_localize('UTC').dt.tz_convert('Europe/Stockholm')\n"
   ]
  },
  {
   "cell_type": "code",
   "execution_count": 9,
   "metadata": {
    "scrolled": true
   },
   "outputs": [
    {
     "data": {
      "text/plain": [
       "Timestamp('2019-03-11 12:53:02')"
      ]
     },
     "execution_count": 9,
     "metadata": {},
     "output_type": "execute_result"
    },
    {
     "data": {
      "text/plain": [
       "Timestamp('2019-03-14 18:53:49')"
      ]
     },
     "execution_count": 9,
     "metadata": {},
     "output_type": "execute_result"
    }
   ],
   "source": [
    "# Check the data range of the final timestamps\n",
    "#pre_and_flight.timeStamp.min()\n",
    "#pre_and_flight.timeStamp.max()\n",
    "postflight_1.timeStamp.min()\n",
    "postflight_1.timeStamp.max()\n",
    "#postflight_2.timeStamp.min()\n",
    "#postflight_2.timeStamp.max()\n",
    "\n",
    "#extra.timeStamp.min()\n",
    "#extra.timeStamp.max()\n"
   ]
  },
  {
   "cell_type": "code",
   "execution_count": 10,
   "metadata": {},
   "outputs": [],
   "source": [
    "#postflight_1.to_pickle(r'~/Documents/greta_forarex/new_data/merged_and_processed/postflight_1.pkl')\n",
    "#testo = pd.read_pickle(r'~/Documents/greta_forarex/new_data/merged_and_processed/postflight_1.pkl')"
   ]
  },
  {
   "cell_type": "code",
   "execution_count": 11,
   "metadata": {},
   "outputs": [],
   "source": [
    "# Create different time epochs for convenient plotting & exploration\n",
    "# Pre and Flight\n",
    "#pre_and_flight.loc[:, 'year'] = pre_and_flight.timeStamp.dt.year\n",
    "#pre_and_flight.loc[:, 'month'] = pre_and_flight.timeStamp.dt.month\n",
    "#pre_and_flight.loc[:, 'day'] = pre_and_flight.timeStamp.dt.day\n",
    "#pre_and_flight.loc[:, 'hour'] = pre_and_flight.timeStamp.dt.hour\n",
    "#pre_and_flight.loc[:, 'minute'] = pre_and_flight.timeStamp.dt.minute\n",
    "#pre_and_flight.loc[:, 'second'] = pre_and_flight.timeStamp.dt.second\n",
    "\n",
    "# Postflight\n",
    "#postflight_1.loc[:, 'year'] = postflight_1.timeStamp.dt.year\n",
    "#postflight_1.loc[:, 'month'] = postflight_1.timeStamp.dt.month\n",
    "#postflight_1.loc[:, 'day'] = postflight_1.timeStamp.dt.day\n",
    "#postflight_1.loc[:, 'hour'] = postflight_1.timeStamp.dt.hour\n",
    "#postflight_1.loc[:, 'minute'] = postflight_1.timeStamp.dt.minute\n",
    "#postflight_1.loc[:, 'second'] = postflight_1.timeStamp.dt.second\n",
    "\n",
    "# Extra\n",
    "#extra.loc[:, 'year'] = extra.timeStamp.dt.year\n",
    "#extra.loc[:, 'month'] = extra.timeStamp.dt.month\n",
    "#extra.loc[:, 'day'] = extra.timeStamp.dt.day\n",
    "#extra.loc[:, 'hour'] = extra.timeStamp.dt.hour\n",
    "#extra.loc[:, 'minute'] = extra.timeStamp.dt.minute\n",
    "#extra.loc[:, 'second'] = extra.timeStamp.dt.second"
   ]
  },
  {
   "cell_type": "code",
   "execution_count": 12,
   "metadata": {},
   "outputs": [],
   "source": [
    "#Wichtige Zeitpunkte:\n",
    "#- Ende Late Access (LA) 11.03.2019  07:45:58\n",
    "end_late_access = pd.to_datetime('2019-03-11 07:45:58').tz_localize('Europe/Stockholm')#.tz_convert('Europe/Stockholm')\n",
    "#- Lift-Off (LO) 11.03.2019  10:19:56  --- 11.03.2019 10:20:00 1552296000 Lift-Off (LO)\n",
    "lift_off = pd.to_datetime('2019-03-11 10:20:00').tz_localize('Europe/Stockholm')#.tz_convert('Europe/Stockholm')\n",
    "#- De-Spin (keine Rotierung der Rakete) ~ Nullbewegung in alle Richtungen im Video nach 1 min 7s 38 ms nach LO\n",
    "de_spin = lift_off + pd.Timedelta('1 minutes 7 seconds')\n",
    "#- Ende des Raketenantriebs (Motorabwurf, keine Beschleunigung, keine Hypergravitation) 1 min 10 s 20 ms nach LO\n",
    "end_rocket_propulsion = lift_off + pd.Timedelta('1 minutes 10 seconds')\n",
    "#- Apogee (Zeitpunkt zu dem die Rakete den höchsten Höhenmeter erreicht hat) 124,4 Sekunden nach LO (errreichte Höhe 82,184 km)\n",
    "apogee = lift_off + pd.Timedelta('124 seconds')\n",
    "#- Auswurf 1. Fallschirm ~ 5 min 55 s nach LO\n",
    "parachute_1 = lift_off + pd.Timedelta('5 minutes 55 seconds')\n",
    "#- Auswurf 2. Fallschirm ~ 6 min 20 s nach LO\n",
    "parachute_2 = lift_off + pd.Timedelta('6 minutes 20 seconds')\n",
    "#- Zeitpunkt der Landung 11.03.2019 10:33:41.800000\n",
    "landing = pd.to_datetime('2019-03-11 10:33:41').tz_localize('Europe/Stockholm')"
   ]
  },
  {
   "cell_type": "code",
   "execution_count": 13,
   "metadata": {},
   "outputs": [],
   "source": [
    "#date_diff = pd.to_datetime('2019-03-11  13:20:00') - pd.to_datetime('2000-01-01 14:30:02')\n",
    "#postflight_1.timeStamp = postflight_1.timeStamp + date_diff\n",
    "\n"
   ]
  },
  {
   "cell_type": "code",
   "execution_count": 16,
   "metadata": {},
   "outputs": [],
   "source": [
    "postflight_1.to_csv('../output/postflight_1_plot_table.csv')"
   ]
  },
  {
   "cell_type": "code",
   "execution_count": null,
   "metadata": {},
   "outputs": [],
   "source": [
    "#postflight_1.timeStamp.min()\n",
    "#postflight_1.timeStamp.max()"
   ]
  },
  {
   "cell_type": "code",
   "execution_count": 18,
   "metadata": {
    "scrolled": true
   },
   "outputs": [
    {
     "data": {
      "text/plain": [
       "<matplotlib.axes._subplots.AxesSubplot at 0x7f9a059d40b8>"
      ]
     },
     "execution_count": 18,
     "metadata": {},
     "output_type": "execute_result"
    },
    {
     "data": {
      "text/plain": [
       "(array([737129.5, 737130. , 737130.5, 737131. , 737131.5, 737132. ,\n",
       "        737132.5]), <a list of 7 Text xticklabel objects>)"
      ]
     },
     "execution_count": 18,
     "metadata": {},
     "output_type": "execute_result"
    },
    {
     "data": {
      "text/plain": [
       "Text(0, 0.5, 'Water temperature \\n [C°]')"
      ]
     },
     "execution_count": 18,
     "metadata": {},
     "output_type": "execute_result"
    },
    {
     "data": {
      "text/plain": [
       "Text(0.5, 0, 'Time  \\n [Day-Hour:Minute]')"
      ]
     },
     "execution_count": 18,
     "metadata": {},
     "output_type": "execute_result"
    },
    {
     "data": {
      "text/plain": [
       "Text(0.5, 1.0, 'Water temperature [Exp0_Flight module]')"
      ]
     },
     "execution_count": 18,
     "metadata": {},
     "output_type": "execute_result"
    },
    {
     "data": {
      "image/png": "[encoded data removed]",
      "text/plain": [
       "<Figure size 251.064x155.169 with 1 Axes>"
      ]
     },
     "metadata": {},
     "output_type": "display_data"
    }
   ],
   "source": [
    "import numpy as np\n",
    "import matplotlib as mpl\n",
    "from matplotlib import dates as mdates\n",
    "import matplotlib.pyplot as plt\n",
    "\n",
    "plt.rc('font', family='serif', serif='Times')\n",
    "plt.rc('text', usetex=False)\n",
    "plt.rc('xtick', labelsize=4)\n",
    "plt.rc('ytick', labelsize=4)\n",
    "plt.rc('axes', labelsize=6)\n",
    "sns.set_style(\"whitegrid\")\n",
    "\n",
    "# width as measured in inkscape\n",
    "width = 3.487\n",
    "height = width / 1.618\n",
    "\n",
    "fig, ax = plt.subplots()\n",
    "fig.subplots_adjust(left=.15, bottom=.30, right=.99, top=.90)\n",
    "\n",
    "sns.lineplot(\n",
    "            data= postflight_1[(postflight_1.Exp0_OxygenTemp <60) & (postflight_1.Exp0_OxygenTemp >1)],\n",
    "            x = 'timeStamp',\n",
    "             y = 'Exp0_OxygenTemp'\n",
    "            )\n",
    "\n",
    "plt.gca().xaxis.set_major_formatter(mdates.DateFormatter('%d-%H:%M'))\n",
    "plt.xticks(rotation=30, ha='center', va='top')\n",
    "#plt.yticks(fontsize=3)\n",
    "plt.tick_params(axis='both',bottom=True, top=False, left=True, right=False, direction='out', which='major')\n",
    "\n",
    "ax.set_ylabel(\"Water temperature \\n [C°]\", fontsize='6', fontweight='bold')\n",
    "ax.set_xlabel(\"Time  \\n [Day-Hour:Minute]\", fontsize='6', fontweight='bold')\n",
    "plt.title('Water temperature [Exp0_Flight module]', fontsize='6', fontweight='bold')\n",
    "#figure = plot.get_figure()    \n",
    "#figure.set_size_inches(28, 10)\n",
    "#plt.tight_layout()\n",
    "#figure.savefig('../output/Oxy_test.png', dpi=500)\n",
    "\n",
    "fig.set_size_inches(width, height)\n",
    "fig.savefig('../output/NEW_postflight/Water_temperature_Exp0_Flight_module.png', dpi=1000)\n"
   ]
  },
  {
   "cell_type": "code",
   "execution_count": 19,
   "metadata": {},
   "outputs": [
    {
     "data": {
      "text/plain": [
       "<matplotlib.axes._subplots.AxesSubplot at 0x7f9a0588dcc0>"
      ]
     },
     "execution_count": 19,
     "metadata": {},
     "output_type": "execute_result"
    },
    {
     "data": {
      "text/plain": [
       "(array([737129.5, 737130. , 737130.5, 737131. , 737131.5, 737132. ]),\n",
       " <a list of 6 Text xticklabel objects>)"
      ]
     },
     "execution_count": 19,
     "metadata": {},
     "output_type": "execute_result"
    },
    {
     "data": {
      "text/plain": [
       "Text(0, 0.5, 'Water temperature \\n [C°]')"
      ]
     },
     "execution_count": 19,
     "metadata": {},
     "output_type": "execute_result"
    },
    {
     "data": {
      "text/plain": [
       "Text(0.5, 0, 'Time  \\n [Day-Hour:Minute]')"
      ]
     },
     "execution_count": 19,
     "metadata": {},
     "output_type": "execute_result"
    },
    {
     "data": {
      "text/plain": [
       "Text(0.5, 1.0, 'Water temperature [Exp1_Flight module]')"
      ]
     },
     "execution_count": 19,
     "metadata": {},
     "output_type": "execute_result"
    },
    {
     "data": {
      "image/png": "[encoded data removed]",
      "text/plain": [
       "<Figure size 251.064x155.169 with 1 Axes>"
      ]
     },
     "metadata": {},
     "output_type": "display_data"
    }
   ],
   "source": [
    "import numpy as np\n",
    "import matplotlib as mpl\n",
    "import matplotlib.pyplot as plt\n",
    "\n",
    "plt.rc('font', family='serif', serif='Times')\n",
    "plt.rc('text', usetex=False)\n",
    "plt.rc('xtick', labelsize=4)\n",
    "plt.rc('ytick', labelsize=4)\n",
    "plt.rc('axes', labelsize=6)\n",
    "sns.set_style(\"whitegrid\")\n",
    "\n",
    "\n",
    "# width as measured in inkscape\n",
    "width = 3.487\n",
    "height = width / 1.618\n",
    "\n",
    "fig, ax = plt.subplots()\n",
    "fig.subplots_adjust(left=.15, bottom=.30, right=.99, top=.90)\n",
    "\n",
    "sns.lineplot(\n",
    "            data=postflight_1[(postflight_1.Exp0_OxygenTemp <60) & (postflight_1.Exp0_OxygenTemp >1) & (postflight_1.Exp1_OxygenTemp >1) & (postflight_1.Exp0_OxygenpercentO2 < 50) & (postflight_1.Exp1_OxygenpercentO2 < 50)  & (postflight_1.Exp1_OxygenpercentO2 > 0) & (postflight_1.Exp0_PhValue < 20) & (postflight_1.Exp0_PhValue > 0)],\n",
    "            x = 'timeStamp',\n",
    "             y = 'Exp1_OxygenTemp'\n",
    "            )\n",
    "\n",
    "plt.gca().xaxis.set_major_formatter(mdates.DateFormatter('%d-%H:%M'))\n",
    "plt.xticks(rotation=30, ha='center', va='top')\n",
    "#plt.yticks(fontsize=3)\n",
    "plt.tick_params(axis='both',bottom=True, top=False, left=True, right=False, direction='out', which='major')\n",
    "\n",
    "ax.set_ylabel(\"Water temperature \\n [C°]\", fontsize='6', fontweight='bold')\n",
    "ax.set_xlabel(\"Time  \\n [Day-Hour:Minute]\", fontsize='6', fontweight='bold')\n",
    "plt.title('Water temperature [Exp1_Flight module]', fontsize='6', fontweight='bold')\n",
    "\n",
    "#figure = plot.get_figure()    \n",
    "#figure.set_size_inches(28, 10)\n",
    "#plt.tight_layout()\n",
    "#figure.savefig('../output/Oxy_test.png', dpi=500)\n",
    "\n",
    "fig.set_size_inches(width, height)\n",
    "\n",
    "fig.savefig('../output//NEW_postflight/Water_temperature_Exp1_Flight_module.png', dpi=1000)\n",
    "#plt.show()"
   ]
  },
  {
   "cell_type": "code",
   "execution_count": 20,
   "metadata": {},
   "outputs": [
    {
     "data": {
      "text/plain": [
       "<matplotlib.axes._subplots.AxesSubplot at 0x7f9a0563e978>"
      ]
     },
     "execution_count": 20,
     "metadata": {},
     "output_type": "execute_result"
    },
    {
     "data": {
      "text/plain": [
       "(array([737129.5, 737130. , 737130.5, 737131. , 737131.5, 737132. ]),\n",
       " <a list of 6 Text xticklabel objects>)"
      ]
     },
     "execution_count": 20,
     "metadata": {},
     "output_type": "execute_result"
    },
    {
     "data": {
      "text/plain": [
       "Text(0, 0.5, 'Oxygen content \\n [%]')"
      ]
     },
     "execution_count": 20,
     "metadata": {},
     "output_type": "execute_result"
    },
    {
     "data": {
      "text/plain": [
       "Text(0.5, 0, 'Time  \\n [Day-Hour:Minute]')"
      ]
     },
     "execution_count": 20,
     "metadata": {},
     "output_type": "execute_result"
    },
    {
     "data": {
      "text/plain": [
       "Text(0.5, 1.0, 'Oxygen content [Exp0_Flight module]')"
      ]
     },
     "execution_count": 20,
     "metadata": {},
     "output_type": "execute_result"
    },
    {
     "name": "stderr",
     "output_type": "stream",
     "text": [
      "findfont: Font family ['serif'] not found. Falling back to DejaVu Sans.\n",
      "findfont: Font family ['serif'] not found. Falling back to DejaVu Sans.\n"
     ]
    },
    {
     "data": {
      "image/png": "[encoded data removed]",
      "text/plain": [
       "<Figure size 251.064x155.169 with 1 Axes>"
      ]
     },
     "metadata": {},
     "output_type": "display_data"
    }
   ],
   "source": [
    "import numpy as np\n",
    "import matplotlib as mpl\n",
    "import matplotlib.pyplot as plt\n",
    "sns.set_style(\"whitegrid\")\n",
    "plt.rc('font', family='serif', serif='Times')\n",
    "plt.rc('text', usetex=False)\n",
    "plt.rc('xtick', labelsize=4)\n",
    "plt.rc('ytick', labelsize=4)\n",
    "plt.rc('axes', labelsize=6)\n",
    "\n",
    "\n",
    "# width as measured in inkscape\n",
    "width = 3.487\n",
    "height = width / 1.618\n",
    "\n",
    "fig, ax = plt.subplots()\n",
    "fig.subplots_adjust(left=.15, bottom=.30, right=.99, top=.90)\n",
    "\n",
    "sns.lineplot(\n",
    "            data=postflight_1[(postflight_1.Exp0_OxygenTemp <60) & (postflight_1.Exp0_OxygenTemp >1) & (postflight_1.Exp1_OxygenTemp >1) & (postflight_1.Exp0_OxygenpercentO2 < 50) & (postflight_1.Exp1_OxygenpercentO2 < 50)  & (postflight_1.Exp1_OxygenpercentO2 > 0) & (postflight_1.Exp0_PhValue < 20) & (postflight_1.Exp0_PhValue > 0)],\n",
    "            x = 'timeStamp',\n",
    "             y = 'Exp0_OxygenpercentO2'\n",
    "            )\n",
    "\n",
    "plt.gca().xaxis.set_major_formatter(mdates.DateFormatter('%d-%H:%M'))\n",
    "plt.xticks(rotation=30, ha='center', va='top')\n",
    "#plt.yticks(fontsize=3)\n",
    "plt.tick_params(axis='both',bottom=True, top=False, left=True, right=False, direction='out', which='major')\n",
    "\n",
    "ax.set_ylabel(\"Oxygen content \\n [%]\", fontsize='6', fontweight='bold')\n",
    "ax.set_xlabel(\"Time  \\n [Day-Hour:Minute]\", fontsize='6', fontweight='bold')\n",
    "plt.title('Oxygen content [Exp0_Flight module]', fontsize='6', fontweight='bold')\n",
    "#plt.show()\n",
    "#figure = plot.get_figure()    \n",
    "#figure.set_size_inches(28, 10)\n",
    "#plt.tight_layout()\n",
    "#figure.savefig('../output/Oxy_test.png', dpi=500)\n",
    "\n",
    "fig.set_size_inches(width, height)\n",
    "fig.savefig('../output//NEW_postflight/Oxygen_content_Exp0_Flight_module.png', dpi=1000)\n"
   ]
  },
  {
   "cell_type": "code",
   "execution_count": 21,
   "metadata": {},
   "outputs": [
    {
     "data": {
      "text/plain": [
       "<matplotlib.axes._subplots.AxesSubplot at 0x7f9a060b50f0>"
      ]
     },
     "execution_count": 21,
     "metadata": {},
     "output_type": "execute_result"
    },
    {
     "data": {
      "text/plain": [
       "(array([737129.5, 737130. , 737130.5, 737131. , 737131.5, 737132. ]),\n",
       " <a list of 6 Text xticklabel objects>)"
      ]
     },
     "execution_count": 21,
     "metadata": {},
     "output_type": "execute_result"
    },
    {
     "data": {
      "text/plain": [
       "Text(0, 0.5, 'Oxygen content \\n [%]')"
      ]
     },
     "execution_count": 21,
     "metadata": {},
     "output_type": "execute_result"
    },
    {
     "data": {
      "text/plain": [
       "Text(0.5, 0, 'Time  \\n [Day-Hour:Minute]')"
      ]
     },
     "execution_count": 21,
     "metadata": {},
     "output_type": "execute_result"
    },
    {
     "data": {
      "text/plain": [
       "Text(0.5, 1.0, 'Oxygen content [Exp1_Flight module]')"
      ]
     },
     "execution_count": 21,
     "metadata": {},
     "output_type": "execute_result"
    },
    {
     "data": {
      "image/png": "[encoded data removed]",
      "text/plain": [
       "<Figure size 251.064x155.169 with 1 Axes>"
      ]
     },
     "metadata": {},
     "output_type": "display_data"
    }
   ],
   "source": [
    "import numpy as np\n",
    "import matplotlib as mpl\n",
    "import matplotlib.pyplot as plt\n",
    "sns.set_style(\"whitegrid\")\n",
    "plt.rc('font', family='serif', serif='Times')\n",
    "plt.rc('text', usetex=False)\n",
    "plt.rc('xtick', labelsize=4)\n",
    "plt.rc('ytick', labelsize=4)\n",
    "plt.rc('axes', labelsize=6)\n",
    "\n",
    "\n",
    "# width as measured in inkscape\n",
    "width = 3.487\n",
    "height = width / 1.618\n",
    "\n",
    "fig, ax = plt.subplots()\n",
    "fig.subplots_adjust(left=.15, bottom=.30, right=.99, top=.90)\n",
    "\n",
    "sns.lineplot(\n",
    "            data=postflight_1[(postflight_1.Exp0_OxygenTemp <60) & (postflight_1.Exp0_OxygenTemp >1) & (postflight_1.Exp1_OxygenTemp >1) & (postflight_1.Exp0_OxygenpercentO2 < 50) & (postflight_1.Exp1_OxygenpercentO2 < 50)  & (postflight_1.Exp1_OxygenpercentO2 > 0) & (postflight_1.Exp0_PhValue < 20) & (postflight_1.Exp0_PhValue > 0)],\n",
    "            x = 'timeStamp',\n",
    "             y = 'Exp1_OxygenpercentO2'\n",
    "            )\n",
    "\n",
    "plt.gca().xaxis.set_major_formatter(mdates.DateFormatter('%d-%H:%M'))\n",
    "plt.xticks(rotation=30, ha='center', va='top')\n",
    "#plt.yticks(fontsize=3)\n",
    "plt.tick_params(axis='both',bottom=True, top=False, left=True, right=False, direction='out', which='major')\n",
    "\n",
    "ax.set_ylabel(\"Oxygen content \\n [%]\", fontsize='6', fontweight='bold')\n",
    "ax.set_xlabel(\"Time  \\n [Day-Hour:Minute]\", fontsize='6', fontweight='bold')\n",
    "plt.title('Oxygen content [Exp1_Flight module]', fontsize='6', fontweight='bold')\n",
    "#plt.show()\n",
    "#figure = plot.get_figure()    \n",
    "#figure.set_size_inches(28, 10)\n",
    "#plt.tight_layout()\n",
    "#figure.savefig('../output/Oxy_test.png', dpi=500)\n",
    "\n",
    "fig.set_size_inches(width, height)\n",
    "fig.savefig('../output//NEW_postflight/Oxygen_content_Exp1_Flight_module.png', dpi=1000)\n"
   ]
  },
  {
   "cell_type": "code",
   "execution_count": null,
   "metadata": {},
   "outputs": [],
   "source": [
    "postflight_1.columns\n",
    "\n",
    "#Water temperature [Exp0_Flight module]\n",
    "#Water temperature [Exp1_Flight module]\n",
    "#Oxygen content [Exp0_Flight module]\n",
    "#Oxygen content [Exp1_Flight module]\n",
    "#pH Value [Exp0_Flight module]\n",
    "#Ambient Pressure [Flight module]"
   ]
  },
  {
   "cell_type": "code",
   "execution_count": 24,
   "metadata": {},
   "outputs": [
    {
     "data": {
      "text/plain": [
       "<matplotlib.axes._subplots.AxesSubplot at 0x7f9a0546a2e8>"
      ]
     },
     "execution_count": 24,
     "metadata": {},
     "output_type": "execute_result"
    },
    {
     "data": {
      "text/plain": [
       "(array([737129.5, 737130. , 737130.5, 737131. , 737131.5, 737132. ]),\n",
       " <a list of 6 Text xticklabel objects>)"
      ]
     },
     "execution_count": 24,
     "metadata": {},
     "output_type": "execute_result"
    },
    {
     "data": {
      "text/plain": [
       "Text(0, 0.5, 'Ambient Pressure [Flight module] \\n [hPa]')"
      ]
     },
     "execution_count": 24,
     "metadata": {},
     "output_type": "execute_result"
    },
    {
     "data": {
      "text/plain": [
       "Text(0.5, 0, 'Time  \\n [Day-Hour:Minute]')"
      ]
     },
     "execution_count": 24,
     "metadata": {},
     "output_type": "execute_result"
    },
    {
     "data": {
      "text/plain": [
       "Text(0.5, 1.0, 'Ambient Pressure [Flight module]')"
      ]
     },
     "execution_count": 24,
     "metadata": {},
     "output_type": "execute_result"
    },
    {
     "data": {
      "image/png": "[encoded data removed]",
      "text/plain": [
       "<Figure size 251.064x155.169 with 1 Axes>"
      ]
     },
     "metadata": {},
     "output_type": "display_data"
    }
   ],
   "source": [
    "import numpy as np\n",
    "import matplotlib as mpl\n",
    "\n",
    "import matplotlib.pyplot as plt\n",
    "\n",
    "plt.rc('font', family='serif', serif='Times')\n",
    "plt.rc('text', usetex=False)\n",
    "plt.rc('xtick', labelsize=4)\n",
    "plt.rc('ytick', labelsize=4)\n",
    "plt.rc('axes', labelsize=6)\n",
    "sns.set_style(\"whitegrid\")\n",
    "\n",
    "# width as measured in inkscape\n",
    "width = 3.487\n",
    "height = width / 1.618\n",
    "\n",
    "fig, ax = plt.subplots()\n",
    "fig.subplots_adjust(left=.15, bottom=.30, right=.99, top=.90)\n",
    "\n",
    "sns.lineplot(\n",
    "            data=postflight_1[(postflight_1.Pressure_LateAccess < 1300) & (postflight_1.Pressure_LateAccess > 900) & (postflight_1.Exp0_OxygenTemp <60) & (postflight_1.Exp0_OxygenTemp >1) & (postflight_1.Exp1_OxygenTemp >1) & (postflight_1.Exp0_OxygenpercentO2 < 50) & (postflight_1.Exp1_OxygenpercentO2 < 50)  & (postflight_1.Exp1_OxygenpercentO2 > 0) & (postflight_1.Exp0_PhValue < 20) & (postflight_1.Exp0_PhValue > 0)],\n",
    "            x = 'timeStamp',\n",
    "            y = 'Pressure_LateAccess')\n",
    "\n",
    "plt.gca().xaxis.set_major_formatter(mdates.DateFormatter('%d-%H:%M'))\n",
    "plt.xticks(rotation=30, ha='center', va='top')\n",
    "#plt.yticks(fontsize=3)\n",
    "plt.tick_params(axis='both',bottom=True, top=False, left=True, right=False, direction='out', which='major')\n",
    "\n",
    "ax.set_ylabel(\"Ambient Pressure [Flight module] \\n [hPa]\", fontsize='6', fontweight='bold')\n",
    "ax.set_xlabel(\"Time  \\n [Day-Hour:Minute]\", fontsize='6', fontweight='bold')\n",
    "plt.title('Ambient Pressure [Flight module]', fontsize='6', fontweight='bold')\n",
    "#plt.show()\n",
    "#figure = plot.get_figure()    \n",
    "#figure.set_size_inches(28, 10)\n",
    "#plt.tight_layout()\n",
    "#figure.savefig('../output/Oxy_test.png', dpi=500)\n",
    "\n",
    "fig.set_size_inches(width, height)\n",
    "fig.savefig('../output//NEW_postflight/Ambient_Pressure_Flight_module.png', dpi=1000)\n",
    "\n",
    "\n"
   ]
  },
  {
   "cell_type": "code",
   "execution_count": 30,
   "metadata": {},
   "outputs": [],
   "source": [
    "postflight_1['ph_rolling'] = postflight_1.Exp0_PhValue.rolling(100).mean()"
   ]
  },
  {
   "cell_type": "code",
   "execution_count": 31,
   "metadata": {},
   "outputs": [
    {
     "data": {
      "text/plain": [
       "<matplotlib.axes._subplots.AxesSubplot at 0x7f9a04a047b8>"
      ]
     },
     "execution_count": 31,
     "metadata": {},
     "output_type": "execute_result"
    },
    {
     "data": {
      "text/plain": [
       "(array([737129.5, 737130. , 737130.5, 737131. , 737131.5, 737132. ]),\n",
       " <a list of 6 Text xticklabel objects>)"
      ]
     },
     "execution_count": 31,
     "metadata": {},
     "output_type": "execute_result"
    },
    {
     "data": {
      "text/plain": [
       "Text(0, 0.5, 'pH Value')"
      ]
     },
     "execution_count": 31,
     "metadata": {},
     "output_type": "execute_result"
    },
    {
     "data": {
      "text/plain": [
       "Text(0.5, 0, 'Time  \\n [Day-Hour:Minute]')"
      ]
     },
     "execution_count": 31,
     "metadata": {},
     "output_type": "execute_result"
    },
    {
     "data": {
      "text/plain": [
       "Text(0.5, 1.0, 'pH Value [Exp0_Flight module]')"
      ]
     },
     "execution_count": 31,
     "metadata": {},
     "output_type": "execute_result"
    },
    {
     "data": {
      "image/png": "[encoded data removed]",
      "text/plain": [
       "<Figure size 251.064x155.169 with 1 Axes>"
      ]
     },
     "metadata": {},
     "output_type": "display_data"
    }
   ],
   "source": [
    "import numpy as np\n",
    "import matplotlib as mpl\n",
    "\n",
    "import matplotlib.pyplot as plt\n",
    "\n",
    "plt.rc('font', family='serif', serif='Times')\n",
    "plt.rc('text', usetex=False)\n",
    "plt.rc('xtick', labelsize=4)\n",
    "plt.rc('ytick', labelsize=4)\n",
    "plt.rc('axes', labelsize=6)\n",
    "sns.set_style(\"whitegrid\")\n",
    "\n",
    "# width as measured in inkscape\n",
    "width = 3.487\n",
    "height = width / 1.618\n",
    "\n",
    "fig, ax = plt.subplots()\n",
    "fig.subplots_adjust(left=.15, bottom=.30, right=.99, top=.90)\n",
    "\n",
    "sns.lineplot(\n",
    "            data=postflight_1[(postflight_1.Pressure_LateAccess < 1300) & (postflight_1.Pressure_LateAccess > 900) & (postflight_1.Exp0_OxygenTemp <60) & (postflight_1.Exp0_OxygenTemp >1) & (postflight_1.Exp1_OxygenTemp >1) & (postflight_1.Exp0_OxygenpercentO2 < 50) & (postflight_1.Exp1_OxygenpercentO2 < 50)  & (postflight_1.Exp1_OxygenpercentO2 > 0) & (postflight_1.Exp0_PhValue < 20) & (postflight_1.Exp0_PhValue > 0)],\n",
    "            x = 'timeStamp',\n",
    "            y = 'ph_rolling')\n",
    "\n",
    "plt.gca().xaxis.set_major_formatter(mdates.DateFormatter('%d-%H:%M'))\n",
    "plt.xticks(rotation=30, ha='center', va='top')\n",
    "#plt.yticks(fontsize=3)\n",
    "plt.tick_params(axis='both',bottom=True, top=False, left=True, right=False, direction='out', which='major')\n",
    "\n",
    "ax.set_ylabel(\"pH Value\", fontsize='6', fontweight='bold')\n",
    "ax.set_xlabel(\"Time  \\n [Day-Hour:Minute]\", fontsize='6', fontweight='bold')\n",
    "plt.title('pH Value [Exp0_Flight module]', fontsize='6', fontweight='bold')\n",
    "#plt.show()\n",
    "#figure = plot.get_figure()    \n",
    "#figure.set_size_inches(28, 10)\n",
    "#plt.tight_layout()\n",
    "#figure.savefig('../output/Oxy_test.png', dpi=500)\n",
    "\n",
    "fig.set_size_inches(width, height)\n",
    "fig.savefig('../output//NEW_postflight/Exp0_PhValue_Flight_module.png', dpi=1000)\n",
    "\n",
    "\n"
   ]
  },
  {
   "cell_type": "code",
   "execution_count": 25,
   "metadata": {},
   "outputs": [
    {
     "data": {
      "text/plain": [
       "Index(['timeStamp', 'Exp0_OxygenTemp', 'Exp0_OxygenpercentO2', 'Exp0_PhValue', 'Exp1_OxygenTemp', 'Exp1_OxygenpercentO2', 'Pressure_LateAccess'], dtype='object')"
      ]
     },
     "execution_count": 25,
     "metadata": {},
     "output_type": "execute_result"
    }
   ],
   "source": [
    "postflight_1.columns"
   ]
  },
  {
   "cell_type": "code",
   "execution_count": null,
   "metadata": {},
   "outputs": [],
   "source": []
  },
  {
   "cell_type": "code",
   "execution_count": null,
   "metadata": {},
   "outputs": [],
   "source": []
  },
  {
   "cell_type": "code",
   "execution_count": null,
   "metadata": {},
   "outputs": [],
   "source": []
  },
  {
   "cell_type": "code",
   "execution_count": null,
   "metadata": {},
   "outputs": [],
   "source": []
  },
  {
   "cell_type": "code",
   "execution_count": null,
   "metadata": {},
   "outputs": [],
   "source": []
  },
  {
   "cell_type": "code",
   "execution_count": null,
   "metadata": {},
   "outputs": [],
   "source": []
  },
  {
   "cell_type": "code",
   "execution_count": null,
   "metadata": {},
   "outputs": [],
   "source": []
  },
  {
   "cell_type": "code",
   "execution_count": null,
   "metadata": {},
   "outputs": [],
   "source": []
  },
  {
   "cell_type": "code",
   "execution_count": null,
   "metadata": {},
   "outputs": [],
   "source": []
  },
  {
   "cell_type": "code",
   "execution_count": null,
   "metadata": {},
   "outputs": [],
   "source": [
    "##########################################  DO NOT USE BELOW HERE ##########################################"
   ]
  },
  {
   "cell_type": "code",
   "execution_count": null,
   "metadata": {},
   "outputs": [],
   "source": [
    "##########################################  DO NOT USE BELOW HERE ##########################################"
   ]
  },
  {
   "cell_type": "code",
   "execution_count": null,
   "metadata": {},
   "outputs": [],
   "source": [
    "##########################################  DO NOT USE BELOW HERE ##########################################"
   ]
  },
  {
   "cell_type": "code",
   "execution_count": null,
   "metadata": {},
   "outputs": [],
   "source": [
    "##########################################  DO NOT USE BELOW HERE ##########################################"
   ]
  },
  {
   "cell_type": "code",
   "execution_count": null,
   "metadata": {},
   "outputs": [],
   "source": [
    "##########################################  DO NOT USE BELOW HERE ##########################################"
   ]
  },
  {
   "cell_type": "code",
   "execution_count": null,
   "metadata": {},
   "outputs": [],
   "source": []
  },
  {
   "cell_type": "code",
   "execution_count": null,
   "metadata": {},
   "outputs": [],
   "source": []
  },
  {
   "cell_type": "code",
   "execution_count": null,
   "metadata": {},
   "outputs": [],
   "source": []
  },
  {
   "cell_type": "code",
   "execution_count": null,
   "metadata": {},
   "outputs": [],
   "source": []
  },
  {
   "cell_type": "code",
   "execution_count": null,
   "metadata": {},
   "outputs": [],
   "source": []
  },
  {
   "cell_type": "code",
   "execution_count": null,
   "metadata": {},
   "outputs": [],
   "source": []
  },
  {
   "cell_type": "code",
   "execution_count": null,
   "metadata": {},
   "outputs": [],
   "source": []
  },
  {
   "cell_type": "code",
   "execution_count": null,
   "metadata": {},
   "outputs": [],
   "source": []
  },
  {
   "cell_type": "code",
   "execution_count": null,
   "metadata": {},
   "outputs": [],
   "source": []
  },
  {
   "cell_type": "code",
   "execution_count": null,
   "metadata": {},
   "outputs": [],
   "source": []
  },
  {
   "cell_type": "code",
   "execution_count": null,
   "metadata": {},
   "outputs": [],
   "source": []
  },
  {
   "cell_type": "code",
   "execution_count": null,
   "metadata": {},
   "outputs": [],
   "source": [
    "import matplotlib.pyplot as plt\n",
    "from matplotlib import dates as mdates\n",
    "import seaborn as sns\n",
    "sns.set(rc={'figure.figsize':(22, 8)})\n",
    "zero = pd.to_datetime('2000-01-01 00:02:46') + date_diff \n",
    "end_1 = pd.to_datetime('2000-01-02 00:00:00') + date_diff\n",
    "end_2 = pd.to_datetime('2000-01-03 00:00:00') + date_diff\n",
    "end_3 = pd.to_datetime('2000-01-04 00:00:00') + date_diff\n",
    "end_4 = pd.to_datetime('2000-01-05 00:00:00') + date_diff\n",
    "\n",
    "\n",
    "\n",
    "sns.lineplot(\n",
    "            data= postflight_1[(postflight_1.Exp0_OxygenTemp <60) & (postflight_1.Exp0_OxygenTemp >1) & (postflight_1.Exp0_OxygenpercentO2 < 50)],\n",
    "            x = 'timeStamp',\n",
    "             y = 'Exp0_OxygenpercentO2'\n",
    "            )\n",
    "#plt.ylabel(\"Oxygen Temperature \\n [C°]\",fontweight='bold', fontsize='15')\n",
    "#plt.xlabel(\"Time  \\n [H:M:S]\", fontweight='bold', fontsize='15')\n",
    "#plt.title('Oxygen Temperature over Time', fontsize='17')\n",
    "\n",
    "plt.gca().xaxis.set_major_formatter(mdates.DateFormatter('%d:%H:%M:%S'))\n",
    "plt.xticks(fontsize=12, rotation=30, ha='center', va='top')\n",
    "plt.yticks(fontsize=12)\n",
    "plt.tick_params(axis='both',bottom=True, top=False, left=True, right=True, direction='out', which='major')"
   ]
  },
  {
   "cell_type": "code",
   "execution_count": null,
   "metadata": {},
   "outputs": [],
   "source": [
    "#postflight_1.Exp0_PhValue = postflight_1.Exp0_PhValue[postflight_1.Exp0_PhValue < 20]\n",
    "\n",
    "postflight_1['roll_ph'] = postflight_1.Exp0_PhValue.rolling(100).mean()"
   ]
  },
  {
   "cell_type": "code",
   "execution_count": null,
   "metadata": {},
   "outputs": [],
   "source": [
    "import matplotlib.pyplot as plt\n",
    "from matplotlib import dates as mdates\n",
    "import seaborn as sns\n",
    "sns.set(rc={'figure.figsize':(22, 8)})\n",
    "zero = pd.to_datetime('2000-01-01 00:02:46') + date_diff \n",
    "end_1 = pd.to_datetime('2000-01-02 00:00:00') + date_diff\n",
    "end_2 = pd.to_datetime('2000-01-03 00:00:00') + date_diff\n",
    "end_3 = pd.to_datetime('2000-01-04 00:00:00') + date_diff\n",
    "end_4 = pd.to_datetime('2000-01-05 00:00:00') + date_diff\n",
    "\n",
    "sns.lineplot(\n",
    "            data= postflight_1[(postflight_1.Exp0_OxygenTemp <60) & (postflight_1.Exp0_OxygenTemp >1) & (postflight_1.Exp0_OxygenpercentO2 < 50) & (postflight_1.Exp0_PhValue < 20) & (postflight_1.Exp0_PhValue > 0)],\n",
    "            x = 'timeStamp',\n",
    "             y = 'roll_ph'\n",
    "            )\n",
    "#plt.ylabel(\"Oxygen Temperature \\n [C°]\",fontweight='bold', fontsize='15')\n",
    "#plt.xlabel(\"Time  \\n [H:M:S]\", fontweight='bold', fontsize='15')\n",
    "#plt.title('Oxygen Temperature over Time', fontsize='17')\n",
    "\n",
    "plt.gca().xaxis.set_major_formatter(mdates.DateFormatter('%d:%H:%M:%S'))\n",
    "plt.xticks(fontsize=12, rotation=30, ha='center', va='top')\n",
    "plt.yticks(fontsize=12)\n",
    "plt.tick_params(axis='both',bottom=True, top=False, left=True, right=True, direction='out', which='major')"
   ]
  },
  {
   "cell_type": "code",
   "execution_count": null,
   "metadata": {},
   "outputs": [],
   "source": [
    "import matplotlib.pyplot as plt\n",
    "from matplotlib import dates as mdates\n",
    "import seaborn as sns\n",
    "sns.set(rc={'figure.figsize':(22, 8)})\n",
    "zero = pd.to_datetime('2000-01-01 00:02:46') + date_diff \n",
    "end_1 = pd.to_datetime('2000-01-02 00:00:00') + date_diff\n",
    "end_2 = pd.to_datetime('2000-01-03 00:00:00') + date_diff\n",
    "end_3 = pd.to_datetime('2000-01-04 00:00:00') + date_diff\n",
    "end_4 = pd.to_datetime('2000-01-05 00:00:00') + date_diff\n",
    "\n",
    "sns.lineplot(\n",
    "            data= postflight_1[(postflight_1.Exp0_OxygenTemp <60) & (postflight_1.Exp0_OxygenTemp >1) & (postflight_1.Exp1_OxygenTemp >1) & (postflight_1.Exp0_OxygenpercentO2 < 50) & (postflight_1.Exp0_PhValue < 20) & (postflight_1.Exp0_PhValue > 0)],\n",
    "            x = 'timeStamp',\n",
    "             y = 'Exp1_OxygenTemp'\n",
    "            )\n",
    "#plt.ylabel(\"Oxygen Temperature \\n [C°]\",fontweight='bold', fontsize='15')\n",
    "#plt.xlabel(\"Time  \\n [H:M:S]\", fontweight='bold', fontsize='15')\n",
    "#plt.title('Oxygen Temperature over Time', fontsize='17')\n",
    "\n",
    "plt.gca().xaxis.set_major_formatter(mdates.DateFormatter('%d:%H:%M:%S'))\n",
    "plt.xticks(fontsize=12, rotation=30, ha='center', va='top')\n",
    "plt.yticks(fontsize=12)\n",
    "plt.tick_params(axis='both',bottom=True, top=False, left=True, right=True, direction='out', which='major')"
   ]
  },
  {
   "cell_type": "code",
   "execution_count": null,
   "metadata": {},
   "outputs": [],
   "source": [
    "import matplotlib.pyplot as plt\n",
    "from matplotlib import dates as mdates\n",
    "import seaborn as sns\n",
    "sns.set(rc={'figure.figsize':(22, 8)})\n",
    "zero = pd.to_datetime('2000-01-01 00:02:46') + date_diff \n",
    "end_1 = pd.to_datetime('2000-01-02 00:00:00') + date_diff\n",
    "end_2 = pd.to_datetime('2000-01-03 00:00:00') + date_diff\n",
    "end_3 = pd.to_datetime('2000-01-04 00:00:00') + date_diff\n",
    "end_4 = pd.to_datetime('2000-01-05 00:00:00') + date_diff\n",
    "\n",
    "sns.lineplot(\n",
    "            data= postflight_1[(postflight_1.Exp0_OxygenTemp <60) & (postflight_1.Exp0_OxygenTemp >1) & (postflight_1.Exp1_OxygenTemp >1) & (postflight_1.Exp0_OxygenpercentO2 < 50) & (postflight_1.Exp1_OxygenpercentO2 < 50)  & (postflight_1.Exp1_OxygenpercentO2 > 0) & (postflight_1.Exp0_PhValue < 20) & (postflight_1.Exp0_PhValue > 0)],\n",
    "            x = 'timeStamp',\n",
    "             y = 'Exp1_OxygenpercentO2'\n",
    "            )\n",
    "#plt.ylabel(\"Oxygen Temperature \\n [C°]\",fontweight='bold', fontsize='15')\n",
    "#plt.xlabel(\"Time  \\n [H:M:S]\", fontweight='bold', fontsize='15')\n",
    "#plt.title('Oxygen Temperature over Time', fontsize='17')\n",
    "\n",
    "plt.gca().xaxis.set_major_formatter(mdates.DateFormatter('%d:%H:%M:%S'))\n",
    "plt.xticks(fontsize=12, rotation=30, ha='center', va='top')\n",
    "plt.yticks(fontsize=12)\n",
    "plt.tick_params(axis='both',bottom=True, top=False, left=True, right=True, direction='out', which='major')"
   ]
  },
  {
   "cell_type": "code",
   "execution_count": null,
   "metadata": {},
   "outputs": [],
   "source": [
    "import matplotlib.pyplot as plt\n",
    "from matplotlib import dates as mdates\n",
    "import seaborn as sns\n",
    "sns.set(rc={'figure.figsize':(22, 8)})\n",
    "zero = pd.to_datetime('2000-01-01 00:02:46') + date_diff \n",
    "end_1 = pd.to_datetime('2000-01-02 00:00:00') + date_diff\n",
    "end_2 = pd.to_datetime('2000-01-03 00:00:00') + date_diff\n",
    "end_3 = pd.to_datetime('2000-01-04 00:00:00') + date_diff\n",
    "end_4 = pd.to_datetime('2000-01-05 00:00:00') + date_diff\n",
    "\n",
    "sns.lineplot(\n",
    "            data= postflight_1[(postflight_1.Exp0_OxygenTemp <60) & (postflight_1.Exp0_OxygenTemp >1) & (postflight_1.Exp1_OxygenTemp >1) & (postflight_1.Exp0_OxygenpercentO2 < 50) & (postflight_1.Exp1_OxygenpercentO2 < 50)  & (postflight_1.Exp1_OxygenpercentO2 > 0) & (postflight_1.Exp0_PhValue < 20) & (postflight_1.Exp0_PhValue > 0)],\n",
    "            x = 'timeStamp',\n",
    "             y = 'Pressure_LateAccess'\n",
    "            )\n",
    "#plt.ylabel(\"Oxygen Temperature \\n [C°]\",fontweight='bold', fontsize='15')\n",
    "#plt.xlabel(\"Time  \\n [H:M:S]\", fontweight='bold', fontsize='15')\n",
    "#plt.title('Oxygen Temperature over Time', fontsize='17')\n",
    "\n",
    "plt.gca().xaxis.set_major_formatter(mdates.DateFormatter('%d:%H:%M:%S'))\n",
    "plt.xticks(fontsize=12, rotation=30, ha='center', va='top')\n",
    "plt.yticks(fontsize=12)\n",
    "plt.tick_params(axis='both',bottom=True, top=False, left=True, right=True, direction='out', which='major')"
   ]
  },
  {
   "cell_type": "code",
   "execution_count": null,
   "metadata": {},
   "outputs": [],
   "source": [
    "#import matplotlib.pyplot as plt\n",
    "#from matplotlib import dates as mdates\n",
    "#import seaborn as sns\n",
    "\n",
    "\n",
    "zero = pd.to_datetime('2000-01-01 00:02:46') + date_diff \n",
    "end_1 = pd.to_datetime('2000-01-02 00:00:00') + date_diff\n",
    "end_2 = pd.to_datetime('2000-01-03 00:00:00') + date_diff\n",
    "end_3 = pd.to_datetime('2000-01-04 00:00:00') + date_diff\n",
    "end_4 = pd.to_datetime('2000-01-05 00:00:00') + date_diff\n",
    "\n",
    "import seaborn as sns\n",
    "%matplotlib inline\n",
    "sns.set(rc={'figure.figsize':(3.5, 1.25)})\n",
    "\n",
    "\n",
    "plot = sns.lineplot(\n",
    "            data= postflight_1[(postflight_1.Exp0_OxygenTemp <60) & (postflight_1.Exp0_OxygenTemp >1)],\n",
    "            x = 'timeStamp',\n",
    "             y = 'Exp0_OxygenTemp'\n",
    "            )\n",
    "plt.ylabel(\"Oxygen Temperature \\n [C°]\",fontweight='bold', fontsize='3')\n",
    "plt.xlabel(\"Time  \\n [D:H:M:S]\", fontweight='bold', fontsize='3')\n",
    "plt.title('Oxygen Temperature over Time', fontsize='3')\n",
    "\n",
    "plt.gca().xaxis.set_major_formatter(mdates.DateFormatter('%d:%H:%M:%S'))\n",
    "plt.xticks(fontsize=3, rotation=30, ha='center', va='top')\n",
    "plt.yticks(fontsize=3)\n",
    "plt.tick_params(axis='both',bottom=True, top=False, left=True, right=True, direction='out', which='major')\n",
    "#plt.show()\n",
    "figure = plot.get_figure()    \n",
    "figure.set_size_inches(28, 10)\n",
    "plt.tight_layout()\n",
    "figure.savefig('../output/Oxy_test.png', dpi=500)\n"
   ]
  },
  {
   "cell_type": "code",
   "execution_count": null,
   "metadata": {},
   "outputs": [],
   "source": [
    "#postflight_1.columns\n",
    "#postflight_1.dtypes\n",
    "postflight_1.Pressure_LateAccess.min()\n",
    "postflight_1.Pressure_LateAccess.max()\n",
    "\n"
   ]
  },
  {
   "cell_type": "code",
   "execution_count": null,
   "metadata": {},
   "outputs": [],
   "source": [
    "postflight_1.groupby(['day','hour','minute']).mean()"
   ]
  },
  {
   "cell_type": "code",
   "execution_count": null,
   "metadata": {},
   "outputs": [],
   "source": [
    "# Sort DF by timeStamp\n",
    "#pre_and_flight.sort_values(by='timeStamp', axis=0, ascending=True, inplace=True)\n",
    "postflight_1.sort_values(by='timeStamp', axis=0, ascending=True, inplace=True)\n",
    "#extra.sort_values(by='timeStamp', axis=0, ascending=True, inplace=True)\n",
    "# Make timestamp index of DF for easier plotting\n",
    "#pre_and_flight.set_index('timeStamp', inplace=True)\n",
    "#postflight.set_index('timeStamp', inplace=True)"
   ]
  },
  {
   "cell_type": "code",
   "execution_count": null,
   "metadata": {},
   "outputs": [],
   "source": [
    "postflight_1.sort_values('timeStamp', inplace=True)\n",
    "postflight_1 = postflight_1.reset_index()\n"
   ]
  },
  {
   "cell_type": "code",
   "execution_count": null,
   "metadata": {},
   "outputs": [],
   "source": [
    "# Scale columns values \n",
    "\n",
    "# Pre-and flight\n",
    "#pre_and_flight.loc[:,'Exp0_OxygenTemp'] = pre_and_flight.Exp0_OxygenTemp/1000\n",
    "#pre_and_flight.loc[:,'Exp1_OxygenTemp'] = pre_and_flight.Exp1_OxygenTemp/1000\n",
    "#pre_and_flight.loc[:,'Exp0_OxygenpercentO2'] = pre_and_flight.Exp0_OxygenpercentO2/1000\n",
    "#pre_and_flight.loc[:,'Exp1_OxygenpercentO2'] = pre_and_flight.Exp1_OxygenpercentO2/1000\n",
    "\n",
    "# Postflight\n",
    "postflight_1.loc[:,'Exp0_OxygenTemp'] = postflight_1.Exp0_OxygenTemp/1000\n",
    "postflight_1.loc[:,'Exp1_OxygenTemp'] = postflight_1.Exp1_OxygenTemp/1000\n",
    "postflight_1.loc[:,'Exp0_OxygenpercentO2'] = postflight_1.Exp0_OxygenpercentO2/1000\n",
    "postflight_1.loc[:,'Exp1_OxygenpercentO2'] = postflight_1.Exp1_OxygenpercentO2/1000\n",
    "postflight_1.loc[:,'Exp0_PhValue'] = postflight_1.Exp0_PhValue/1000\n",
    "\n",
    "\n",
    "\n",
    "\n"
   ]
  },
  {
   "cell_type": "code",
   "execution_count": null,
   "metadata": {},
   "outputs": [],
   "source": [
    "# Saving to disk\n",
    "# In Pickle format for fast read in\n",
    "#pre_and_flight.to_pickle('../data/experiment/processed/pre_and_flight_merged.pkl')\n",
    "#postflight.to_pickle('../data/experiment/processed//postflight_merged.pkl')\n",
    "\n",
    "# In CSV\n",
    "#pre_and_flight.to_csv('../data/experiment/processed//pre_and_flight_merged.csv')\n",
    "#postflight.to_csv('../data/experiment/processed//postflight_merged.csv')\n",
    "\n"
   ]
  },
  {
   "cell_type": "code",
   "execution_count": null,
   "metadata": {
    "scrolled": true
   },
   "outputs": [],
   "source": [
    "# Pandas Profiling conveniently returns an extensive report with descriptive statistics for each DF\n",
    "#pre_and_flight.profile_report(style={'full_width':True})\n",
    "#postflight.profile_report(style={'full_width':True})"
   ]
  },
  {
   "cell_type": "code",
   "execution_count": null,
   "metadata": {},
   "outputs": [],
   "source": [
    "# Explore which year, days, hours and minutes were actually recorded\n",
    "#plt.figure(figsize=(18, 6))\n",
    "#pre_and_flight.set_index('timeStamp', inplace=True)"
   ]
  },
  {
   "cell_type": "code",
   "execution_count": null,
   "metadata": {},
   "outputs": [],
   "source": [
    "import matplotlib.pyplot as plt\n",
    "from matplotlib import dates\n",
    "import seaborn as sns\n",
    "# Use seaborn style defaults and set the default figure size\n",
    "sns.set(rc={'figure.figsize':(22, 8)})\n",
    "flight_start = pd.to_datetime('2019-03-11 10:01').tz_localize('Europe/Stockholm')\n",
    "#pre_and_flight[pre_and_flight.index >= flight_start].sort_values('timeStamp').Exp0_OxygenTemp.plot(marker='.', alpha=0.5, linestyle='None', figsize=(11, 9))\n",
    "sns.lineplot(\n",
    "            x = pre_and_flight[pre_and_flight.timeStamp > flight_start].timeStamp,\n",
    "            y = pre_and_flight[pre_and_flight.timeStamp > flight_start].Exp0_OxygenTemp\n",
    "            )\n",
    "\n",
    "events_list = [flight_start, lift_off, de_spin, end_rocket_propulsion, apogee, parachute_1, parachute_2, landing]\n",
    "for event in events_list:\n",
    "    plt.axvline(x=event, color='r')\n",
    "   \n",
    "#plt.axvline(x=flight_start, color = 'black')\n",
    "#plt.axvline(x=lift_off, color = 'blue')\n",
    "#plt.axvline(x=de_spin, color = 'red')\n",
    "#plt.axvline(x=end_rocket_propulsion, color = 'r')\n",
    "#plt.axvline(x=apogee, color = 'r')\n",
    "#plt.axvline(x=parachute_1, color = 'grey')\n",
    "#plt.axvline(x=parachute_2, color = 'grey')\n",
    "#plt.axvline(x=landing, color = 'black')\n",
    "plt.text(flight_start, 34, 'Flight Start', horizontalalignment='left', size='small', color='black')\n",
    "plt.text(lift_off, 34.1, 'Lift-Off', horizontalalignment='left', size='small', color='black')\n",
    "plt.text(de_spin, 33.2, 'De Spin', horizontalalignment='left', size='small', color='black')\n",
    "plt.text(end_rocket_propulsion, 32, 'End Rocket Propulsion', horizontalalignment='left', size='small', color='black')\n",
    "plt.text(apogee, 31, 'Apogee', horizontalalignment='left', size='small', color='black')\n",
    "plt.text(parachute_1, 32.5, 'Parachute 1', horizontalalignment='left', size='small', color='black')\n",
    "plt.text(parachute_2, 32.2, 'Parachute 2', horizontalalignment='left', size='small', color='black')\n",
    "plt.text(landing, 32, 'Landing', horizontalalignment='left', size='small', color='black')\n",
    "\n",
    "\n",
    "# get current axis\n",
    "#ax = plt.gca()\n",
    "# get current xtick labels\n",
    "ax.fmt_xdata = dates.DateFormatter('%H:%M:%S')\n",
    "# convert all xtick labels to selected format from ms timestamp\n",
    "#ax.set_xticklabels(pre_and_flight[pre_and_flight.timeStamp > flight_start].timeStamp.dt.strftime('%H:%M:%S') ,\n",
    "# rotation=50)\n",
    "\n",
    "plt.show()"
   ]
  },
  {
   "cell_type": "code",
   "execution_count": null,
   "metadata": {},
   "outputs": [],
   "source": [
    "import matplotlib.pyplot as plt\n",
    "from matplotlib import dates\n",
    "import seaborn as sns\n",
    "# Use seaborn style defaults and set the default figure size\n",
    "sns.set(rc={'figure.figsize':(22, 8)})\n",
    "flight_start = pd.to_datetime('2019-03-11 10:01').tz_localize('Europe/Stockholm')\n",
    "#pre_and_flight[pre_and_flight.index >= flight_start].sort_values('timeStamp').Exp0_OxygenTemp.plot(marker='.', alpha=0.5, linestyle='None', figsize=(11, 9))\n",
    "sns.lineplot(\n",
    "            x = pre_and_flight[pre_and_flight.timeStamp >= lift_off].timeStamp,\n",
    "            y = pre_and_flight[pre_and_flight.timeStamp >= lift_off].Exp0_OxygenTemp\n",
    "            )\n",
    "\n",
    "events_list = [lift_off, de_spin, end_rocket_propulsion, apogee, parachute_1, parachute_2, landing]\n",
    "for event in events_list:\n",
    "    plt.axvline(x=event, color='r')\n",
    "   \n",
    "#plt.axvline(x=flight_start, color = 'black')\n",
    "#plt.axvline(x=lift_off, color = 'blue')\n",
    "#plt.axvline(x=de_spin, color = 'red')\n",
    "#plt.axvline(x=end_rocket_propulsion, color = 'r')\n",
    "#plt.axvline(x=apogee, color = 'r')\n",
    "#plt.axvline(x=parachute_1, color = 'grey')\n",
    "#plt.axvline(x=parachute_2, color = 'grey')\n",
    "#plt.axvline(x=landing, color = 'black')\n",
    "\n",
    "plt.text(lift_off, 33.1, 'Lift-Off', horizontalalignment='left', size='small', color='black')\n",
    "plt.text(de_spin, 33.2, 'De Spin', horizontalalignment='left', size='small', color='black')\n",
    "plt.text(end_rocket_propulsion, 33.6, 'End Rocket Propulsion', horizontalalignment='left', size='small', color='black')\n",
    "plt.text(apogee, 33, 'Apogee', horizontalalignment='left', size='small', color='black')\n",
    "plt.text(parachute_1, 33.1, 'Parachute 1', horizontalalignment='left', size='small', color='black')\n",
    "plt.text(parachute_2, 33.4, 'Parachute 2', horizontalalignment='left', size='small', color='black')\n",
    "plt.text(landing, 33.1, 'Landing', horizontalalignment='left', size='small', color='black')\n",
    "\n",
    "\n",
    "# get current axis\n",
    "#ax = plt.gca()\n",
    "# get current xtick labels\n",
    "#ax.fmt_xdata = dates.DateFormatter('%H:%M:%S')\n",
    "# convert all xtick labels to selected format from ms timestamp\n",
    "#ax.set_xticklabels(pre_and_flight[pre_and_flight.timeStamp > flight_start].timeStamp.dt.strftime('%H:%M:%S') ,\n",
    "# rotation=50)\n",
    "\n",
    "plt.show()"
   ]
  },
  {
   "cell_type": "code",
   "execution_count": null,
   "metadata": {},
   "outputs": [],
   "source": [
    "import matplotlib.pyplot as plt\n",
    "from matplotlib import dates\n",
    "import seaborn as sns\n",
    "# Use seaborn style defaults and set the default figure size\n",
    "sns.set(rc={'figure.figsize':(22, 8)})\n",
    "flight_start = pd.to_datetime('2019-03-11 10:01').tz_localize('Europe/Stockholm')\n",
    "#pre_and_flight[pre_and_flight.index >= flight_start].sort_values('timeStamp').Exp0_OxygenTemp.plot(marker='.', alpha=0.5, linestyle='None', figsize=(11, 9))\n",
    "sns.lineplot(\n",
    "            x = pre_and_flight[pre_and_flight.timeStamp > flight_start].timeStamp,\n",
    "            y = pre_and_flight[pre_and_flight.timeStamp > flight_start][cols_to_keep[1]]\n",
    "            )\n",
    "\n",
    "events_list = [flight_start, lift_off, de_spin, end_rocket_propulsion, apogee, parachute_1, parachute_2, landing]\n",
    "for event in events_list:\n",
    "    plt.axvline(x=event, color='r')\n",
    "ylimits = ax.get_ylim()\n",
    "import random\n",
    "#plt.axvline(x=flight_start, color = 'black')\n",
    "#plt.axvline(x=lift_off, color = 'blue')\n",
    "#plt.axvline(x=de_spin, color = 'red')\n",
    "#plt.axvline(x=end_rocket_propulsion, color = 'r')\n",
    "#plt.axvline(x=apogee, color = 'r')\n",
    "#plt.axvline(x=parachute_1, color = 'grey')\n",
    "#plt.axvline(x=parachute_2, color = 'grey')\n",
    "#plt.axvline(x=landing, color = 'black')\n",
    "plt.text(flight_start, random.uniform(ylimits[0],ylimits[1]), 'Flight Start', horizontalalignment='left', size='small', color='black')\n",
    "plt.text(lift_off, random.uniform(ylimits[0],ylimits[1]), 'Lift-Off', horizontalalignment='left', size='small', color='black')\n",
    "plt.text(de_spin, random.uniform(ylimits[0],ylimits[1]), 'De Spin', horizontalalignment='left', size='small', color='black')\n",
    "plt.text(end_rocket_propulsion, random.uniform(ylimits[0],ylimits[1]), 'End Rocket Propulsion', horizontalalignment='left', size='small', color='black')\n",
    "plt.text(apogee, random.uniform(ylimits[0],ylimits[1]), 'Apogee', horizontalalignment='left', size='small', color='black')\n",
    "plt.text(parachute_1, random.uniform(ylimits[0],ylimits[1]), 'Parachute 1', horizontalalignment='left', size='small', color='black')\n",
    "plt.text(parachute_2, random.uniform(ylimits[0],ylimits[1]), 'Parachute 2', horizontalalignment='left', size='small', color='black')\n",
    "plt.text(landing, random.uniform(ylimits[0],ylimits[1]), 'Landing', horizontalalignment='left', size='small', color='black')\n",
    "plt.show()"
   ]
  },
  {
   "cell_type": "code",
   "execution_count": null,
   "metadata": {
    "scrolled": true
   },
   "outputs": [],
   "source": [
    "import matplotlib.pyplot as plt\n",
    "from matplotlib import dates\n",
    "import seaborn as sns\n",
    "# Use seaborn style defaults and set the default figure size\n",
    "sns.set(rc={'figure.figsize':(22, 8)})\n",
    "flight_start = pd.to_datetime('2019-03-11 10:01').tz_localize('Europe/Stockholm')\n",
    "#pre_and_flight[pre_and_flight.index >= flight_start].sort_values('timeStamp').Exp0_OxygenTemp.plot(marker='.', alpha=0.5, linestyle='None', figsize=(11, 9))\n",
    "ax = sns.lineplot(\n",
    "            x = pre_and_flight[pre_and_flight.timeStamp > flight_start].timeStamp,\n",
    "            y = pre_and_flight[pre_and_flight.timeStamp > flight_start][cols_to_keep[1]]\n",
    "            )\n",
    "\n",
    "y_min = pre_and_flight[pre_and_flight.timeStamp > flight_start][cols_to_keep[1]].min()\n",
    "y_max = pre_and_flight[pre_and_flight.timeStamp > flight_start][cols_to_keep[1]].max()\n",
    "\n",
    "events_list = [flight_start, lift_off, de_spin, end_rocket_propulsion, apogee, parachute_1, parachute_2, landing]\n",
    "for event in events_list:\n",
    "    plt.axvline(x=event, color='r')\n",
    "#plt.axvline(x=flight_start, color = 'black')\n",
    "#plt.axvline(x=lift_off, color = 'blue')\n",
    "#plt.axvline(x=de_spin, color = 'red')\n",
    "#plt.axvline(x=end_rocket_propulsion, color = 'r')\n",
    "#plt.axvline(x=apogee, color = 'r')\n",
    "#plt.axvline(x=parachute_1, color = 'grey')\n",
    "#plt.axvline(x=parachute_2, color = 'grey')\n",
    "#plt.axvline(x=landing, color = 'black')\n",
    "plt.text(flight_start, random.uniform(y_min,y_max), 'Flight Start', horizontalalignment='left', size='small', color='black')\n",
    "plt.text(lift_off, random.uniform(y_min,y_max), 'Lift-Off', horizontalalignment='left', size='small', color='black')\n",
    "plt.text(de_spin, random.uniform(y_min,y_max), 'De Spin', horizontalalignment='left', size='small', color='black')\n",
    "plt.text(end_rocket_propulsion, random.uniform(y_min,y_max), 'End Rocket Propulsion', horizontalalignment='left', size='small', color='black')\n",
    "plt.text(apogee, random.uniform(y_min,y_max), 'Apogee', horizontalalignment='left', size='small', color='black')\n",
    "plt.text(parachute_1, random.uniform(y_min,y_max), 'Parachute 1', horizontalalignment='left', size='small', color='black')\n",
    "plt.text(parachute_2, random.uniform(y_min,y_max), 'Parachute 2', horizontalalignment='left', size='small', color='black')\n",
    "plt.text(landing, random.uniform(y_min,y_max), 'Landing', horizontalalignment='left', size='small', color='black')\n",
    "\n",
    "from matplotlib.ticker import AutoMinorLocator, AutoLocator\n",
    "from matplotlib.dates import DateFormatter\n",
    "#ax.xaxis.set_major_locator()\n",
    "#ax.xaxis.set_minor_locator(AutoMinorLocator())\n",
    "myFmt = DateFormatter(\"%H/%M\") \n",
    "ax.xaxis.set_major_formatter(myFmt) \n",
    " \n",
    "\n",
    "plt.show()"
   ]
  },
  {
   "cell_type": "code",
   "execution_count": null,
   "metadata": {},
   "outputs": [],
   "source": [
    "import matplotlib.pyplot as plt\n",
    "from matplotlib import dates\n",
    "import seaborn as sns\n",
    "# Use seaborn style defaults and set the default figure size\n",
    "sns.set(rc={'figure.figsize':(22, 8)})\n",
    "flight_start = pd.to_datetime('2019-03-11 10:01').tz_localize('Europe/Stockholm')\n",
    "#pre_and_flight[pre_and_flight.index >= flight_start].sort_values('timeStamp').Exp0_OxygenTemp.plot(marker='.', alpha=0.5, linestyle='None', figsize=(11, 9))\n",
    "sns.lineplot(\n",
    "            x = pre_and_flight[pre_and_flight.timeStamp > flight_start].timeStamp,\n",
    "            y = pre_and_flight[pre_and_flight.timeStamp > flight_start][cols_to_keep[2]]\n",
    "            )\n",
    "\n",
    "y_min = pre_and_flight[pre_and_flight.timeStamp > flight_start][cols_to_keep[2]].min()\n",
    "y_max = pre_and_flight[pre_and_flight.timeStamp > flight_start][cols_to_keep[2]].max()\n",
    "\n",
    "events_list = [flight_start, lift_off, de_spin, end_rocket_propulsion, apogee, parachute_1, parachute_2, landing]\n",
    "for event in events_list:\n",
    "    plt.axvline(x=event, color='r')\n",
    "#plt.axvline(x=flight_start, color = 'black')\n",
    "#plt.axvline(x=lift_off, color = 'blue')\n",
    "#plt.axvline(x=de_spin, color = 'red')\n",
    "#plt.axvline(x=end_rocket_propulsion, color = 'r')\n",
    "#plt.axvline(x=apogee, color = 'r')\n",
    "#plt.axvline(x=parachute_1, color = 'grey')\n",
    "#plt.axvline(x=parachute_2, color = 'grey')\n",
    "#plt.axvline(x=landing, color = 'black')\n",
    "plt.text(flight_start, random.uniform(y_min,y_max), 'Flight Start', horizontalalignment='left', size='small', color='black')\n",
    "plt.text(lift_off, random.uniform(y_min,y_max), 'Lift-Off', horizontalalignment='left', size='small', color='black')\n",
    "plt.text(de_spin, random.uniform(y_min,y_max), 'De Spin', horizontalalignment='left', size='small', color='black')\n",
    "plt.text(end_rocket_propulsion, random.uniform(y_min,y_max), 'End Rocket Propulsion', horizontalalignment='left', size='small', color='black')\n",
    "plt.text(apogee, random.uniform(y_min,y_max), 'Apogee', horizontalalignment='left', size='small', color='black')\n",
    "plt.text(parachute_1, random.uniform(y_min,y_max), 'Parachute 1', horizontalalignment='left', size='small', color='black')\n",
    "plt.text(parachute_2, random.uniform(y_min,y_max), 'Parachute 2', horizontalalignment='left', size='small', color='black')\n",
    "plt.text(landing, random.uniform(y_min,y_max), 'Landing', horizontalalignment='left', size='small', color='black')\n",
    "\n",
    "plt.show()"
   ]
  },
  {
   "cell_type": "code",
   "execution_count": null,
   "metadata": {},
   "outputs": [],
   "source": [
    "import matplotlib.pyplot as plt\n",
    "from matplotlib import dates\n",
    "import seaborn as sns\n",
    "# Use seaborn style defaults and set the default figure size\n",
    "sns.set(rc={'figure.figsize':(22, 8)})\n",
    "flight_start = pd.to_datetime('2019-03-11 10:01').tz_localize('Europe/Stockholm')\n",
    "#pre_and_flight[pre_and_flight.index >= flight_start].sort_values('timeStamp').Exp0_OxygenTemp.plot(marker='.', alpha=0.5, linestyle='None', figsize=(11, 9))\n",
    "sns.lineplot(\n",
    "            x = pre_and_flight[pre_and_flight.timeStamp > flight_start].timeStamp,\n",
    "            y = pre_and_flight[pre_and_flight.timeStamp > flight_start][cols_to_keep[3]]\n",
    "            )\n",
    "\n",
    "y_min = pre_and_flight[pre_and_flight.timeStamp > flight_start][cols_to_keep[3]].min()\n",
    "y_max = pre_and_flight[pre_and_flight.timeStamp > flight_start][cols_to_keep[3]].max()\n",
    "\n",
    "events_list = [flight_start, lift_off, de_spin, end_rocket_propulsion, apogee, parachute_1, parachute_2, landing]\n",
    "for event in events_list:\n",
    "    plt.axvline(x=event, color='r')\n",
    "#plt.axvline(x=flight_start, color = 'black')\n",
    "#plt.axvline(x=lift_off, color = 'blue')\n",
    "#plt.axvline(x=de_spin, color = 'red')\n",
    "#plt.axvline(x=end_rocket_propulsion, color = 'r')\n",
    "#plt.axvline(x=apogee, color = 'r')\n",
    "#plt.axvline(x=parachute_1, color = 'grey')\n",
    "#plt.axvline(x=parachute_2, color = 'grey')\n",
    "#plt.axvline(x=landing, color = 'black')\n",
    "plt.text(flight_start, random.uniform(y_min,y_max), 'Flight Start', horizontalalignment='left', size='small', color='black')\n",
    "plt.text(lift_off, random.uniform(y_min,y_max), 'Lift-Off', horizontalalignment='left', size='small', color='black')\n",
    "plt.text(de_spin, random.uniform(y_min,y_max), 'De Spin', horizontalalignment='left', size='small', color='black')\n",
    "plt.text(end_rocket_propulsion, random.uniform(y_min,y_max), 'End Rocket Propulsion', horizontalalignment='left', size='small', color='black')\n",
    "plt.text(apogee, random.uniform(y_min,y_max), 'Apogee', horizontalalignment='left', size='small', color='black')\n",
    "plt.text(parachute_1, random.uniform(y_min,y_max), 'Parachute 1', horizontalalignment='left', size='small', color='black')\n",
    "plt.text(parachute_2, random.uniform(y_min,y_max), 'Parachute 2', horizontalalignment='left', size='small', color='black')\n",
    "plt.text(landing, random.uniform(y_min,y_max), 'Landing', horizontalalignment='left', size='small', color='black')\n",
    "\n",
    "plt.show()"
   ]
  },
  {
   "cell_type": "code",
   "execution_count": null,
   "metadata": {},
   "outputs": [],
   "source": [
    "import matplotlib.pyplot as plt\n",
    "from matplotlib import dates\n",
    "import seaborn as sns\n",
    "# Use seaborn style defaults and set the default figure size\n",
    "sns.set(rc={'figure.figsize':(22, 8)})\n",
    "flight_start = pd.to_datetime('2019-03-11 10:01').tz_localize('Europe/Stockholm')\n",
    "#pre_and_flight[pre_and_flight.index >= flight_start].sort_values('timeStamp').Exp0_OxygenTemp.plot(marker='.', alpha=0.5, linestyle='None', figsize=(11, 9))\n",
    "sns.lineplot(\n",
    "            x = pre_and_flight[pre_and_flight.timeStamp > flight_start].timeStamp,\n",
    "            y = pre_and_flight[pre_and_flight.timeStamp > flight_start][cols_to_keep[4]]\n",
    "            )\n",
    "\n",
    "y_min = pre_and_flight[pre_and_flight.timeStamp > flight_start][cols_to_keep[4]].min()\n",
    "y_max = pre_and_flight[pre_and_flight.timeStamp > flight_start][cols_to_keep[4]].max()\n",
    "\n",
    "events_list = [flight_start, lift_off, de_spin, end_rocket_propulsion, apogee, parachute_1, parachute_2, landing]\n",
    "for event in events_list:\n",
    "    plt.axvline(x=event, color='r')\n",
    "#plt.axvline(x=flight_start, color = 'black')\n",
    "#plt.axvline(x=lift_off, color = 'blue')\n",
    "#plt.axvline(x=de_spin, color = 'red')\n",
    "#plt.axvline(x=end_rocket_propulsion, color = 'r')\n",
    "#plt.axvline(x=apogee, color = 'r')\n",
    "#plt.axvline(x=parachute_1, color = 'grey')\n",
    "#plt.axvline(x=parachute_2, color = 'grey')\n",
    "#plt.axvline(x=landing, color = 'black')\n",
    "plt.text(flight_start, random.uniform(y_min,y_max), 'Flight Start', horizontalalignment='left', size='small', color='black')\n",
    "plt.text(lift_off, random.uniform(y_min,y_max), 'Lift-Off', horizontalalignment='left', size='small', color='black')\n",
    "plt.text(de_spin, random.uniform(y_min,y_max), 'De Spin', horizontalalignment='left', size='small', color='black')\n",
    "plt.text(end_rocket_propulsion, random.uniform(y_min,y_max), 'End Rocket Propulsion', horizontalalignment='left', size='small', color='black')\n",
    "plt.text(apogee, random.uniform(y_min,y_max), 'Apogee', horizontalalignment='left', size='small', color='black')\n",
    "plt.text(parachute_1, random.uniform(y_min,y_max), 'Parachute 1', horizontalalignment='left', size='small', color='black')\n",
    "plt.text(parachute_2, random.uniform(y_min,y_max), 'Parachute 2', horizontalalignment='left', size='small', color='black')\n",
    "plt.text(landing, random.uniform(y_min,y_max), 'Landing', horizontalalignment='left', size='small', color='black')\n",
    "\n",
    "plt.show()"
   ]
  },
  {
   "cell_type": "code",
   "execution_count": null,
   "metadata": {},
   "outputs": [],
   "source": [
    "import matplotlib.pyplot as plt\n",
    "from matplotlib import dates\n",
    "import seaborn as sns\n",
    "# Use seaborn style defaults and set the default figure size\n",
    "sns.set(rc={'figure.figsize':(22, 8)})\n",
    "flight_start = pd.to_datetime('2019-03-11 10:01').tz_localize('Europe/Stockholm')\n",
    "#pre_and_flight[pre_and_flight.index >= flight_start].sort_values('timeStamp').Exp0_OxygenTemp.plot(marker='.', alpha=0.5, linestyle='None', figsize=(11, 9))\n",
    "sns.lineplot(\n",
    "            x = pre_and_flight[pre_and_flight.timeStamp > flight_start].timeStamp,\n",
    "            y = pre_and_flight[pre_and_flight.timeStamp > flight_start][cols_to_keep[5]]\n",
    "            )\n",
    "\n",
    "y_min = pre_and_flight[pre_and_flight.timeStamp > flight_start][cols_to_keep[5]].min()\n",
    "y_max = pre_and_flight[pre_and_flight.timeStamp > flight_start][cols_to_keep[5]].max()\n",
    "\n",
    "events_list = [flight_start, lift_off, de_spin, end_rocket_propulsion, apogee, parachute_1, parachute_2, landing]\n",
    "for event in events_list:\n",
    "    plt.axvline(x=event, color='r')\n",
    "#plt.axvline(x=flight_start, color = 'black')\n",
    "#plt.axvline(x=lift_off, color = 'blue')\n",
    "#plt.axvline(x=de_spin, color = 'red')\n",
    "#plt.axvline(x=end_rocket_propulsion, color = 'r')\n",
    "#plt.axvline(x=apogee, color = 'r')\n",
    "#plt.axvline(x=parachute_1, color = 'grey')\n",
    "#plt.axvline(x=parachute_2, color = 'grey')\n",
    "#plt.axvline(x=landing, color = 'black')\n",
    "plt.text(flight_start, random.uniform(y_min,y_max), 'Flight Start', horizontalalignment='left', size='small', color='black')\n",
    "plt.text(lift_off, random.uniform(y_min,y_max), 'Lift-Off', horizontalalignment='left', size='small', color='black')\n",
    "plt.text(de_spin, random.uniform(y_min,y_max), 'De Spin', horizontalalignment='left', size='small', color='black')\n",
    "plt.text(end_rocket_propulsion, random.uniform(y_min,y_max), 'End Rocket Propulsion', horizontalalignment='left', size='small', color='black')\n",
    "plt.text(apogee, random.uniform(y_min,y_max), 'Apogee', horizontalalignment='left', size='small', color='black')\n",
    "plt.text(parachute_1, random.uniform(y_min,y_max), 'Parachute 1', horizontalalignment='left', size='small', color='black')\n",
    "plt.text(parachute_2, random.uniform(y_min,y_max), 'Parachute 2', horizontalalignment='left', size='small', color='black')\n",
    "plt.text(landing, random.uniform(y_min,y_max), 'Landing', horizontalalignment='left', size='small', color='black')\n",
    "\n",
    "plt.show()"
   ]
  },
  {
   "cell_type": "code",
   "execution_count": null,
   "metadata": {},
   "outputs": [],
   "source": [
    "import matplotlib.pyplot as plt\n",
    "from matplotlib import dates\n",
    "import seaborn as sns\n",
    "# Use seaborn style defaults and set the default figure size\n",
    "sns.set(rc={'figure.figsize':(22, 8)})\n",
    "flight_start = pd.to_datetime('2019-03-11 10:01').tz_localize('Europe/Stockholm')\n",
    "#pre_and_flight[pre_and_flight.index >= flight_start].sort_values('timeStamp').Exp0_OxygenTemp.plot(marker='.', alpha=0.5, linestyle='None', figsize=(11, 9))\n",
    "sns.lineplot(\n",
    "            x = pre_and_flight[pre_and_flight.timeStamp > flight_start].timeStamp,\n",
    "            y = pre_and_flight[pre_and_flight.timeStamp > flight_start][cols_to_keep[6]]\n",
    "            )\n",
    "\n",
    "y_min = pre_and_flight[pre_and_flight.timeStamp > flight_start][cols_to_keep[6]].min()\n",
    "y_max = pre_and_flight[pre_and_flight.timeStamp > flight_start][cols_to_keep[6]].max()\n",
    "\n",
    "events_list = [flight_start, lift_off, de_spin, end_rocket_propulsion, apogee, parachute_1, parachute_2, landing]\n",
    "for event in events_list:\n",
    "    plt.axvline(x=event, color='r')\n",
    "#plt.axvline(x=flight_start, color = 'black')\n",
    "#plt.axvline(x=lift_off, color = 'blue')\n",
    "#plt.axvline(x=de_spin, color = 'red')\n",
    "#plt.axvline(x=end_rocket_propulsion, color = 'r')\n",
    "#plt.axvline(x=apogee, color = 'r')\n",
    "#plt.axvline(x=parachute_1, color = 'grey')\n",
    "#plt.axvline(x=parachute_2, color = 'grey')\n",
    "#plt.axvline(x=landing, color = 'black')\n",
    "plt.text(flight_start, random.uniform(y_min,y_max), 'Flight Start', horizontalalignment='left', size='small', color='black')\n",
    "plt.text(lift_off, random.uniform(y_min,y_max), 'Lift-Off', horizontalalignment='left', size='small', color='black')\n",
    "plt.text(de_spin, random.uniform(y_min,y_max), 'De Spin', horizontalalignment='left', size='small', color='black')\n",
    "plt.text(end_rocket_propulsion, random.uniform(y_min,y_max), 'End Rocket Propulsion', horizontalalignment='left', size='small', color='black')\n",
    "plt.text(apogee, random.uniform(y_min,y_max), 'Apogee', horizontalalignment='left', size='small', color='black')\n",
    "plt.text(parachute_1, random.uniform(y_min,y_max), 'Parachute 1', horizontalalignment='left', size='small', color='black')\n",
    "plt.text(parachute_2, random.uniform(y_min,y_max), 'Parachute 2', horizontalalignment='left', size='small', color='black')\n",
    "plt.text(landing, random.uniform(y_min,y_max), 'Landing', horizontalalignment='left', size='small', color='black')\n",
    "\n",
    "plt.show()"
   ]
  },
  {
   "cell_type": "code",
   "execution_count": null,
   "metadata": {},
   "outputs": [],
   "source": []
  },
  {
   "cell_type": "code",
   "execution_count": null,
   "metadata": {},
   "outputs": [],
   "source": []
  },
  {
   "cell_type": "code",
   "execution_count": null,
   "metadata": {},
   "outputs": [],
   "source": []
  }
 ],
 "metadata": {
  "kernelspec": {
   "display_name": "Python 3",
   "language": "python",
   "name": "python3"
  },
  "language_info": {
   "codemirror_mode": {
    "name": "ipython",
    "version": 3
   },
   "file_extension": ".py",
   "mimetype": "text/x-python",
   "name": "python",
   "nbconvert_exporter": "python",
   "pygments_lexer": "ipython3",
   "version": "3.6.8"
  }
 },
 "nbformat": 4,
 "nbformat_minor": 2
}
